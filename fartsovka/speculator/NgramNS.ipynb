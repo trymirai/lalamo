{
  "nbformat": 4,
  "nbformat_minor": 0,
  "metadata": {
    "colab": {
      "provenance": [],
      "gpuType": "T4"
    },
    "kernelspec": {
      "name": "python3",
      "display_name": "Python 3"
    },
    "language_info": {
      "name": "python"
    },
    "accelerator": "GPU",
    "widgets": {
      "application/vnd.jupyter.widget-state+json": {
        "49462555bb2a4a348bff8e67c57f2215": {
          "model_module": "@jupyter-widgets/controls",
          "model_name": "HBoxModel",
          "model_module_version": "1.5.0",
          "state": {
            "_dom_classes": [],
            "_model_module": "@jupyter-widgets/controls",
            "_model_module_version": "1.5.0",
            "_model_name": "HBoxModel",
            "_view_count": null,
            "_view_module": "@jupyter-widgets/controls",
            "_view_module_version": "1.5.0",
            "_view_name": "HBoxView",
            "box_style": "",
            "children": [
              "IPY_MODEL_61cbbda19d2c4dd2bb9abb3641b1a88c",
              "IPY_MODEL_2212fb12f47547c09d5305fab30c000b",
              "IPY_MODEL_3e4ff8d48f5d4aa7a8ec0e5ee589259a"
            ],
            "layout": "IPY_MODEL_156a9ed4c6ed4a4abd685c6ed3141fdb"
          }
        },
        "61cbbda19d2c4dd2bb9abb3641b1a88c": {
          "model_module": "@jupyter-widgets/controls",
          "model_name": "HTMLModel",
          "model_module_version": "1.5.0",
          "state": {
            "_dom_classes": [],
            "_model_module": "@jupyter-widgets/controls",
            "_model_module_version": "1.5.0",
            "_model_name": "HTMLModel",
            "_view_count": null,
            "_view_module": "@jupyter-widgets/controls",
            "_view_module_version": "1.5.0",
            "_view_name": "HTMLView",
            "description": "",
            "description_tooltip": null,
            "layout": "IPY_MODEL_1562481dc9f54075a2c955e55b809509",
            "placeholder": "​",
            "style": "IPY_MODEL_cf537ced5d3d415896dac54e645a42c1",
            "value": "tokenizer_config.json: 100%"
          }
        },
        "2212fb12f47547c09d5305fab30c000b": {
          "model_module": "@jupyter-widgets/controls",
          "model_name": "FloatProgressModel",
          "model_module_version": "1.5.0",
          "state": {
            "_dom_classes": [],
            "_model_module": "@jupyter-widgets/controls",
            "_model_module_version": "1.5.0",
            "_model_name": "FloatProgressModel",
            "_view_count": null,
            "_view_module": "@jupyter-widgets/controls",
            "_view_module_version": "1.5.0",
            "_view_name": "ProgressView",
            "bar_style": "success",
            "description": "",
            "description_tooltip": null,
            "layout": "IPY_MODEL_89be130509f64d778b9a109c0fc3ff36",
            "max": 54528,
            "min": 0,
            "orientation": "horizontal",
            "style": "IPY_MODEL_06bb8199bc0f46feac4f7b8e586a258b",
            "value": 54528
          }
        },
        "3e4ff8d48f5d4aa7a8ec0e5ee589259a": {
          "model_module": "@jupyter-widgets/controls",
          "model_name": "HTMLModel",
          "model_module_version": "1.5.0",
          "state": {
            "_dom_classes": [],
            "_model_module": "@jupyter-widgets/controls",
            "_model_module_version": "1.5.0",
            "_model_name": "HTMLModel",
            "_view_count": null,
            "_view_module": "@jupyter-widgets/controls",
            "_view_module_version": "1.5.0",
            "_view_name": "HTMLView",
            "description": "",
            "description_tooltip": null,
            "layout": "IPY_MODEL_2a76f7973afc4d21aa01b6068a50914e",
            "placeholder": "​",
            "style": "IPY_MODEL_cab00b090ee6438d9e9f2ce9a818ace9",
            "value": " 54.5k/54.5k [00:00&lt;00:00, 1.42MB/s]"
          }
        },
        "156a9ed4c6ed4a4abd685c6ed3141fdb": {
          "model_module": "@jupyter-widgets/base",
          "model_name": "LayoutModel",
          "model_module_version": "1.2.0",
          "state": {
            "_model_module": "@jupyter-widgets/base",
            "_model_module_version": "1.2.0",
            "_model_name": "LayoutModel",
            "_view_count": null,
            "_view_module": "@jupyter-widgets/base",
            "_view_module_version": "1.2.0",
            "_view_name": "LayoutView",
            "align_content": null,
            "align_items": null,
            "align_self": null,
            "border": null,
            "bottom": null,
            "display": null,
            "flex": null,
            "flex_flow": null,
            "grid_area": null,
            "grid_auto_columns": null,
            "grid_auto_flow": null,
            "grid_auto_rows": null,
            "grid_column": null,
            "grid_gap": null,
            "grid_row": null,
            "grid_template_areas": null,
            "grid_template_columns": null,
            "grid_template_rows": null,
            "height": null,
            "justify_content": null,
            "justify_items": null,
            "left": null,
            "margin": null,
            "max_height": null,
            "max_width": null,
            "min_height": null,
            "min_width": null,
            "object_fit": null,
            "object_position": null,
            "order": null,
            "overflow": null,
            "overflow_x": null,
            "overflow_y": null,
            "padding": null,
            "right": null,
            "top": null,
            "visibility": null,
            "width": null
          }
        },
        "1562481dc9f54075a2c955e55b809509": {
          "model_module": "@jupyter-widgets/base",
          "model_name": "LayoutModel",
          "model_module_version": "1.2.0",
          "state": {
            "_model_module": "@jupyter-widgets/base",
            "_model_module_version": "1.2.0",
            "_model_name": "LayoutModel",
            "_view_count": null,
            "_view_module": "@jupyter-widgets/base",
            "_view_module_version": "1.2.0",
            "_view_name": "LayoutView",
            "align_content": null,
            "align_items": null,
            "align_self": null,
            "border": null,
            "bottom": null,
            "display": null,
            "flex": null,
            "flex_flow": null,
            "grid_area": null,
            "grid_auto_columns": null,
            "grid_auto_flow": null,
            "grid_auto_rows": null,
            "grid_column": null,
            "grid_gap": null,
            "grid_row": null,
            "grid_template_areas": null,
            "grid_template_columns": null,
            "grid_template_rows": null,
            "height": null,
            "justify_content": null,
            "justify_items": null,
            "left": null,
            "margin": null,
            "max_height": null,
            "max_width": null,
            "min_height": null,
            "min_width": null,
            "object_fit": null,
            "object_position": null,
            "order": null,
            "overflow": null,
            "overflow_x": null,
            "overflow_y": null,
            "padding": null,
            "right": null,
            "top": null,
            "visibility": null,
            "width": null
          }
        },
        "cf537ced5d3d415896dac54e645a42c1": {
          "model_module": "@jupyter-widgets/controls",
          "model_name": "DescriptionStyleModel",
          "model_module_version": "1.5.0",
          "state": {
            "_model_module": "@jupyter-widgets/controls",
            "_model_module_version": "1.5.0",
            "_model_name": "DescriptionStyleModel",
            "_view_count": null,
            "_view_module": "@jupyter-widgets/base",
            "_view_module_version": "1.2.0",
            "_view_name": "StyleView",
            "description_width": ""
          }
        },
        "89be130509f64d778b9a109c0fc3ff36": {
          "model_module": "@jupyter-widgets/base",
          "model_name": "LayoutModel",
          "model_module_version": "1.2.0",
          "state": {
            "_model_module": "@jupyter-widgets/base",
            "_model_module_version": "1.2.0",
            "_model_name": "LayoutModel",
            "_view_count": null,
            "_view_module": "@jupyter-widgets/base",
            "_view_module_version": "1.2.0",
            "_view_name": "LayoutView",
            "align_content": null,
            "align_items": null,
            "align_self": null,
            "border": null,
            "bottom": null,
            "display": null,
            "flex": null,
            "flex_flow": null,
            "grid_area": null,
            "grid_auto_columns": null,
            "grid_auto_flow": null,
            "grid_auto_rows": null,
            "grid_column": null,
            "grid_gap": null,
            "grid_row": null,
            "grid_template_areas": null,
            "grid_template_columns": null,
            "grid_template_rows": null,
            "height": null,
            "justify_content": null,
            "justify_items": null,
            "left": null,
            "margin": null,
            "max_height": null,
            "max_width": null,
            "min_height": null,
            "min_width": null,
            "object_fit": null,
            "object_position": null,
            "order": null,
            "overflow": null,
            "overflow_x": null,
            "overflow_y": null,
            "padding": null,
            "right": null,
            "top": null,
            "visibility": null,
            "width": null
          }
        },
        "06bb8199bc0f46feac4f7b8e586a258b": {
          "model_module": "@jupyter-widgets/controls",
          "model_name": "ProgressStyleModel",
          "model_module_version": "1.5.0",
          "state": {
            "_model_module": "@jupyter-widgets/controls",
            "_model_module_version": "1.5.0",
            "_model_name": "ProgressStyleModel",
            "_view_count": null,
            "_view_module": "@jupyter-widgets/base",
            "_view_module_version": "1.2.0",
            "_view_name": "StyleView",
            "bar_color": null,
            "description_width": ""
          }
        },
        "2a76f7973afc4d21aa01b6068a50914e": {
          "model_module": "@jupyter-widgets/base",
          "model_name": "LayoutModel",
          "model_module_version": "1.2.0",
          "state": {
            "_model_module": "@jupyter-widgets/base",
            "_model_module_version": "1.2.0",
            "_model_name": "LayoutModel",
            "_view_count": null,
            "_view_module": "@jupyter-widgets/base",
            "_view_module_version": "1.2.0",
            "_view_name": "LayoutView",
            "align_content": null,
            "align_items": null,
            "align_self": null,
            "border": null,
            "bottom": null,
            "display": null,
            "flex": null,
            "flex_flow": null,
            "grid_area": null,
            "grid_auto_columns": null,
            "grid_auto_flow": null,
            "grid_auto_rows": null,
            "grid_column": null,
            "grid_gap": null,
            "grid_row": null,
            "grid_template_areas": null,
            "grid_template_columns": null,
            "grid_template_rows": null,
            "height": null,
            "justify_content": null,
            "justify_items": null,
            "left": null,
            "margin": null,
            "max_height": null,
            "max_width": null,
            "min_height": null,
            "min_width": null,
            "object_fit": null,
            "object_position": null,
            "order": null,
            "overflow": null,
            "overflow_x": null,
            "overflow_y": null,
            "padding": null,
            "right": null,
            "top": null,
            "visibility": null,
            "width": null
          }
        },
        "cab00b090ee6438d9e9f2ce9a818ace9": {
          "model_module": "@jupyter-widgets/controls",
          "model_name": "DescriptionStyleModel",
          "model_module_version": "1.5.0",
          "state": {
            "_model_module": "@jupyter-widgets/controls",
            "_model_module_version": "1.5.0",
            "_model_name": "DescriptionStyleModel",
            "_view_count": null,
            "_view_module": "@jupyter-widgets/base",
            "_view_module_version": "1.2.0",
            "_view_name": "StyleView",
            "description_width": ""
          }
        },
        "15d4b9a8d20246c687e92963c06aa580": {
          "model_module": "@jupyter-widgets/controls",
          "model_name": "HBoxModel",
          "model_module_version": "1.5.0",
          "state": {
            "_dom_classes": [],
            "_model_module": "@jupyter-widgets/controls",
            "_model_module_version": "1.5.0",
            "_model_name": "HBoxModel",
            "_view_count": null,
            "_view_module": "@jupyter-widgets/controls",
            "_view_module_version": "1.5.0",
            "_view_name": "HBoxView",
            "box_style": "",
            "children": [
              "IPY_MODEL_029be52c44ab426980ce0fa008122600",
              "IPY_MODEL_322b0080e3b94b9083c87e3cafd15bcc",
              "IPY_MODEL_af425f8f9fc54dd0b681120edc94a7e3"
            ],
            "layout": "IPY_MODEL_f83fe140aa2d48d4892cbc13c87bc2b8"
          }
        },
        "029be52c44ab426980ce0fa008122600": {
          "model_module": "@jupyter-widgets/controls",
          "model_name": "HTMLModel",
          "model_module_version": "1.5.0",
          "state": {
            "_dom_classes": [],
            "_model_module": "@jupyter-widgets/controls",
            "_model_module_version": "1.5.0",
            "_model_name": "HTMLModel",
            "_view_count": null,
            "_view_module": "@jupyter-widgets/controls",
            "_view_module_version": "1.5.0",
            "_view_name": "HTMLView",
            "description": "",
            "description_tooltip": null,
            "layout": "IPY_MODEL_508f01ba94e24a08af7fa3828a5bd37c",
            "placeholder": "​",
            "style": "IPY_MODEL_88c950d8a4c040f7b5bc71c00c4787b7",
            "value": "tokenizer.json: 100%"
          }
        },
        "322b0080e3b94b9083c87e3cafd15bcc": {
          "model_module": "@jupyter-widgets/controls",
          "model_name": "FloatProgressModel",
          "model_module_version": "1.5.0",
          "state": {
            "_dom_classes": [],
            "_model_module": "@jupyter-widgets/controls",
            "_model_module_version": "1.5.0",
            "_model_name": "FloatProgressModel",
            "_view_count": null,
            "_view_module": "@jupyter-widgets/controls",
            "_view_module_version": "1.5.0",
            "_view_name": "ProgressView",
            "bar_style": "success",
            "description": "",
            "description_tooltip": null,
            "layout": "IPY_MODEL_fb25bdff0ac24c0d97901857b1ea2922",
            "max": 9085657,
            "min": 0,
            "orientation": "horizontal",
            "style": "IPY_MODEL_d4be3c1d73a54b1481603d58403f10ae",
            "value": 9085657
          }
        },
        "af425f8f9fc54dd0b681120edc94a7e3": {
          "model_module": "@jupyter-widgets/controls",
          "model_name": "HTMLModel",
          "model_module_version": "1.5.0",
          "state": {
            "_dom_classes": [],
            "_model_module": "@jupyter-widgets/controls",
            "_model_module_version": "1.5.0",
            "_model_name": "HTMLModel",
            "_view_count": null,
            "_view_module": "@jupyter-widgets/controls",
            "_view_module_version": "1.5.0",
            "_view_name": "HTMLView",
            "description": "",
            "description_tooltip": null,
            "layout": "IPY_MODEL_cd36dd82bc184b7593f8914967020084",
            "placeholder": "​",
            "style": "IPY_MODEL_1b8da728187c48a7bc44ca63ca7009bd",
            "value": " 9.09M/9.09M [00:00&lt;00:00, 14.6MB/s]"
          }
        },
        "f83fe140aa2d48d4892cbc13c87bc2b8": {
          "model_module": "@jupyter-widgets/base",
          "model_name": "LayoutModel",
          "model_module_version": "1.2.0",
          "state": {
            "_model_module": "@jupyter-widgets/base",
            "_model_module_version": "1.2.0",
            "_model_name": "LayoutModel",
            "_view_count": null,
            "_view_module": "@jupyter-widgets/base",
            "_view_module_version": "1.2.0",
            "_view_name": "LayoutView",
            "align_content": null,
            "align_items": null,
            "align_self": null,
            "border": null,
            "bottom": null,
            "display": null,
            "flex": null,
            "flex_flow": null,
            "grid_area": null,
            "grid_auto_columns": null,
            "grid_auto_flow": null,
            "grid_auto_rows": null,
            "grid_column": null,
            "grid_gap": null,
            "grid_row": null,
            "grid_template_areas": null,
            "grid_template_columns": null,
            "grid_template_rows": null,
            "height": null,
            "justify_content": null,
            "justify_items": null,
            "left": null,
            "margin": null,
            "max_height": null,
            "max_width": null,
            "min_height": null,
            "min_width": null,
            "object_fit": null,
            "object_position": null,
            "order": null,
            "overflow": null,
            "overflow_x": null,
            "overflow_y": null,
            "padding": null,
            "right": null,
            "top": null,
            "visibility": null,
            "width": null
          }
        },
        "508f01ba94e24a08af7fa3828a5bd37c": {
          "model_module": "@jupyter-widgets/base",
          "model_name": "LayoutModel",
          "model_module_version": "1.2.0",
          "state": {
            "_model_module": "@jupyter-widgets/base",
            "_model_module_version": "1.2.0",
            "_model_name": "LayoutModel",
            "_view_count": null,
            "_view_module": "@jupyter-widgets/base",
            "_view_module_version": "1.2.0",
            "_view_name": "LayoutView",
            "align_content": null,
            "align_items": null,
            "align_self": null,
            "border": null,
            "bottom": null,
            "display": null,
            "flex": null,
            "flex_flow": null,
            "grid_area": null,
            "grid_auto_columns": null,
            "grid_auto_flow": null,
            "grid_auto_rows": null,
            "grid_column": null,
            "grid_gap": null,
            "grid_row": null,
            "grid_template_areas": null,
            "grid_template_columns": null,
            "grid_template_rows": null,
            "height": null,
            "justify_content": null,
            "justify_items": null,
            "left": null,
            "margin": null,
            "max_height": null,
            "max_width": null,
            "min_height": null,
            "min_width": null,
            "object_fit": null,
            "object_position": null,
            "order": null,
            "overflow": null,
            "overflow_x": null,
            "overflow_y": null,
            "padding": null,
            "right": null,
            "top": null,
            "visibility": null,
            "width": null
          }
        },
        "88c950d8a4c040f7b5bc71c00c4787b7": {
          "model_module": "@jupyter-widgets/controls",
          "model_name": "DescriptionStyleModel",
          "model_module_version": "1.5.0",
          "state": {
            "_model_module": "@jupyter-widgets/controls",
            "_model_module_version": "1.5.0",
            "_model_name": "DescriptionStyleModel",
            "_view_count": null,
            "_view_module": "@jupyter-widgets/base",
            "_view_module_version": "1.2.0",
            "_view_name": "StyleView",
            "description_width": ""
          }
        },
        "fb25bdff0ac24c0d97901857b1ea2922": {
          "model_module": "@jupyter-widgets/base",
          "model_name": "LayoutModel",
          "model_module_version": "1.2.0",
          "state": {
            "_model_module": "@jupyter-widgets/base",
            "_model_module_version": "1.2.0",
            "_model_name": "LayoutModel",
            "_view_count": null,
            "_view_module": "@jupyter-widgets/base",
            "_view_module_version": "1.2.0",
            "_view_name": "LayoutView",
            "align_content": null,
            "align_items": null,
            "align_self": null,
            "border": null,
            "bottom": null,
            "display": null,
            "flex": null,
            "flex_flow": null,
            "grid_area": null,
            "grid_auto_columns": null,
            "grid_auto_flow": null,
            "grid_auto_rows": null,
            "grid_column": null,
            "grid_gap": null,
            "grid_row": null,
            "grid_template_areas": null,
            "grid_template_columns": null,
            "grid_template_rows": null,
            "height": null,
            "justify_content": null,
            "justify_items": null,
            "left": null,
            "margin": null,
            "max_height": null,
            "max_width": null,
            "min_height": null,
            "min_width": null,
            "object_fit": null,
            "object_position": null,
            "order": null,
            "overflow": null,
            "overflow_x": null,
            "overflow_y": null,
            "padding": null,
            "right": null,
            "top": null,
            "visibility": null,
            "width": null
          }
        },
        "d4be3c1d73a54b1481603d58403f10ae": {
          "model_module": "@jupyter-widgets/controls",
          "model_name": "ProgressStyleModel",
          "model_module_version": "1.5.0",
          "state": {
            "_model_module": "@jupyter-widgets/controls",
            "_model_module_version": "1.5.0",
            "_model_name": "ProgressStyleModel",
            "_view_count": null,
            "_view_module": "@jupyter-widgets/base",
            "_view_module_version": "1.2.0",
            "_view_name": "StyleView",
            "bar_color": null,
            "description_width": ""
          }
        },
        "cd36dd82bc184b7593f8914967020084": {
          "model_module": "@jupyter-widgets/base",
          "model_name": "LayoutModel",
          "model_module_version": "1.2.0",
          "state": {
            "_model_module": "@jupyter-widgets/base",
            "_model_module_version": "1.2.0",
            "_model_name": "LayoutModel",
            "_view_count": null,
            "_view_module": "@jupyter-widgets/base",
            "_view_module_version": "1.2.0",
            "_view_name": "LayoutView",
            "align_content": null,
            "align_items": null,
            "align_self": null,
            "border": null,
            "bottom": null,
            "display": null,
            "flex": null,
            "flex_flow": null,
            "grid_area": null,
            "grid_auto_columns": null,
            "grid_auto_flow": null,
            "grid_auto_rows": null,
            "grid_column": null,
            "grid_gap": null,
            "grid_row": null,
            "grid_template_areas": null,
            "grid_template_columns": null,
            "grid_template_rows": null,
            "height": null,
            "justify_content": null,
            "justify_items": null,
            "left": null,
            "margin": null,
            "max_height": null,
            "max_width": null,
            "min_height": null,
            "min_width": null,
            "object_fit": null,
            "object_position": null,
            "order": null,
            "overflow": null,
            "overflow_x": null,
            "overflow_y": null,
            "padding": null,
            "right": null,
            "top": null,
            "visibility": null,
            "width": null
          }
        },
        "1b8da728187c48a7bc44ca63ca7009bd": {
          "model_module": "@jupyter-widgets/controls",
          "model_name": "DescriptionStyleModel",
          "model_module_version": "1.5.0",
          "state": {
            "_model_module": "@jupyter-widgets/controls",
            "_model_module_version": "1.5.0",
            "_model_name": "DescriptionStyleModel",
            "_view_count": null,
            "_view_module": "@jupyter-widgets/base",
            "_view_module_version": "1.2.0",
            "_view_name": "StyleView",
            "description_width": ""
          }
        },
        "d1a81e9cee2a48058e72b9ee625fced2": {
          "model_module": "@jupyter-widgets/controls",
          "model_name": "HBoxModel",
          "model_module_version": "1.5.0",
          "state": {
            "_dom_classes": [],
            "_model_module": "@jupyter-widgets/controls",
            "_model_module_version": "1.5.0",
            "_model_name": "HBoxModel",
            "_view_count": null,
            "_view_module": "@jupyter-widgets/controls",
            "_view_module_version": "1.5.0",
            "_view_name": "HBoxView",
            "box_style": "",
            "children": [
              "IPY_MODEL_78fc9fe36c694ce1ac6916843cdb7a6e",
              "IPY_MODEL_4c9f637fb26f47d19deb2dc9395eaa7d",
              "IPY_MODEL_4c93a4db0f384043869491afc3e06f48"
            ],
            "layout": "IPY_MODEL_5545dcaa7945408a9072597eb3b7f2ea"
          }
        },
        "78fc9fe36c694ce1ac6916843cdb7a6e": {
          "model_module": "@jupyter-widgets/controls",
          "model_name": "HTMLModel",
          "model_module_version": "1.5.0",
          "state": {
            "_dom_classes": [],
            "_model_module": "@jupyter-widgets/controls",
            "_model_module_version": "1.5.0",
            "_model_name": "HTMLModel",
            "_view_count": null,
            "_view_module": "@jupyter-widgets/controls",
            "_view_module_version": "1.5.0",
            "_view_name": "HTMLView",
            "description": "",
            "description_tooltip": null,
            "layout": "IPY_MODEL_afe41c663a654bc3a8b77cc5d3a08b7f",
            "placeholder": "​",
            "style": "IPY_MODEL_c485d806ef8546d3946e17868c823a0b",
            "value": "special_tokens_map.json: 100%"
          }
        },
        "4c9f637fb26f47d19deb2dc9395eaa7d": {
          "model_module": "@jupyter-widgets/controls",
          "model_name": "FloatProgressModel",
          "model_module_version": "1.5.0",
          "state": {
            "_dom_classes": [],
            "_model_module": "@jupyter-widgets/controls",
            "_model_module_version": "1.5.0",
            "_model_name": "FloatProgressModel",
            "_view_count": null,
            "_view_module": "@jupyter-widgets/controls",
            "_view_module_version": "1.5.0",
            "_view_name": "ProgressView",
            "bar_style": "success",
            "description": "",
            "description_tooltip": null,
            "layout": "IPY_MODEL_560ff65328674895bbe8bf38e5a71b4e",
            "max": 296,
            "min": 0,
            "orientation": "horizontal",
            "style": "IPY_MODEL_fde324d1ca8246d7b7f02ad4529fbe10",
            "value": 296
          }
        },
        "4c93a4db0f384043869491afc3e06f48": {
          "model_module": "@jupyter-widgets/controls",
          "model_name": "HTMLModel",
          "model_module_version": "1.5.0",
          "state": {
            "_dom_classes": [],
            "_model_module": "@jupyter-widgets/controls",
            "_model_module_version": "1.5.0",
            "_model_name": "HTMLModel",
            "_view_count": null,
            "_view_module": "@jupyter-widgets/controls",
            "_view_module_version": "1.5.0",
            "_view_name": "HTMLView",
            "description": "",
            "description_tooltip": null,
            "layout": "IPY_MODEL_a736a1a3908d4f69a151d22f66e77a5f",
            "placeholder": "​",
            "style": "IPY_MODEL_b8717831dfb84cbbb22c9713f4bd953f",
            "value": " 296/296 [00:00&lt;00:00, 9.27kB/s]"
          }
        },
        "5545dcaa7945408a9072597eb3b7f2ea": {
          "model_module": "@jupyter-widgets/base",
          "model_name": "LayoutModel",
          "model_module_version": "1.2.0",
          "state": {
            "_model_module": "@jupyter-widgets/base",
            "_model_module_version": "1.2.0",
            "_model_name": "LayoutModel",
            "_view_count": null,
            "_view_module": "@jupyter-widgets/base",
            "_view_module_version": "1.2.0",
            "_view_name": "LayoutView",
            "align_content": null,
            "align_items": null,
            "align_self": null,
            "border": null,
            "bottom": null,
            "display": null,
            "flex": null,
            "flex_flow": null,
            "grid_area": null,
            "grid_auto_columns": null,
            "grid_auto_flow": null,
            "grid_auto_rows": null,
            "grid_column": null,
            "grid_gap": null,
            "grid_row": null,
            "grid_template_areas": null,
            "grid_template_columns": null,
            "grid_template_rows": null,
            "height": null,
            "justify_content": null,
            "justify_items": null,
            "left": null,
            "margin": null,
            "max_height": null,
            "max_width": null,
            "min_height": null,
            "min_width": null,
            "object_fit": null,
            "object_position": null,
            "order": null,
            "overflow": null,
            "overflow_x": null,
            "overflow_y": null,
            "padding": null,
            "right": null,
            "top": null,
            "visibility": null,
            "width": null
          }
        },
        "afe41c663a654bc3a8b77cc5d3a08b7f": {
          "model_module": "@jupyter-widgets/base",
          "model_name": "LayoutModel",
          "model_module_version": "1.2.0",
          "state": {
            "_model_module": "@jupyter-widgets/base",
            "_model_module_version": "1.2.0",
            "_model_name": "LayoutModel",
            "_view_count": null,
            "_view_module": "@jupyter-widgets/base",
            "_view_module_version": "1.2.0",
            "_view_name": "LayoutView",
            "align_content": null,
            "align_items": null,
            "align_self": null,
            "border": null,
            "bottom": null,
            "display": null,
            "flex": null,
            "flex_flow": null,
            "grid_area": null,
            "grid_auto_columns": null,
            "grid_auto_flow": null,
            "grid_auto_rows": null,
            "grid_column": null,
            "grid_gap": null,
            "grid_row": null,
            "grid_template_areas": null,
            "grid_template_columns": null,
            "grid_template_rows": null,
            "height": null,
            "justify_content": null,
            "justify_items": null,
            "left": null,
            "margin": null,
            "max_height": null,
            "max_width": null,
            "min_height": null,
            "min_width": null,
            "object_fit": null,
            "object_position": null,
            "order": null,
            "overflow": null,
            "overflow_x": null,
            "overflow_y": null,
            "padding": null,
            "right": null,
            "top": null,
            "visibility": null,
            "width": null
          }
        },
        "c485d806ef8546d3946e17868c823a0b": {
          "model_module": "@jupyter-widgets/controls",
          "model_name": "DescriptionStyleModel",
          "model_module_version": "1.5.0",
          "state": {
            "_model_module": "@jupyter-widgets/controls",
            "_model_module_version": "1.5.0",
            "_model_name": "DescriptionStyleModel",
            "_view_count": null,
            "_view_module": "@jupyter-widgets/base",
            "_view_module_version": "1.2.0",
            "_view_name": "StyleView",
            "description_width": ""
          }
        },
        "560ff65328674895bbe8bf38e5a71b4e": {
          "model_module": "@jupyter-widgets/base",
          "model_name": "LayoutModel",
          "model_module_version": "1.2.0",
          "state": {
            "_model_module": "@jupyter-widgets/base",
            "_model_module_version": "1.2.0",
            "_model_name": "LayoutModel",
            "_view_count": null,
            "_view_module": "@jupyter-widgets/base",
            "_view_module_version": "1.2.0",
            "_view_name": "LayoutView",
            "align_content": null,
            "align_items": null,
            "align_self": null,
            "border": null,
            "bottom": null,
            "display": null,
            "flex": null,
            "flex_flow": null,
            "grid_area": null,
            "grid_auto_columns": null,
            "grid_auto_flow": null,
            "grid_auto_rows": null,
            "grid_column": null,
            "grid_gap": null,
            "grid_row": null,
            "grid_template_areas": null,
            "grid_template_columns": null,
            "grid_template_rows": null,
            "height": null,
            "justify_content": null,
            "justify_items": null,
            "left": null,
            "margin": null,
            "max_height": null,
            "max_width": null,
            "min_height": null,
            "min_width": null,
            "object_fit": null,
            "object_position": null,
            "order": null,
            "overflow": null,
            "overflow_x": null,
            "overflow_y": null,
            "padding": null,
            "right": null,
            "top": null,
            "visibility": null,
            "width": null
          }
        },
        "fde324d1ca8246d7b7f02ad4529fbe10": {
          "model_module": "@jupyter-widgets/controls",
          "model_name": "ProgressStyleModel",
          "model_module_version": "1.5.0",
          "state": {
            "_model_module": "@jupyter-widgets/controls",
            "_model_module_version": "1.5.0",
            "_model_name": "ProgressStyleModel",
            "_view_count": null,
            "_view_module": "@jupyter-widgets/base",
            "_view_module_version": "1.2.0",
            "_view_name": "StyleView",
            "bar_color": null,
            "description_width": ""
          }
        },
        "a736a1a3908d4f69a151d22f66e77a5f": {
          "model_module": "@jupyter-widgets/base",
          "model_name": "LayoutModel",
          "model_module_version": "1.2.0",
          "state": {
            "_model_module": "@jupyter-widgets/base",
            "_model_module_version": "1.2.0",
            "_model_name": "LayoutModel",
            "_view_count": null,
            "_view_module": "@jupyter-widgets/base",
            "_view_module_version": "1.2.0",
            "_view_name": "LayoutView",
            "align_content": null,
            "align_items": null,
            "align_self": null,
            "border": null,
            "bottom": null,
            "display": null,
            "flex": null,
            "flex_flow": null,
            "grid_area": null,
            "grid_auto_columns": null,
            "grid_auto_flow": null,
            "grid_auto_rows": null,
            "grid_column": null,
            "grid_gap": null,
            "grid_row": null,
            "grid_template_areas": null,
            "grid_template_columns": null,
            "grid_template_rows": null,
            "height": null,
            "justify_content": null,
            "justify_items": null,
            "left": null,
            "margin": null,
            "max_height": null,
            "max_width": null,
            "min_height": null,
            "min_width": null,
            "object_fit": null,
            "object_position": null,
            "order": null,
            "overflow": null,
            "overflow_x": null,
            "overflow_y": null,
            "padding": null,
            "right": null,
            "top": null,
            "visibility": null,
            "width": null
          }
        },
        "b8717831dfb84cbbb22c9713f4bd953f": {
          "model_module": "@jupyter-widgets/controls",
          "model_name": "DescriptionStyleModel",
          "model_module_version": "1.5.0",
          "state": {
            "_model_module": "@jupyter-widgets/controls",
            "_model_module_version": "1.5.0",
            "_model_name": "DescriptionStyleModel",
            "_view_count": null,
            "_view_module": "@jupyter-widgets/base",
            "_view_module_version": "1.2.0",
            "_view_name": "StyleView",
            "description_width": ""
          }
        },
        "553581e750cf460eb4c8223949161447": {
          "model_module": "@jupyter-widgets/controls",
          "model_name": "HBoxModel",
          "model_module_version": "1.5.0",
          "state": {
            "_dom_classes": [],
            "_model_module": "@jupyter-widgets/controls",
            "_model_module_version": "1.5.0",
            "_model_name": "HBoxModel",
            "_view_count": null,
            "_view_module": "@jupyter-widgets/controls",
            "_view_module_version": "1.5.0",
            "_view_name": "HBoxView",
            "box_style": "",
            "children": [
              "IPY_MODEL_46b14720d6f8476ca72b8ed8c970d824",
              "IPY_MODEL_c6f77ace4afb4129ad57c4f3e6d0dd69",
              "IPY_MODEL_da43daaa3f6e4f1cb74049f67779657e"
            ],
            "layout": "IPY_MODEL_40d06c44b9ab4b0ca8d0b3b559c3e0f5"
          }
        },
        "46b14720d6f8476ca72b8ed8c970d824": {
          "model_module": "@jupyter-widgets/controls",
          "model_name": "HTMLModel",
          "model_module_version": "1.5.0",
          "state": {
            "_dom_classes": [],
            "_model_module": "@jupyter-widgets/controls",
            "_model_module_version": "1.5.0",
            "_model_name": "HTMLModel",
            "_view_count": null,
            "_view_module": "@jupyter-widgets/controls",
            "_view_module_version": "1.5.0",
            "_view_name": "HTMLView",
            "description": "",
            "description_tooltip": null,
            "layout": "IPY_MODEL_0d9814f6e1ca491cbfc2eb0c9392f6d7",
            "placeholder": "​",
            "style": "IPY_MODEL_b5f3dc4f11ee4e9694fc46c87a6fbff7",
            "value": "config.json: 100%"
          }
        },
        "c6f77ace4afb4129ad57c4f3e6d0dd69": {
          "model_module": "@jupyter-widgets/controls",
          "model_name": "FloatProgressModel",
          "model_module_version": "1.5.0",
          "state": {
            "_dom_classes": [],
            "_model_module": "@jupyter-widgets/controls",
            "_model_module_version": "1.5.0",
            "_model_name": "FloatProgressModel",
            "_view_count": null,
            "_view_module": "@jupyter-widgets/controls",
            "_view_module_version": "1.5.0",
            "_view_name": "ProgressView",
            "bar_style": "success",
            "description": "",
            "description_tooltip": null,
            "layout": "IPY_MODEL_a40bbac92e014513af4c0f3ee2709ee2",
            "max": 877,
            "min": 0,
            "orientation": "horizontal",
            "style": "IPY_MODEL_4a265544ada74240bf09cca3d49782fc",
            "value": 877
          }
        },
        "da43daaa3f6e4f1cb74049f67779657e": {
          "model_module": "@jupyter-widgets/controls",
          "model_name": "HTMLModel",
          "model_module_version": "1.5.0",
          "state": {
            "_dom_classes": [],
            "_model_module": "@jupyter-widgets/controls",
            "_model_module_version": "1.5.0",
            "_model_name": "HTMLModel",
            "_view_count": null,
            "_view_module": "@jupyter-widgets/controls",
            "_view_module_version": "1.5.0",
            "_view_name": "HTMLView",
            "description": "",
            "description_tooltip": null,
            "layout": "IPY_MODEL_0366129298d04dffbe7c0c603fb40a88",
            "placeholder": "​",
            "style": "IPY_MODEL_4bc8de08037f45528e1335be84c00032",
            "value": " 877/877 [00:00&lt;00:00, 36.2kB/s]"
          }
        },
        "40d06c44b9ab4b0ca8d0b3b559c3e0f5": {
          "model_module": "@jupyter-widgets/base",
          "model_name": "LayoutModel",
          "model_module_version": "1.2.0",
          "state": {
            "_model_module": "@jupyter-widgets/base",
            "_model_module_version": "1.2.0",
            "_model_name": "LayoutModel",
            "_view_count": null,
            "_view_module": "@jupyter-widgets/base",
            "_view_module_version": "1.2.0",
            "_view_name": "LayoutView",
            "align_content": null,
            "align_items": null,
            "align_self": null,
            "border": null,
            "bottom": null,
            "display": null,
            "flex": null,
            "flex_flow": null,
            "grid_area": null,
            "grid_auto_columns": null,
            "grid_auto_flow": null,
            "grid_auto_rows": null,
            "grid_column": null,
            "grid_gap": null,
            "grid_row": null,
            "grid_template_areas": null,
            "grid_template_columns": null,
            "grid_template_rows": null,
            "height": null,
            "justify_content": null,
            "justify_items": null,
            "left": null,
            "margin": null,
            "max_height": null,
            "max_width": null,
            "min_height": null,
            "min_width": null,
            "object_fit": null,
            "object_position": null,
            "order": null,
            "overflow": null,
            "overflow_x": null,
            "overflow_y": null,
            "padding": null,
            "right": null,
            "top": null,
            "visibility": null,
            "width": null
          }
        },
        "0d9814f6e1ca491cbfc2eb0c9392f6d7": {
          "model_module": "@jupyter-widgets/base",
          "model_name": "LayoutModel",
          "model_module_version": "1.2.0",
          "state": {
            "_model_module": "@jupyter-widgets/base",
            "_model_module_version": "1.2.0",
            "_model_name": "LayoutModel",
            "_view_count": null,
            "_view_module": "@jupyter-widgets/base",
            "_view_module_version": "1.2.0",
            "_view_name": "LayoutView",
            "align_content": null,
            "align_items": null,
            "align_self": null,
            "border": null,
            "bottom": null,
            "display": null,
            "flex": null,
            "flex_flow": null,
            "grid_area": null,
            "grid_auto_columns": null,
            "grid_auto_flow": null,
            "grid_auto_rows": null,
            "grid_column": null,
            "grid_gap": null,
            "grid_row": null,
            "grid_template_areas": null,
            "grid_template_columns": null,
            "grid_template_rows": null,
            "height": null,
            "justify_content": null,
            "justify_items": null,
            "left": null,
            "margin": null,
            "max_height": null,
            "max_width": null,
            "min_height": null,
            "min_width": null,
            "object_fit": null,
            "object_position": null,
            "order": null,
            "overflow": null,
            "overflow_x": null,
            "overflow_y": null,
            "padding": null,
            "right": null,
            "top": null,
            "visibility": null,
            "width": null
          }
        },
        "b5f3dc4f11ee4e9694fc46c87a6fbff7": {
          "model_module": "@jupyter-widgets/controls",
          "model_name": "DescriptionStyleModel",
          "model_module_version": "1.5.0",
          "state": {
            "_model_module": "@jupyter-widgets/controls",
            "_model_module_version": "1.5.0",
            "_model_name": "DescriptionStyleModel",
            "_view_count": null,
            "_view_module": "@jupyter-widgets/base",
            "_view_module_version": "1.2.0",
            "_view_name": "StyleView",
            "description_width": ""
          }
        },
        "a40bbac92e014513af4c0f3ee2709ee2": {
          "model_module": "@jupyter-widgets/base",
          "model_name": "LayoutModel",
          "model_module_version": "1.2.0",
          "state": {
            "_model_module": "@jupyter-widgets/base",
            "_model_module_version": "1.2.0",
            "_model_name": "LayoutModel",
            "_view_count": null,
            "_view_module": "@jupyter-widgets/base",
            "_view_module_version": "1.2.0",
            "_view_name": "LayoutView",
            "align_content": null,
            "align_items": null,
            "align_self": null,
            "border": null,
            "bottom": null,
            "display": null,
            "flex": null,
            "flex_flow": null,
            "grid_area": null,
            "grid_auto_columns": null,
            "grid_auto_flow": null,
            "grid_auto_rows": null,
            "grid_column": null,
            "grid_gap": null,
            "grid_row": null,
            "grid_template_areas": null,
            "grid_template_columns": null,
            "grid_template_rows": null,
            "height": null,
            "justify_content": null,
            "justify_items": null,
            "left": null,
            "margin": null,
            "max_height": null,
            "max_width": null,
            "min_height": null,
            "min_width": null,
            "object_fit": null,
            "object_position": null,
            "order": null,
            "overflow": null,
            "overflow_x": null,
            "overflow_y": null,
            "padding": null,
            "right": null,
            "top": null,
            "visibility": null,
            "width": null
          }
        },
        "4a265544ada74240bf09cca3d49782fc": {
          "model_module": "@jupyter-widgets/controls",
          "model_name": "ProgressStyleModel",
          "model_module_version": "1.5.0",
          "state": {
            "_model_module": "@jupyter-widgets/controls",
            "_model_module_version": "1.5.0",
            "_model_name": "ProgressStyleModel",
            "_view_count": null,
            "_view_module": "@jupyter-widgets/base",
            "_view_module_version": "1.2.0",
            "_view_name": "StyleView",
            "bar_color": null,
            "description_width": ""
          }
        },
        "0366129298d04dffbe7c0c603fb40a88": {
          "model_module": "@jupyter-widgets/base",
          "model_name": "LayoutModel",
          "model_module_version": "1.2.0",
          "state": {
            "_model_module": "@jupyter-widgets/base",
            "_model_module_version": "1.2.0",
            "_model_name": "LayoutModel",
            "_view_count": null,
            "_view_module": "@jupyter-widgets/base",
            "_view_module_version": "1.2.0",
            "_view_name": "LayoutView",
            "align_content": null,
            "align_items": null,
            "align_self": null,
            "border": null,
            "bottom": null,
            "display": null,
            "flex": null,
            "flex_flow": null,
            "grid_area": null,
            "grid_auto_columns": null,
            "grid_auto_flow": null,
            "grid_auto_rows": null,
            "grid_column": null,
            "grid_gap": null,
            "grid_row": null,
            "grid_template_areas": null,
            "grid_template_columns": null,
            "grid_template_rows": null,
            "height": null,
            "justify_content": null,
            "justify_items": null,
            "left": null,
            "margin": null,
            "max_height": null,
            "max_width": null,
            "min_height": null,
            "min_width": null,
            "object_fit": null,
            "object_position": null,
            "order": null,
            "overflow": null,
            "overflow_x": null,
            "overflow_y": null,
            "padding": null,
            "right": null,
            "top": null,
            "visibility": null,
            "width": null
          }
        },
        "4bc8de08037f45528e1335be84c00032": {
          "model_module": "@jupyter-widgets/controls",
          "model_name": "DescriptionStyleModel",
          "model_module_version": "1.5.0",
          "state": {
            "_model_module": "@jupyter-widgets/controls",
            "_model_module_version": "1.5.0",
            "_model_name": "DescriptionStyleModel",
            "_view_count": null,
            "_view_module": "@jupyter-widgets/base",
            "_view_module_version": "1.2.0",
            "_view_name": "StyleView",
            "description_width": ""
          }
        },
        "8f4ff9ed1f9b463cba8412b1f731ab5a": {
          "model_module": "@jupyter-widgets/controls",
          "model_name": "HBoxModel",
          "model_module_version": "1.5.0",
          "state": {
            "_dom_classes": [],
            "_model_module": "@jupyter-widgets/controls",
            "_model_module_version": "1.5.0",
            "_model_name": "HBoxModel",
            "_view_count": null,
            "_view_module": "@jupyter-widgets/controls",
            "_view_module_version": "1.5.0",
            "_view_name": "HBoxView",
            "box_style": "",
            "children": [
              "IPY_MODEL_e03302de160945e387418fef9df59a7c",
              "IPY_MODEL_28a1c9407ac84e47b62a4a4612ef6a2a",
              "IPY_MODEL_fcd22541a27640019b0f2a4d7acbff08"
            ],
            "layout": "IPY_MODEL_3594f30d272743d39803db97f0725f80"
          }
        },
        "e03302de160945e387418fef9df59a7c": {
          "model_module": "@jupyter-widgets/controls",
          "model_name": "HTMLModel",
          "model_module_version": "1.5.0",
          "state": {
            "_dom_classes": [],
            "_model_module": "@jupyter-widgets/controls",
            "_model_module_version": "1.5.0",
            "_model_name": "HTMLModel",
            "_view_count": null,
            "_view_module": "@jupyter-widgets/controls",
            "_view_module_version": "1.5.0",
            "_view_name": "HTMLView",
            "description": "",
            "description_tooltip": null,
            "layout": "IPY_MODEL_b199114a759c478883902f9fa3c21264",
            "placeholder": "​",
            "style": "IPY_MODEL_680838c87b474a6c9bdd2e4e8649603a",
            "value": "model.safetensors: 100%"
          }
        },
        "28a1c9407ac84e47b62a4a4612ef6a2a": {
          "model_module": "@jupyter-widgets/controls",
          "model_name": "FloatProgressModel",
          "model_module_version": "1.5.0",
          "state": {
            "_dom_classes": [],
            "_model_module": "@jupyter-widgets/controls",
            "_model_module_version": "1.5.0",
            "_model_name": "FloatProgressModel",
            "_view_count": null,
            "_view_module": "@jupyter-widgets/controls",
            "_view_module_version": "1.5.0",
            "_view_name": "ProgressView",
            "bar_style": "success",
            "description": "",
            "description_tooltip": null,
            "layout": "IPY_MODEL_7e1c50e60d474c828673b3a5fe977741",
            "max": 2471645608,
            "min": 0,
            "orientation": "horizontal",
            "style": "IPY_MODEL_ffda2a5b565f4323914db3248941a3eb",
            "value": 2471645608
          }
        },
        "fcd22541a27640019b0f2a4d7acbff08": {
          "model_module": "@jupyter-widgets/controls",
          "model_name": "HTMLModel",
          "model_module_version": "1.5.0",
          "state": {
            "_dom_classes": [],
            "_model_module": "@jupyter-widgets/controls",
            "_model_module_version": "1.5.0",
            "_model_name": "HTMLModel",
            "_view_count": null,
            "_view_module": "@jupyter-widgets/controls",
            "_view_module_version": "1.5.0",
            "_view_name": "HTMLView",
            "description": "",
            "description_tooltip": null,
            "layout": "IPY_MODEL_719d26715a7d4a1d97620532aac5210c",
            "placeholder": "​",
            "style": "IPY_MODEL_18fd5357b5314fb6ad0c633662ff0c4c",
            "value": " 2.47G/2.47G [00:58&lt;00:00, 42.6MB/s]"
          }
        },
        "3594f30d272743d39803db97f0725f80": {
          "model_module": "@jupyter-widgets/base",
          "model_name": "LayoutModel",
          "model_module_version": "1.2.0",
          "state": {
            "_model_module": "@jupyter-widgets/base",
            "_model_module_version": "1.2.0",
            "_model_name": "LayoutModel",
            "_view_count": null,
            "_view_module": "@jupyter-widgets/base",
            "_view_module_version": "1.2.0",
            "_view_name": "LayoutView",
            "align_content": null,
            "align_items": null,
            "align_self": null,
            "border": null,
            "bottom": null,
            "display": null,
            "flex": null,
            "flex_flow": null,
            "grid_area": null,
            "grid_auto_columns": null,
            "grid_auto_flow": null,
            "grid_auto_rows": null,
            "grid_column": null,
            "grid_gap": null,
            "grid_row": null,
            "grid_template_areas": null,
            "grid_template_columns": null,
            "grid_template_rows": null,
            "height": null,
            "justify_content": null,
            "justify_items": null,
            "left": null,
            "margin": null,
            "max_height": null,
            "max_width": null,
            "min_height": null,
            "min_width": null,
            "object_fit": null,
            "object_position": null,
            "order": null,
            "overflow": null,
            "overflow_x": null,
            "overflow_y": null,
            "padding": null,
            "right": null,
            "top": null,
            "visibility": null,
            "width": null
          }
        },
        "b199114a759c478883902f9fa3c21264": {
          "model_module": "@jupyter-widgets/base",
          "model_name": "LayoutModel",
          "model_module_version": "1.2.0",
          "state": {
            "_model_module": "@jupyter-widgets/base",
            "_model_module_version": "1.2.0",
            "_model_name": "LayoutModel",
            "_view_count": null,
            "_view_module": "@jupyter-widgets/base",
            "_view_module_version": "1.2.0",
            "_view_name": "LayoutView",
            "align_content": null,
            "align_items": null,
            "align_self": null,
            "border": null,
            "bottom": null,
            "display": null,
            "flex": null,
            "flex_flow": null,
            "grid_area": null,
            "grid_auto_columns": null,
            "grid_auto_flow": null,
            "grid_auto_rows": null,
            "grid_column": null,
            "grid_gap": null,
            "grid_row": null,
            "grid_template_areas": null,
            "grid_template_columns": null,
            "grid_template_rows": null,
            "height": null,
            "justify_content": null,
            "justify_items": null,
            "left": null,
            "margin": null,
            "max_height": null,
            "max_width": null,
            "min_height": null,
            "min_width": null,
            "object_fit": null,
            "object_position": null,
            "order": null,
            "overflow": null,
            "overflow_x": null,
            "overflow_y": null,
            "padding": null,
            "right": null,
            "top": null,
            "visibility": null,
            "width": null
          }
        },
        "680838c87b474a6c9bdd2e4e8649603a": {
          "model_module": "@jupyter-widgets/controls",
          "model_name": "DescriptionStyleModel",
          "model_module_version": "1.5.0",
          "state": {
            "_model_module": "@jupyter-widgets/controls",
            "_model_module_version": "1.5.0",
            "_model_name": "DescriptionStyleModel",
            "_view_count": null,
            "_view_module": "@jupyter-widgets/base",
            "_view_module_version": "1.2.0",
            "_view_name": "StyleView",
            "description_width": ""
          }
        },
        "7e1c50e60d474c828673b3a5fe977741": {
          "model_module": "@jupyter-widgets/base",
          "model_name": "LayoutModel",
          "model_module_version": "1.2.0",
          "state": {
            "_model_module": "@jupyter-widgets/base",
            "_model_module_version": "1.2.0",
            "_model_name": "LayoutModel",
            "_view_count": null,
            "_view_module": "@jupyter-widgets/base",
            "_view_module_version": "1.2.0",
            "_view_name": "LayoutView",
            "align_content": null,
            "align_items": null,
            "align_self": null,
            "border": null,
            "bottom": null,
            "display": null,
            "flex": null,
            "flex_flow": null,
            "grid_area": null,
            "grid_auto_columns": null,
            "grid_auto_flow": null,
            "grid_auto_rows": null,
            "grid_column": null,
            "grid_gap": null,
            "grid_row": null,
            "grid_template_areas": null,
            "grid_template_columns": null,
            "grid_template_rows": null,
            "height": null,
            "justify_content": null,
            "justify_items": null,
            "left": null,
            "margin": null,
            "max_height": null,
            "max_width": null,
            "min_height": null,
            "min_width": null,
            "object_fit": null,
            "object_position": null,
            "order": null,
            "overflow": null,
            "overflow_x": null,
            "overflow_y": null,
            "padding": null,
            "right": null,
            "top": null,
            "visibility": null,
            "width": null
          }
        },
        "ffda2a5b565f4323914db3248941a3eb": {
          "model_module": "@jupyter-widgets/controls",
          "model_name": "ProgressStyleModel",
          "model_module_version": "1.5.0",
          "state": {
            "_model_module": "@jupyter-widgets/controls",
            "_model_module_version": "1.5.0",
            "_model_name": "ProgressStyleModel",
            "_view_count": null,
            "_view_module": "@jupyter-widgets/base",
            "_view_module_version": "1.2.0",
            "_view_name": "StyleView",
            "bar_color": null,
            "description_width": ""
          }
        },
        "719d26715a7d4a1d97620532aac5210c": {
          "model_module": "@jupyter-widgets/base",
          "model_name": "LayoutModel",
          "model_module_version": "1.2.0",
          "state": {
            "_model_module": "@jupyter-widgets/base",
            "_model_module_version": "1.2.0",
            "_model_name": "LayoutModel",
            "_view_count": null,
            "_view_module": "@jupyter-widgets/base",
            "_view_module_version": "1.2.0",
            "_view_name": "LayoutView",
            "align_content": null,
            "align_items": null,
            "align_self": null,
            "border": null,
            "bottom": null,
            "display": null,
            "flex": null,
            "flex_flow": null,
            "grid_area": null,
            "grid_auto_columns": null,
            "grid_auto_flow": null,
            "grid_auto_rows": null,
            "grid_column": null,
            "grid_gap": null,
            "grid_row": null,
            "grid_template_areas": null,
            "grid_template_columns": null,
            "grid_template_rows": null,
            "height": null,
            "justify_content": null,
            "justify_items": null,
            "left": null,
            "margin": null,
            "max_height": null,
            "max_width": null,
            "min_height": null,
            "min_width": null,
            "object_fit": null,
            "object_position": null,
            "order": null,
            "overflow": null,
            "overflow_x": null,
            "overflow_y": null,
            "padding": null,
            "right": null,
            "top": null,
            "visibility": null,
            "width": null
          }
        },
        "18fd5357b5314fb6ad0c633662ff0c4c": {
          "model_module": "@jupyter-widgets/controls",
          "model_name": "DescriptionStyleModel",
          "model_module_version": "1.5.0",
          "state": {
            "_model_module": "@jupyter-widgets/controls",
            "_model_module_version": "1.5.0",
            "_model_name": "DescriptionStyleModel",
            "_view_count": null,
            "_view_module": "@jupyter-widgets/base",
            "_view_module_version": "1.2.0",
            "_view_name": "StyleView",
            "description_width": ""
          }
        },
        "58c7f33cb66945459dc04760af8d3b14": {
          "model_module": "@jupyter-widgets/controls",
          "model_name": "HBoxModel",
          "model_module_version": "1.5.0",
          "state": {
            "_dom_classes": [],
            "_model_module": "@jupyter-widgets/controls",
            "_model_module_version": "1.5.0",
            "_model_name": "HBoxModel",
            "_view_count": null,
            "_view_module": "@jupyter-widgets/controls",
            "_view_module_version": "1.5.0",
            "_view_name": "HBoxView",
            "box_style": "",
            "children": [
              "IPY_MODEL_b17b46901b4143d49fb5e86483fb977c",
              "IPY_MODEL_1f5d0d1179994479b5f0544dad5a5b10",
              "IPY_MODEL_2a453adb16484ae698dfce9b39ac4856"
            ],
            "layout": "IPY_MODEL_a6836be4e239438096292dd1ddd7459b"
          }
        },
        "b17b46901b4143d49fb5e86483fb977c": {
          "model_module": "@jupyter-widgets/controls",
          "model_name": "HTMLModel",
          "model_module_version": "1.5.0",
          "state": {
            "_dom_classes": [],
            "_model_module": "@jupyter-widgets/controls",
            "_model_module_version": "1.5.0",
            "_model_name": "HTMLModel",
            "_view_count": null,
            "_view_module": "@jupyter-widgets/controls",
            "_view_module_version": "1.5.0",
            "_view_name": "HTMLView",
            "description": "",
            "description_tooltip": null,
            "layout": "IPY_MODEL_3d76607d5aa9438f95a66fba895a977f",
            "placeholder": "​",
            "style": "IPY_MODEL_2d59c6b51d08489d8e5624cb715a8a7d",
            "value": "generation_config.json: 100%"
          }
        },
        "1f5d0d1179994479b5f0544dad5a5b10": {
          "model_module": "@jupyter-widgets/controls",
          "model_name": "FloatProgressModel",
          "model_module_version": "1.5.0",
          "state": {
            "_dom_classes": [],
            "_model_module": "@jupyter-widgets/controls",
            "_model_module_version": "1.5.0",
            "_model_name": "FloatProgressModel",
            "_view_count": null,
            "_view_module": "@jupyter-widgets/controls",
            "_view_module_version": "1.5.0",
            "_view_name": "ProgressView",
            "bar_style": "success",
            "description": "",
            "description_tooltip": null,
            "layout": "IPY_MODEL_25ddf18b0d3c4c8c9c18702a6777da4c",
            "max": 189,
            "min": 0,
            "orientation": "horizontal",
            "style": "IPY_MODEL_9865dc02337344439353dbd9887c408a",
            "value": 189
          }
        },
        "2a453adb16484ae698dfce9b39ac4856": {
          "model_module": "@jupyter-widgets/controls",
          "model_name": "HTMLModel",
          "model_module_version": "1.5.0",
          "state": {
            "_dom_classes": [],
            "_model_module": "@jupyter-widgets/controls",
            "_model_module_version": "1.5.0",
            "_model_name": "HTMLModel",
            "_view_count": null,
            "_view_module": "@jupyter-widgets/controls",
            "_view_module_version": "1.5.0",
            "_view_name": "HTMLView",
            "description": "",
            "description_tooltip": null,
            "layout": "IPY_MODEL_c1f1a91ca81544c6a82fc425321e63c1",
            "placeholder": "​",
            "style": "IPY_MODEL_6aa69d73a19b42cab10a0de5e4882465",
            "value": " 189/189 [00:00&lt;00:00, 11.7kB/s]"
          }
        },
        "a6836be4e239438096292dd1ddd7459b": {
          "model_module": "@jupyter-widgets/base",
          "model_name": "LayoutModel",
          "model_module_version": "1.2.0",
          "state": {
            "_model_module": "@jupyter-widgets/base",
            "_model_module_version": "1.2.0",
            "_model_name": "LayoutModel",
            "_view_count": null,
            "_view_module": "@jupyter-widgets/base",
            "_view_module_version": "1.2.0",
            "_view_name": "LayoutView",
            "align_content": null,
            "align_items": null,
            "align_self": null,
            "border": null,
            "bottom": null,
            "display": null,
            "flex": null,
            "flex_flow": null,
            "grid_area": null,
            "grid_auto_columns": null,
            "grid_auto_flow": null,
            "grid_auto_rows": null,
            "grid_column": null,
            "grid_gap": null,
            "grid_row": null,
            "grid_template_areas": null,
            "grid_template_columns": null,
            "grid_template_rows": null,
            "height": null,
            "justify_content": null,
            "justify_items": null,
            "left": null,
            "margin": null,
            "max_height": null,
            "max_width": null,
            "min_height": null,
            "min_width": null,
            "object_fit": null,
            "object_position": null,
            "order": null,
            "overflow": null,
            "overflow_x": null,
            "overflow_y": null,
            "padding": null,
            "right": null,
            "top": null,
            "visibility": null,
            "width": null
          }
        },
        "3d76607d5aa9438f95a66fba895a977f": {
          "model_module": "@jupyter-widgets/base",
          "model_name": "LayoutModel",
          "model_module_version": "1.2.0",
          "state": {
            "_model_module": "@jupyter-widgets/base",
            "_model_module_version": "1.2.0",
            "_model_name": "LayoutModel",
            "_view_count": null,
            "_view_module": "@jupyter-widgets/base",
            "_view_module_version": "1.2.0",
            "_view_name": "LayoutView",
            "align_content": null,
            "align_items": null,
            "align_self": null,
            "border": null,
            "bottom": null,
            "display": null,
            "flex": null,
            "flex_flow": null,
            "grid_area": null,
            "grid_auto_columns": null,
            "grid_auto_flow": null,
            "grid_auto_rows": null,
            "grid_column": null,
            "grid_gap": null,
            "grid_row": null,
            "grid_template_areas": null,
            "grid_template_columns": null,
            "grid_template_rows": null,
            "height": null,
            "justify_content": null,
            "justify_items": null,
            "left": null,
            "margin": null,
            "max_height": null,
            "max_width": null,
            "min_height": null,
            "min_width": null,
            "object_fit": null,
            "object_position": null,
            "order": null,
            "overflow": null,
            "overflow_x": null,
            "overflow_y": null,
            "padding": null,
            "right": null,
            "top": null,
            "visibility": null,
            "width": null
          }
        },
        "2d59c6b51d08489d8e5624cb715a8a7d": {
          "model_module": "@jupyter-widgets/controls",
          "model_name": "DescriptionStyleModel",
          "model_module_version": "1.5.0",
          "state": {
            "_model_module": "@jupyter-widgets/controls",
            "_model_module_version": "1.5.0",
            "_model_name": "DescriptionStyleModel",
            "_view_count": null,
            "_view_module": "@jupyter-widgets/base",
            "_view_module_version": "1.2.0",
            "_view_name": "StyleView",
            "description_width": ""
          }
        },
        "25ddf18b0d3c4c8c9c18702a6777da4c": {
          "model_module": "@jupyter-widgets/base",
          "model_name": "LayoutModel",
          "model_module_version": "1.2.0",
          "state": {
            "_model_module": "@jupyter-widgets/base",
            "_model_module_version": "1.2.0",
            "_model_name": "LayoutModel",
            "_view_count": null,
            "_view_module": "@jupyter-widgets/base",
            "_view_module_version": "1.2.0",
            "_view_name": "LayoutView",
            "align_content": null,
            "align_items": null,
            "align_self": null,
            "border": null,
            "bottom": null,
            "display": null,
            "flex": null,
            "flex_flow": null,
            "grid_area": null,
            "grid_auto_columns": null,
            "grid_auto_flow": null,
            "grid_auto_rows": null,
            "grid_column": null,
            "grid_gap": null,
            "grid_row": null,
            "grid_template_areas": null,
            "grid_template_columns": null,
            "grid_template_rows": null,
            "height": null,
            "justify_content": null,
            "justify_items": null,
            "left": null,
            "margin": null,
            "max_height": null,
            "max_width": null,
            "min_height": null,
            "min_width": null,
            "object_fit": null,
            "object_position": null,
            "order": null,
            "overflow": null,
            "overflow_x": null,
            "overflow_y": null,
            "padding": null,
            "right": null,
            "top": null,
            "visibility": null,
            "width": null
          }
        },
        "9865dc02337344439353dbd9887c408a": {
          "model_module": "@jupyter-widgets/controls",
          "model_name": "ProgressStyleModel",
          "model_module_version": "1.5.0",
          "state": {
            "_model_module": "@jupyter-widgets/controls",
            "_model_module_version": "1.5.0",
            "_model_name": "ProgressStyleModel",
            "_view_count": null,
            "_view_module": "@jupyter-widgets/base",
            "_view_module_version": "1.2.0",
            "_view_name": "StyleView",
            "bar_color": null,
            "description_width": ""
          }
        },
        "c1f1a91ca81544c6a82fc425321e63c1": {
          "model_module": "@jupyter-widgets/base",
          "model_name": "LayoutModel",
          "model_module_version": "1.2.0",
          "state": {
            "_model_module": "@jupyter-widgets/base",
            "_model_module_version": "1.2.0",
            "_model_name": "LayoutModel",
            "_view_count": null,
            "_view_module": "@jupyter-widgets/base",
            "_view_module_version": "1.2.0",
            "_view_name": "LayoutView",
            "align_content": null,
            "align_items": null,
            "align_self": null,
            "border": null,
            "bottom": null,
            "display": null,
            "flex": null,
            "flex_flow": null,
            "grid_area": null,
            "grid_auto_columns": null,
            "grid_auto_flow": null,
            "grid_auto_rows": null,
            "grid_column": null,
            "grid_gap": null,
            "grid_row": null,
            "grid_template_areas": null,
            "grid_template_columns": null,
            "grid_template_rows": null,
            "height": null,
            "justify_content": null,
            "justify_items": null,
            "left": null,
            "margin": null,
            "max_height": null,
            "max_width": null,
            "min_height": null,
            "min_width": null,
            "object_fit": null,
            "object_position": null,
            "order": null,
            "overflow": null,
            "overflow_x": null,
            "overflow_y": null,
            "padding": null,
            "right": null,
            "top": null,
            "visibility": null,
            "width": null
          }
        },
        "6aa69d73a19b42cab10a0de5e4882465": {
          "model_module": "@jupyter-widgets/controls",
          "model_name": "DescriptionStyleModel",
          "model_module_version": "1.5.0",
          "state": {
            "_model_module": "@jupyter-widgets/controls",
            "_model_module_version": "1.5.0",
            "_model_name": "DescriptionStyleModel",
            "_view_count": null,
            "_view_module": "@jupyter-widgets/base",
            "_view_module_version": "1.2.0",
            "_view_name": "StyleView",
            "description_width": ""
          }
        }
      }
    }
  },
  "cells": [
    {
      "cell_type": "code",
      "source": [
        "!pip install nltk==3.8.1"
      ],
      "metadata": {
        "id": "aIVfzKn8REzl",
        "outputId": "36b82e14-c6c4-4899-d66c-fd302b4a2e2b",
        "colab": {
          "base_uri": "https://localhost:8080/"
        }
      },
      "execution_count": 1,
      "outputs": [
        {
          "output_type": "stream",
          "name": "stdout",
          "text": [
            "Collecting nltk==3.8.1\n",
            "  Downloading nltk-3.8.1-py3-none-any.whl.metadata (2.8 kB)\n",
            "Requirement already satisfied: click in /usr/local/lib/python3.11/dist-packages (from nltk==3.8.1) (8.1.8)\n",
            "Requirement already satisfied: joblib in /usr/local/lib/python3.11/dist-packages (from nltk==3.8.1) (1.4.2)\n",
            "Requirement already satisfied: regex>=2021.8.3 in /usr/local/lib/python3.11/dist-packages (from nltk==3.8.1) (2024.11.6)\n",
            "Requirement already satisfied: tqdm in /usr/local/lib/python3.11/dist-packages (from nltk==3.8.1) (4.67.1)\n",
            "Downloading nltk-3.8.1-py3-none-any.whl (1.5 MB)\n",
            "\u001b[2K   \u001b[90m━━━━━━━━━━━━━━━━━━━━━━━━━━━━━━━━━━━━━━━━\u001b[0m \u001b[32m1.5/1.5 MB\u001b[0m \u001b[31m24.9 MB/s\u001b[0m eta \u001b[36m0:00:00\u001b[0m\n",
            "\u001b[?25hInstalling collected packages: nltk\n",
            "  Attempting uninstall: nltk\n",
            "    Found existing installation: nltk 3.9.1\n",
            "    Uninstalling nltk-3.9.1:\n",
            "      Successfully uninstalled nltk-3.9.1\n",
            "Successfully installed nltk-3.8.1\n"
          ]
        }
      ]
    },
    {
      "cell_type": "markdown",
      "source": [
        "We have a syntheticly generated dataset with 120 examples"
      ],
      "metadata": {
        "id": "-ATh_GsN0PsV"
      }
    },
    {
      "cell_type": "code",
      "source": [
        "import json\n",
        "from IPython.display import display"
      ],
      "metadata": {
        "id": "tLOzeZ1S0PLg"
      },
      "execution_count": 2,
      "outputs": []
    },
    {
      "cell_type": "markdown",
      "source": [
        "An example of dataset items"
      ],
      "metadata": {
        "id": "avL62CS41QBw"
      }
    },
    {
      "cell_type": "code",
      "source": [
        "data = {\n",
        "    \"dataset\": [\n",
        "        {\n",
        "            \"names\": [\n",
        "                {\n",
        "                    \"name\": \"Emily\",\n",
        "                    \"surname\": \"Johnson\"\n",
        "                }\n",
        "            ]\n",
        "        },\n",
        "        {\n",
        "            \"names\": [\n",
        "                {\n",
        "                    \"name\": \"Michael\",\n",
        "                    \"surname\": \"Smith\"\n",
        "                },\n",
        "                {\n",
        "                    \"name\": \"Sarah\",\n",
        "                    \"surname\": \"Williams\"\n",
        "                }\n",
        "            ]\n",
        "        }\n",
        "    ]\n",
        "}"
      ],
      "metadata": {
        "id": "adAmVDJE07g1"
      },
      "execution_count": 3,
      "outputs": []
    },
    {
      "cell_type": "code",
      "source": [
        "with open(\"/content/updated-names-dataset.json\", 'r') as f:\n",
        "  data = json.load(f)"
      ],
      "metadata": {
        "id": "wn17uYHd1TkK"
      },
      "execution_count": 4,
      "outputs": []
    },
    {
      "cell_type": "code",
      "source": [
        "len(data['dataset'])"
      ],
      "metadata": {
        "colab": {
          "base_uri": "https://localhost:8080/"
        },
        "id": "ImcuTjmB1tvq",
        "outputId": "887dcbfd-28c3-4b55-db81-84c9bae041e2"
      },
      "execution_count": 5,
      "outputs": [
        {
          "output_type": "execute_result",
          "data": {
            "text/plain": [
              "120"
            ]
          },
          "metadata": {},
          "execution_count": 5
        }
      ]
    },
    {
      "cell_type": "markdown",
      "source": [
        "Lets remove names to symbol that must be ovewritten by LLM"
      ],
      "metadata": {
        "id": "nSW08vQhIniw"
      }
    },
    {
      "cell_type": "code",
      "source": [
        "for entry in data[\"dataset\"]:\n",
        "  for names in entry[\"names\"]:\n",
        "    names['name'] = '.'\n",
        "    names['surname'] = '.'"
      ],
      "metadata": {
        "id": "9AOaOsoQ13Jv"
      },
      "execution_count": 6,
      "outputs": []
    },
    {
      "cell_type": "code",
      "source": [
        "entry = data['dataset']\n",
        "names = [name for entry in entry for name in entry['names']]"
      ],
      "metadata": {
        "id": "S-LStH4YIvB-"
      },
      "execution_count": 7,
      "outputs": []
    },
    {
      "cell_type": "code",
      "source": [
        "names[:20]"
      ],
      "metadata": {
        "colab": {
          "base_uri": "https://localhost:8080/"
        },
        "id": "CQuVEjiKFmCq",
        "outputId": "68b3b7ba-0ed0-4b31-f61e-20b4a4bbf9ea"
      },
      "execution_count": 8,
      "outputs": [
        {
          "output_type": "execute_result",
          "data": {
            "text/plain": [
              "[{'name': '.', 'surname': '.'},\n",
              " {'name': '.', 'surname': '.'},\n",
              " {'name': '.', 'surname': '.'},\n",
              " {'name': '.', 'surname': '.'},\n",
              " {'name': '.', 'surname': '.'},\n",
              " {'name': '.', 'surname': '.'},\n",
              " {'name': '.', 'surname': '.'},\n",
              " {'name': '.', 'surname': '.'},\n",
              " {'name': '.', 'surname': '.'},\n",
              " {'name': '.', 'surname': '.'},\n",
              " {'name': '.', 'surname': '.'},\n",
              " {'name': '.', 'surname': '.'},\n",
              " {'name': '.', 'surname': '.'},\n",
              " {'name': '.', 'surname': '.'},\n",
              " {'name': '.', 'surname': '.'},\n",
              " {'name': '.', 'surname': '.'},\n",
              " {'name': '.', 'surname': '.'},\n",
              " {'name': '.', 'surname': '.'},\n",
              " {'name': '.', 'surname': '.'},\n",
              " {'name': '.', 'surname': '.'}]"
            ]
          },
          "metadata": {},
          "execution_count": 8
        }
      ]
    },
    {
      "cell_type": "markdown",
      "source": [
        "Now we need to replace 'names' to 'a' (array) and 'name' to 'n', 'surname' to 's'.\n",
        "\n",
        "Need to do that for simplifying ngram training.\n"
      ],
      "metadata": {
        "id": "Jr-4vSs7JGXP"
      }
    },
    {
      "cell_type": "code",
      "source": [
        "for entry in data[\"dataset\"]:\n",
        "  print(entry)"
      ],
      "metadata": {
        "colab": {
          "base_uri": "https://localhost:8080/"
        },
        "id": "fEn8Ts8NNINM",
        "outputId": "902a6423-b9db-4c38-d636-2b90f6edc7fb"
      },
      "execution_count": 9,
      "outputs": [
        {
          "output_type": "stream",
          "name": "stdout",
          "text": [
            "{'names': [{'name': '.', 'surname': '.'}]}\n",
            "{'names': [{'name': '.', 'surname': '.'}, {'name': '.', 'surname': '.'}]}\n",
            "{'names': [{'name': '.', 'surname': '.'}, {'name': '.', 'surname': '.'}, {'name': '.', 'surname': '.'}]}\n",
            "{'names': [{'name': '.', 'surname': '.'}, {'name': '.', 'surname': '.'}, {'name': '.', 'surname': '.'}, {'name': '.', 'surname': '.'}]}\n",
            "{'names': [{'name': '.', 'surname': '.'}]}\n",
            "{'names': [{'name': '.', 'surname': '.'}, {'name': '.', 'surname': '.'}, {'name': '.', 'surname': '.'}, {'name': '.', 'surname': '.'}, {'name': '.', 'surname': '.'}]}\n",
            "{'names': [{'name': '.', 'surname': '.'}]}\n",
            "{'names': [{'name': '.', 'surname': '.'}, {'name': '.', 'surname': '.'}]}\n",
            "{'names': [{'name': '.', 'surname': '.'}, {'name': '.', 'surname': '.'}, {'name': '.', 'surname': '.'}, {'name': '.', 'surname': '.'}, {'name': '.', 'surname': '.'}, {'name': '.', 'surname': '.'}]}\n",
            "{'names': [{'name': '.', 'surname': '.'}]}\n",
            "{'names': [{'name': '.', 'surname': '.'}, {'name': '.', 'surname': '.'}, {'name': '.', 'surname': '.'}]}\n",
            "{'names': [{'name': '.', 'surname': '.'}, {'name': '.', 'surname': '.'}]}\n",
            "{'names': [{'name': '.', 'surname': '.'}, {'name': '.', 'surname': '.'}, {'name': '.', 'surname': '.'}, {'name': '.', 'surname': '.'}, {'name': '.', 'surname': '.'}, {'name': '.', 'surname': '.'}, {'name': '.', 'surname': '.'}]}\n",
            "{'names': [{'name': '.', 'surname': '.'}]}\n",
            "{'names': [{'name': '.', 'surname': '.'}, {'name': '.', 'surname': '.'}, {'name': '.', 'surname': '.'}, {'name': '.', 'surname': '.'}]}\n",
            "{'names': [{'name': '.', 'surname': '.'}, {'name': '.', 'surname': '.'}]}\n",
            "{'names': [{'name': '.', 'surname': '.'}, {'name': '.', 'surname': '.'}, {'name': '.', 'surname': '.'}, {'name': '.', 'surname': '.'}, {'name': '.', 'surname': '.'}]}\n",
            "{'names': [{'name': '.', 'surname': '.'}]}\n",
            "{'names': [{'name': '.', 'surname': '.'}, {'name': '.', 'surname': '.'}, {'name': '.', 'surname': '.'}, {'name': '.', 'surname': '.'}]}\n",
            "{'names': [{'name': '.', 'surname': '.'}, {'name': '.', 'surname': '.'}]}\n",
            "{'names': [{'name': '.', 'surname': '.'}, {'name': '.', 'surname': '.'}]}\n",
            "{'names': [{'name': '.', 'surname': '.'}, {'name': '.', 'surname': '.'}, {'name': '.', 'surname': '.'}, {'name': '.', 'surname': '.'}]}\n",
            "{'names': [{'name': '.', 'surname': '.'}, {'name': '.', 'surname': '.'}, {'name': '.', 'surname': '.'}]}\n",
            "{'names': [{'name': '.', 'surname': '.'}, {'name': '.', 'surname': '.'}]}\n",
            "{'names': [{'name': '.', 'surname': '.'}]}\n",
            "{'names': [{'name': '.', 'surname': '.'}, {'name': '.', 'surname': '.'}, {'name': '.', 'surname': '.'}, {'name': '.', 'surname': '.'}, {'name': '.', 'surname': '.'}, {'name': '.', 'surname': '.'}]}\n",
            "{'names': [{'name': '.', 'surname': '.'}, {'name': '.', 'surname': '.'}, {'name': '.', 'surname': '.'}]}\n",
            "{'names': [{'name': '.', 'surname': '.'}, {'name': '.', 'surname': '.'}, {'name': '.', 'surname': '.'}, {'name': '.', 'surname': '.'}, {'name': '.', 'surname': '.'}, {'name': '.', 'surname': '.'}]}\n",
            "{'names': [{'name': '.', 'surname': '.'}]}\n",
            "{'names': [{'name': '.', 'surname': '.'}, {'name': '.', 'surname': '.'}, {'name': '.', 'surname': '.'}, {'name': '.', 'surname': '.'}]}\n",
            "{'names': [{'name': '.', 'surname': '.'}, {'name': '.', 'surname': '.'}, {'name': '.', 'surname': '.'}, {'name': '.', 'surname': '.'}]}\n",
            "{'names': [{'name': '.', 'surname': '.'}, {'name': '.', 'surname': '.'}]}\n",
            "{'names': [{'name': '.', 'surname': '.'}, {'name': '.', 'surname': '.'}, {'name': '.', 'surname': '.'}, {'name': '.', 'surname': '.'}, {'name': '.', 'surname': '.'}, {'name': '.', 'surname': '.'}]}\n",
            "{'names': [{'name': '.', 'surname': '.'}, {'name': '.', 'surname': '.'}, {'name': '.', 'surname': '.'}]}\n",
            "{'names': [{'name': '.', 'surname': '.'}, {'name': '.', 'surname': '.'}, {'name': '.', 'surname': '.'}, {'name': '.', 'surname': '.'}]}\n",
            "{'names': [{'name': '.', 'surname': '.'}, {'name': '.', 'surname': '.'}, {'name': '.', 'surname': '.'}]}\n",
            "{'names': [{'name': '.', 'surname': '.'}, {'name': '.', 'surname': '.'}, {'name': '.', 'surname': '.'}, {'name': '.', 'surname': '.'}, {'name': '.', 'surname': '.'}]}\n",
            "{'names': [{'name': '.', 'surname': '.'}, {'name': '.', 'surname': '.'}, {'name': '.', 'surname': '.'}, {'name': '.', 'surname': '.'}]}\n",
            "{'names': [{'name': '.', 'surname': '.'}, {'name': '.', 'surname': '.'}, {'name': '.', 'surname': '.'}, {'name': '.', 'surname': '.'}]}\n",
            "{'names': [{'name': '.', 'surname': '.'}, {'name': '.', 'surname': '.'}, {'name': '.', 'surname': '.'}, {'name': '.', 'surname': '.'}, {'name': '.', 'surname': '.'}, {'name': '.', 'surname': '.'}]}\n",
            "{'names': [{'name': '.', 'surname': '.'}, {'name': '.', 'surname': '.'}]}\n",
            "{'names': [{'name': '.', 'surname': '.'}, {'name': '.', 'surname': '.'}]}\n",
            "{'names': [{'name': '.', 'surname': '.'}]}\n",
            "{'names': [{'name': '.', 'surname': '.'}, {'name': '.', 'surname': '.'}, {'name': '.', 'surname': '.'}, {'name': '.', 'surname': '.'}, {'name': '.', 'surname': '.'}]}\n",
            "{'names': [{'name': '.', 'surname': '.'}, {'name': '.', 'surname': '.'}, {'name': '.', 'surname': '.'}, {'name': '.', 'surname': '.'}, {'name': '.', 'surname': '.'}, {'name': '.', 'surname': '.'}]}\n",
            "{'names': [{'name': '.', 'surname': '.'}, {'name': '.', 'surname': '.'}, {'name': '.', 'surname': '.'}, {'name': '.', 'surname': '.'}]}\n",
            "{'names': [{'name': '.', 'surname': '.'}]}\n",
            "{'names': [{'name': '.', 'surname': '.'}, {'name': '.', 'surname': '.'}, {'name': '.', 'surname': '.'}, {'name': '.', 'surname': '.'}, {'name': '.', 'surname': '.'}]}\n",
            "{'names': [{'name': '.', 'surname': '.'}]}\n",
            "{'names': [{'name': '.', 'surname': '.'}, {'name': '.', 'surname': '.'}, {'name': '.', 'surname': '.'}, {'name': '.', 'surname': '.'}, {'name': '.', 'surname': '.'}, {'name': '.', 'surname': '.'}]}\n",
            "{'names': [{'name': '.', 'surname': '.'}, {'name': '.', 'surname': '.'}, {'name': '.', 'surname': '.'}, {'name': '.', 'surname': '.'}]}\n",
            "{'names': [{'name': '.', 'surname': '.'}, {'name': '.', 'surname': '.'}, {'name': '.', 'surname': '.'}, {'name': '.', 'surname': '.'}, {'name': '.', 'surname': '.'}]}\n",
            "{'names': [{'name': '.', 'surname': '.'}, {'name': '.', 'surname': '.'}, {'name': '.', 'surname': '.'}, {'name': '.', 'surname': '.'}]}\n",
            "{'names': [{'name': '.', 'surname': '.'}, {'name': '.', 'surname': '.'}, {'name': '.', 'surname': '.'}]}\n",
            "{'names': [{'name': '.', 'surname': '.'}, {'name': '.', 'surname': '.'}, {'name': '.', 'surname': '.'}, {'name': '.', 'surname': '.'}, {'name': '.', 'surname': '.'}, {'name': '.', 'surname': '.'}]}\n",
            "{'names': [{'name': '.', 'surname': '.'}, {'name': '.', 'surname': '.'}, {'name': '.', 'surname': '.'}, {'name': '.', 'surname': '.'}, {'name': '.', 'surname': '.'}, {'name': '.', 'surname': '.'}]}\n",
            "{'names': [{'name': '.', 'surname': '.'}, {'name': '.', 'surname': '.'}, {'name': '.', 'surname': '.'}, {'name': '.', 'surname': '.'}]}\n",
            "{'names': [{'name': '.', 'surname': '.'}]}\n",
            "{'names': [{'name': '.', 'surname': '.'}, {'name': '.', 'surname': '.'}, {'name': '.', 'surname': '.'}, {'name': '.', 'surname': '.'}]}\n",
            "{'names': [{'name': '.', 'surname': '.'}, {'name': '.', 'surname': '.'}, {'name': '.', 'surname': '.'}, {'name': '.', 'surname': '.'}, {'name': '.', 'surname': '.'}]}\n",
            "{'names': [{'name': '.', 'surname': '.'}, {'name': '.', 'surname': '.'}, {'name': '.', 'surname': '.'}, {'name': '.', 'surname': '.'}, {'name': '.', 'surname': '.'}, {'name': '.', 'surname': '.'}]}\n",
            "{'names': [{'name': '.', 'surname': '.'}, {'name': '.', 'surname': '.'}, {'name': '.', 'surname': '.'}, {'name': '.', 'surname': '.'}, {'name': '.', 'surname': '.'}, {'name': '.', 'surname': '.'}]}\n",
            "{'names': [{'name': '.', 'surname': '.'}, {'name': '.', 'surname': '.'}]}\n",
            "{'names': [{'name': '.', 'surname': '.'}, {'name': '.', 'surname': '.'}, {'name': '.', 'surname': '.'}, {'name': '.', 'surname': '.'}, {'name': '.', 'surname': '.'}, {'name': '.', 'surname': '.'}]}\n",
            "{'names': [{'name': '.', 'surname': '.'}]}\n",
            "{'names': [{'name': '.', 'surname': '.'}, {'name': '.', 'surname': '.'}, {'name': '.', 'surname': '.'}]}\n",
            "{'names': [{'name': '.', 'surname': '.'}, {'name': '.', 'surname': '.'}, {'name': '.', 'surname': '.'}, {'name': '.', 'surname': '.'}, {'name': '.', 'surname': '.'}, {'name': '.', 'surname': '.'}]}\n",
            "{'names': [{'name': '.', 'surname': '.'}, {'name': '.', 'surname': '.'}, {'name': '.', 'surname': '.'}, {'name': '.', 'surname': '.'}]}\n",
            "{'names': [{'name': '.', 'surname': '.'}, {'name': '.', 'surname': '.'}, {'name': '.', 'surname': '.'}, {'name': '.', 'surname': '.'}]}\n",
            "{'names': [{'name': '.', 'surname': '.'}]}\n",
            "{'names': [{'name': '.', 'surname': '.'}, {'name': '.', 'surname': '.'}, {'name': '.', 'surname': '.'}]}\n",
            "{'names': [{'name': '.', 'surname': '.'}, {'name': '.', 'surname': '.'}, {'name': '.', 'surname': '.'}]}\n",
            "{'names': [{'name': '.', 'surname': '.'}, {'name': '.', 'surname': '.'}, {'name': '.', 'surname': '.'}]}\n",
            "{'names': [{'name': '.', 'surname': '.'}, {'name': '.', 'surname': '.'}, {'name': '.', 'surname': '.'}, {'name': '.', 'surname': '.'}, {'name': '.', 'surname': '.'}]}\n",
            "{'names': [{'name': '.', 'surname': '.'}, {'name': '.', 'surname': '.'}, {'name': '.', 'surname': '.'}, {'name': '.', 'surname': '.'}, {'name': '.', 'surname': '.'}, {'name': '.', 'surname': '.'}]}\n",
            "{'names': [{'name': '.', 'surname': '.'}, {'name': '.', 'surname': '.'}, {'name': '.', 'surname': '.'}, {'name': '.', 'surname': '.'}, {'name': '.', 'surname': '.'}, {'name': '.', 'surname': '.'}]}\n",
            "{'names': [{'name': '.', 'surname': '.'}]}\n",
            "{'names': [{'name': '.', 'surname': '.'}]}\n",
            "{'names': [{'name': '.', 'surname': '.'}]}\n",
            "{'names': [{'name': '.', 'surname': '.'}]}\n",
            "{'names': [{'name': '.', 'surname': '.'}]}\n",
            "{'names': [{'name': '.', 'surname': '.'}, {'name': '.', 'surname': '.'}, {'name': '.', 'surname': '.'}, {'name': '.', 'surname': '.'}, {'name': '.', 'surname': '.'}, {'name': '.', 'surname': '.'}]}\n",
            "{'names': [{'name': '.', 'surname': '.'}, {'name': '.', 'surname': '.'}, {'name': '.', 'surname': '.'}, {'name': '.', 'surname': '.'}, {'name': '.', 'surname': '.'}, {'name': '.', 'surname': '.'}]}\n",
            "{'names': [{'name': '.', 'surname': '.'}]}\n",
            "{'names': [{'name': '.', 'surname': '.'}, {'name': '.', 'surname': '.'}, {'name': '.', 'surname': '.'}, {'name': '.', 'surname': '.'}, {'name': '.', 'surname': '.'}]}\n",
            "{'names': [{'name': '.', 'surname': '.'}, {'name': '.', 'surname': '.'}, {'name': '.', 'surname': '.'}, {'name': '.', 'surname': '.'}, {'name': '.', 'surname': '.'}, {'name': '.', 'surname': '.'}]}\n",
            "{'names': [{'name': '.', 'surname': '.'}]}\n",
            "{'names': [{'name': '.', 'surname': '.'}]}\n",
            "{'names': [{'name': '.', 'surname': '.'}, {'name': '.', 'surname': '.'}, {'name': '.', 'surname': '.'}, {'name': '.', 'surname': '.'}, {'name': '.', 'surname': '.'}, {'name': '.', 'surname': '.'}]}\n",
            "{'names': [{'name': '.', 'surname': '.'}, {'name': '.', 'surname': '.'}, {'name': '.', 'surname': '.'}, {'name': '.', 'surname': '.'}]}\n",
            "{'names': [{'name': '.', 'surname': '.'}, {'name': '.', 'surname': '.'}, {'name': '.', 'surname': '.'}]}\n",
            "{'names': [{'name': '.', 'surname': '.'}, {'name': '.', 'surname': '.'}, {'name': '.', 'surname': '.'}, {'name': '.', 'surname': '.'}, {'name': '.', 'surname': '.'}, {'name': '.', 'surname': '.'}]}\n",
            "{'names': [{'name': '.', 'surname': '.'}]}\n",
            "{'names': [{'name': '.', 'surname': '.'}, {'name': '.', 'surname': '.'}, {'name': '.', 'surname': '.'}, {'name': '.', 'surname': '.'}, {'name': '.', 'surname': '.'}, {'name': '.', 'surname': '.'}]}\n",
            "{'names': [{'name': '.', 'surname': '.'}, {'name': '.', 'surname': '.'}]}\n",
            "{'names': [{'name': '.', 'surname': '.'}, {'name': '.', 'surname': '.'}, {'name': '.', 'surname': '.'}, {'name': '.', 'surname': '.'}]}\n",
            "{'names': [{'name': '.', 'surname': '.'}]}\n",
            "{'names': [{'name': '.', 'surname': '.'}]}\n",
            "{'names': [{'name': '.', 'surname': '.'}, {'name': '.', 'surname': '.'}, {'name': '.', 'surname': '.'}]}\n",
            "{'names': [{'name': '.', 'surname': '.'}, {'name': '.', 'surname': '.'}]}\n",
            "{'names': [{'name': '.', 'surname': '.'}, {'name': '.', 'surname': '.'}, {'name': '.', 'surname': '.'}]}\n",
            "{'names': [{'name': '.', 'surname': '.'}, {'name': '.', 'surname': '.'}, {'name': '.', 'surname': '.'}]}\n",
            "{'names': [{'name': '.', 'surname': '.'}, {'name': '.', 'surname': '.'}, {'name': '.', 'surname': '.'}, {'name': '.', 'surname': '.'}, {'name': '.', 'surname': '.'}]}\n",
            "{'names': [{'name': '.', 'surname': '.'}, {'name': '.', 'surname': '.'}, {'name': '.', 'surname': '.'}, {'name': '.', 'surname': '.'}, {'name': '.', 'surname': '.'}, {'name': '.', 'surname': '.'}]}\n",
            "{'names': [{'name': '.', 'surname': '.'}]}\n",
            "{'names': [{'name': '.', 'surname': '.'}, {'name': '.', 'surname': '.'}, {'name': '.', 'surname': '.'}, {'name': '.', 'surname': '.'}, {'name': '.', 'surname': '.'}]}\n",
            "{'names': [{'name': '.', 'surname': '.'}, {'name': '.', 'surname': '.'}, {'name': '.', 'surname': '.'}, {'name': '.', 'surname': '.'}]}\n",
            "{'names': [{'name': '.', 'surname': '.'}, {'name': '.', 'surname': '.'}, {'name': '.', 'surname': '.'}, {'name': '.', 'surname': '.'}, {'name': '.', 'surname': '.'}]}\n",
            "{'names': [{'name': '.', 'surname': '.'}, {'name': '.', 'surname': '.'}, {'name': '.', 'surname': '.'}]}\n",
            "{'names': [{'name': '.', 'surname': '.'}, {'name': '.', 'surname': '.'}, {'name': '.', 'surname': '.'}, {'name': '.', 'surname': '.'}, {'name': '.', 'surname': '.'}]}\n",
            "{'names': [{'name': '.', 'surname': '.'}, {'name': '.', 'surname': '.'}, {'name': '.', 'surname': '.'}]}\n",
            "{'names': [{'name': '.', 'surname': '.'}, {'name': '.', 'surname': '.'}, {'name': '.', 'surname': '.'}, {'name': '.', 'surname': '.'}, {'name': '.', 'surname': '.'}, {'name': '.', 'surname': '.'}]}\n",
            "{'names': [{'name': '.', 'surname': '.'}]}\n",
            "{'names': [{'name': '.', 'surname': '.'}, {'name': '.', 'surname': '.'}, {'name': '.', 'surname': '.'}]}\n",
            "{'names': [{'name': '.', 'surname': '.'}, {'name': '.', 'surname': '.'}, {'name': '.', 'surname': '.'}]}\n",
            "{'names': [{'name': '.', 'surname': '.'}]}\n",
            "{'names': [{'name': '.', 'surname': '.'}, {'name': '.', 'surname': '.'}, {'name': '.', 'surname': '.'}, {'name': '.', 'surname': '.'}]}\n",
            "{'names': [{'name': '.', 'surname': '.'}, {'name': '.', 'surname': '.'}, {'name': '.', 'surname': '.'}, {'name': '.', 'surname': '.'}]}\n",
            "{'names': [{'name': '.', 'surname': '.'}, {'name': '.', 'surname': '.'}, {'name': '.', 'surname': '.'}]}\n",
            "{'names': [{'name': '.', 'surname': '.'}, {'name': '.', 'surname': '.'}, {'name': '.', 'surname': '.'}, {'name': '.', 'surname': '.'}, {'name': '.', 'surname': '.'}, {'name': '.', 'surname': '.'}]}\n"
          ]
        }
      ]
    },
    {
      "cell_type": "code",
      "source": [
        "for entry in data[\"dataset\"]:\n",
        "  entry[\"a\"] = entry.pop(\"names\")\n",
        "  for item in entry[\"a\"]:\n",
        "    item[\"n\"] = item.pop(\"name\")\n",
        "    item[\"s\"] = item.pop(\"surname\")\n",
        "\n",
        "dataset = []\n",
        "for entry in data[\"dataset\"]:\n",
        "  dataset.append(entry)\n",
        "  print(entry)"
      ],
      "metadata": {
        "colab": {
          "base_uri": "https://localhost:8080/"
        },
        "id": "5C_ohxP8YVmK",
        "outputId": "5230e75e-e26a-4e5a-a364-fb829169e3b3"
      },
      "execution_count": 10,
      "outputs": [
        {
          "output_type": "stream",
          "name": "stdout",
          "text": [
            "{'a': [{'n': '.', 's': '.'}]}\n",
            "{'a': [{'n': '.', 's': '.'}, {'n': '.', 's': '.'}]}\n",
            "{'a': [{'n': '.', 's': '.'}, {'n': '.', 's': '.'}, {'n': '.', 's': '.'}]}\n",
            "{'a': [{'n': '.', 's': '.'}, {'n': '.', 's': '.'}, {'n': '.', 's': '.'}, {'n': '.', 's': '.'}]}\n",
            "{'a': [{'n': '.', 's': '.'}]}\n",
            "{'a': [{'n': '.', 's': '.'}, {'n': '.', 's': '.'}, {'n': '.', 's': '.'}, {'n': '.', 's': '.'}, {'n': '.', 's': '.'}]}\n",
            "{'a': [{'n': '.', 's': '.'}]}\n",
            "{'a': [{'n': '.', 's': '.'}, {'n': '.', 's': '.'}]}\n",
            "{'a': [{'n': '.', 's': '.'}, {'n': '.', 's': '.'}, {'n': '.', 's': '.'}, {'n': '.', 's': '.'}, {'n': '.', 's': '.'}, {'n': '.', 's': '.'}]}\n",
            "{'a': [{'n': '.', 's': '.'}]}\n",
            "{'a': [{'n': '.', 's': '.'}, {'n': '.', 's': '.'}, {'n': '.', 's': '.'}]}\n",
            "{'a': [{'n': '.', 's': '.'}, {'n': '.', 's': '.'}]}\n",
            "{'a': [{'n': '.', 's': '.'}, {'n': '.', 's': '.'}, {'n': '.', 's': '.'}, {'n': '.', 's': '.'}, {'n': '.', 's': '.'}, {'n': '.', 's': '.'}, {'n': '.', 's': '.'}]}\n",
            "{'a': [{'n': '.', 's': '.'}]}\n",
            "{'a': [{'n': '.', 's': '.'}, {'n': '.', 's': '.'}, {'n': '.', 's': '.'}, {'n': '.', 's': '.'}]}\n",
            "{'a': [{'n': '.', 's': '.'}, {'n': '.', 's': '.'}]}\n",
            "{'a': [{'n': '.', 's': '.'}, {'n': '.', 's': '.'}, {'n': '.', 's': '.'}, {'n': '.', 's': '.'}, {'n': '.', 's': '.'}]}\n",
            "{'a': [{'n': '.', 's': '.'}]}\n",
            "{'a': [{'n': '.', 's': '.'}, {'n': '.', 's': '.'}, {'n': '.', 's': '.'}, {'n': '.', 's': '.'}]}\n",
            "{'a': [{'n': '.', 's': '.'}, {'n': '.', 's': '.'}]}\n",
            "{'a': [{'n': '.', 's': '.'}, {'n': '.', 's': '.'}]}\n",
            "{'a': [{'n': '.', 's': '.'}, {'n': '.', 's': '.'}, {'n': '.', 's': '.'}, {'n': '.', 's': '.'}]}\n",
            "{'a': [{'n': '.', 's': '.'}, {'n': '.', 's': '.'}, {'n': '.', 's': '.'}]}\n",
            "{'a': [{'n': '.', 's': '.'}, {'n': '.', 's': '.'}]}\n",
            "{'a': [{'n': '.', 's': '.'}]}\n",
            "{'a': [{'n': '.', 's': '.'}, {'n': '.', 's': '.'}, {'n': '.', 's': '.'}, {'n': '.', 's': '.'}, {'n': '.', 's': '.'}, {'n': '.', 's': '.'}]}\n",
            "{'a': [{'n': '.', 's': '.'}, {'n': '.', 's': '.'}, {'n': '.', 's': '.'}]}\n",
            "{'a': [{'n': '.', 's': '.'}, {'n': '.', 's': '.'}, {'n': '.', 's': '.'}, {'n': '.', 's': '.'}, {'n': '.', 's': '.'}, {'n': '.', 's': '.'}]}\n",
            "{'a': [{'n': '.', 's': '.'}]}\n",
            "{'a': [{'n': '.', 's': '.'}, {'n': '.', 's': '.'}, {'n': '.', 's': '.'}, {'n': '.', 's': '.'}]}\n",
            "{'a': [{'n': '.', 's': '.'}, {'n': '.', 's': '.'}, {'n': '.', 's': '.'}, {'n': '.', 's': '.'}]}\n",
            "{'a': [{'n': '.', 's': '.'}, {'n': '.', 's': '.'}]}\n",
            "{'a': [{'n': '.', 's': '.'}, {'n': '.', 's': '.'}, {'n': '.', 's': '.'}, {'n': '.', 's': '.'}, {'n': '.', 's': '.'}, {'n': '.', 's': '.'}]}\n",
            "{'a': [{'n': '.', 's': '.'}, {'n': '.', 's': '.'}, {'n': '.', 's': '.'}]}\n",
            "{'a': [{'n': '.', 's': '.'}, {'n': '.', 's': '.'}, {'n': '.', 's': '.'}, {'n': '.', 's': '.'}]}\n",
            "{'a': [{'n': '.', 's': '.'}, {'n': '.', 's': '.'}, {'n': '.', 's': '.'}]}\n",
            "{'a': [{'n': '.', 's': '.'}, {'n': '.', 's': '.'}, {'n': '.', 's': '.'}, {'n': '.', 's': '.'}, {'n': '.', 's': '.'}]}\n",
            "{'a': [{'n': '.', 's': '.'}, {'n': '.', 's': '.'}, {'n': '.', 's': '.'}, {'n': '.', 's': '.'}]}\n",
            "{'a': [{'n': '.', 's': '.'}, {'n': '.', 's': '.'}, {'n': '.', 's': '.'}, {'n': '.', 's': '.'}]}\n",
            "{'a': [{'n': '.', 's': '.'}, {'n': '.', 's': '.'}, {'n': '.', 's': '.'}, {'n': '.', 's': '.'}, {'n': '.', 's': '.'}, {'n': '.', 's': '.'}]}\n",
            "{'a': [{'n': '.', 's': '.'}, {'n': '.', 's': '.'}]}\n",
            "{'a': [{'n': '.', 's': '.'}, {'n': '.', 's': '.'}]}\n",
            "{'a': [{'n': '.', 's': '.'}]}\n",
            "{'a': [{'n': '.', 's': '.'}, {'n': '.', 's': '.'}, {'n': '.', 's': '.'}, {'n': '.', 's': '.'}, {'n': '.', 's': '.'}]}\n",
            "{'a': [{'n': '.', 's': '.'}, {'n': '.', 's': '.'}, {'n': '.', 's': '.'}, {'n': '.', 's': '.'}, {'n': '.', 's': '.'}, {'n': '.', 's': '.'}]}\n",
            "{'a': [{'n': '.', 's': '.'}, {'n': '.', 's': '.'}, {'n': '.', 's': '.'}, {'n': '.', 's': '.'}]}\n",
            "{'a': [{'n': '.', 's': '.'}]}\n",
            "{'a': [{'n': '.', 's': '.'}, {'n': '.', 's': '.'}, {'n': '.', 's': '.'}, {'n': '.', 's': '.'}, {'n': '.', 's': '.'}]}\n",
            "{'a': [{'n': '.', 's': '.'}]}\n",
            "{'a': [{'n': '.', 's': '.'}, {'n': '.', 's': '.'}, {'n': '.', 's': '.'}, {'n': '.', 's': '.'}, {'n': '.', 's': '.'}, {'n': '.', 's': '.'}]}\n",
            "{'a': [{'n': '.', 's': '.'}, {'n': '.', 's': '.'}, {'n': '.', 's': '.'}, {'n': '.', 's': '.'}]}\n",
            "{'a': [{'n': '.', 's': '.'}, {'n': '.', 's': '.'}, {'n': '.', 's': '.'}, {'n': '.', 's': '.'}, {'n': '.', 's': '.'}]}\n",
            "{'a': [{'n': '.', 's': '.'}, {'n': '.', 's': '.'}, {'n': '.', 's': '.'}, {'n': '.', 's': '.'}]}\n",
            "{'a': [{'n': '.', 's': '.'}, {'n': '.', 's': '.'}, {'n': '.', 's': '.'}]}\n",
            "{'a': [{'n': '.', 's': '.'}, {'n': '.', 's': '.'}, {'n': '.', 's': '.'}, {'n': '.', 's': '.'}, {'n': '.', 's': '.'}, {'n': '.', 's': '.'}]}\n",
            "{'a': [{'n': '.', 's': '.'}, {'n': '.', 's': '.'}, {'n': '.', 's': '.'}, {'n': '.', 's': '.'}, {'n': '.', 's': '.'}, {'n': '.', 's': '.'}]}\n",
            "{'a': [{'n': '.', 's': '.'}, {'n': '.', 's': '.'}, {'n': '.', 's': '.'}, {'n': '.', 's': '.'}]}\n",
            "{'a': [{'n': '.', 's': '.'}]}\n",
            "{'a': [{'n': '.', 's': '.'}, {'n': '.', 's': '.'}, {'n': '.', 's': '.'}, {'n': '.', 's': '.'}]}\n",
            "{'a': [{'n': '.', 's': '.'}, {'n': '.', 's': '.'}, {'n': '.', 's': '.'}, {'n': '.', 's': '.'}, {'n': '.', 's': '.'}]}\n",
            "{'a': [{'n': '.', 's': '.'}, {'n': '.', 's': '.'}, {'n': '.', 's': '.'}, {'n': '.', 's': '.'}, {'n': '.', 's': '.'}, {'n': '.', 's': '.'}]}\n",
            "{'a': [{'n': '.', 's': '.'}, {'n': '.', 's': '.'}, {'n': '.', 's': '.'}, {'n': '.', 's': '.'}, {'n': '.', 's': '.'}, {'n': '.', 's': '.'}]}\n",
            "{'a': [{'n': '.', 's': '.'}, {'n': '.', 's': '.'}]}\n",
            "{'a': [{'n': '.', 's': '.'}, {'n': '.', 's': '.'}, {'n': '.', 's': '.'}, {'n': '.', 's': '.'}, {'n': '.', 's': '.'}, {'n': '.', 's': '.'}]}\n",
            "{'a': [{'n': '.', 's': '.'}]}\n",
            "{'a': [{'n': '.', 's': '.'}, {'n': '.', 's': '.'}, {'n': '.', 's': '.'}]}\n",
            "{'a': [{'n': '.', 's': '.'}, {'n': '.', 's': '.'}, {'n': '.', 's': '.'}, {'n': '.', 's': '.'}, {'n': '.', 's': '.'}, {'n': '.', 's': '.'}]}\n",
            "{'a': [{'n': '.', 's': '.'}, {'n': '.', 's': '.'}, {'n': '.', 's': '.'}, {'n': '.', 's': '.'}]}\n",
            "{'a': [{'n': '.', 's': '.'}, {'n': '.', 's': '.'}, {'n': '.', 's': '.'}, {'n': '.', 's': '.'}]}\n",
            "{'a': [{'n': '.', 's': '.'}]}\n",
            "{'a': [{'n': '.', 's': '.'}, {'n': '.', 's': '.'}, {'n': '.', 's': '.'}]}\n",
            "{'a': [{'n': '.', 's': '.'}, {'n': '.', 's': '.'}, {'n': '.', 's': '.'}]}\n",
            "{'a': [{'n': '.', 's': '.'}, {'n': '.', 's': '.'}, {'n': '.', 's': '.'}]}\n",
            "{'a': [{'n': '.', 's': '.'}, {'n': '.', 's': '.'}, {'n': '.', 's': '.'}, {'n': '.', 's': '.'}, {'n': '.', 's': '.'}]}\n",
            "{'a': [{'n': '.', 's': '.'}, {'n': '.', 's': '.'}, {'n': '.', 's': '.'}, {'n': '.', 's': '.'}, {'n': '.', 's': '.'}, {'n': '.', 's': '.'}]}\n",
            "{'a': [{'n': '.', 's': '.'}, {'n': '.', 's': '.'}, {'n': '.', 's': '.'}, {'n': '.', 's': '.'}, {'n': '.', 's': '.'}, {'n': '.', 's': '.'}]}\n",
            "{'a': [{'n': '.', 's': '.'}]}\n",
            "{'a': [{'n': '.', 's': '.'}]}\n",
            "{'a': [{'n': '.', 's': '.'}]}\n",
            "{'a': [{'n': '.', 's': '.'}]}\n",
            "{'a': [{'n': '.', 's': '.'}]}\n",
            "{'a': [{'n': '.', 's': '.'}, {'n': '.', 's': '.'}, {'n': '.', 's': '.'}, {'n': '.', 's': '.'}, {'n': '.', 's': '.'}, {'n': '.', 's': '.'}]}\n",
            "{'a': [{'n': '.', 's': '.'}, {'n': '.', 's': '.'}, {'n': '.', 's': '.'}, {'n': '.', 's': '.'}, {'n': '.', 's': '.'}, {'n': '.', 's': '.'}]}\n",
            "{'a': [{'n': '.', 's': '.'}]}\n",
            "{'a': [{'n': '.', 's': '.'}, {'n': '.', 's': '.'}, {'n': '.', 's': '.'}, {'n': '.', 's': '.'}, {'n': '.', 's': '.'}]}\n",
            "{'a': [{'n': '.', 's': '.'}, {'n': '.', 's': '.'}, {'n': '.', 's': '.'}, {'n': '.', 's': '.'}, {'n': '.', 's': '.'}, {'n': '.', 's': '.'}]}\n",
            "{'a': [{'n': '.', 's': '.'}]}\n",
            "{'a': [{'n': '.', 's': '.'}]}\n",
            "{'a': [{'n': '.', 's': '.'}, {'n': '.', 's': '.'}, {'n': '.', 's': '.'}, {'n': '.', 's': '.'}, {'n': '.', 's': '.'}, {'n': '.', 's': '.'}]}\n",
            "{'a': [{'n': '.', 's': '.'}, {'n': '.', 's': '.'}, {'n': '.', 's': '.'}, {'n': '.', 's': '.'}]}\n",
            "{'a': [{'n': '.', 's': '.'}, {'n': '.', 's': '.'}, {'n': '.', 's': '.'}]}\n",
            "{'a': [{'n': '.', 's': '.'}, {'n': '.', 's': '.'}, {'n': '.', 's': '.'}, {'n': '.', 's': '.'}, {'n': '.', 's': '.'}, {'n': '.', 's': '.'}]}\n",
            "{'a': [{'n': '.', 's': '.'}]}\n",
            "{'a': [{'n': '.', 's': '.'}, {'n': '.', 's': '.'}, {'n': '.', 's': '.'}, {'n': '.', 's': '.'}, {'n': '.', 's': '.'}, {'n': '.', 's': '.'}]}\n",
            "{'a': [{'n': '.', 's': '.'}, {'n': '.', 's': '.'}]}\n",
            "{'a': [{'n': '.', 's': '.'}, {'n': '.', 's': '.'}, {'n': '.', 's': '.'}, {'n': '.', 's': '.'}]}\n",
            "{'a': [{'n': '.', 's': '.'}]}\n",
            "{'a': [{'n': '.', 's': '.'}]}\n",
            "{'a': [{'n': '.', 's': '.'}, {'n': '.', 's': '.'}, {'n': '.', 's': '.'}]}\n",
            "{'a': [{'n': '.', 's': '.'}, {'n': '.', 's': '.'}]}\n",
            "{'a': [{'n': '.', 's': '.'}, {'n': '.', 's': '.'}, {'n': '.', 's': '.'}]}\n",
            "{'a': [{'n': '.', 's': '.'}, {'n': '.', 's': '.'}, {'n': '.', 's': '.'}]}\n",
            "{'a': [{'n': '.', 's': '.'}, {'n': '.', 's': '.'}, {'n': '.', 's': '.'}, {'n': '.', 's': '.'}, {'n': '.', 's': '.'}]}\n",
            "{'a': [{'n': '.', 's': '.'}, {'n': '.', 's': '.'}, {'n': '.', 's': '.'}, {'n': '.', 's': '.'}, {'n': '.', 's': '.'}, {'n': '.', 's': '.'}]}\n",
            "{'a': [{'n': '.', 's': '.'}]}\n",
            "{'a': [{'n': '.', 's': '.'}, {'n': '.', 's': '.'}, {'n': '.', 's': '.'}, {'n': '.', 's': '.'}, {'n': '.', 's': '.'}]}\n",
            "{'a': [{'n': '.', 's': '.'}, {'n': '.', 's': '.'}, {'n': '.', 's': '.'}, {'n': '.', 's': '.'}]}\n",
            "{'a': [{'n': '.', 's': '.'}, {'n': '.', 's': '.'}, {'n': '.', 's': '.'}, {'n': '.', 's': '.'}, {'n': '.', 's': '.'}]}\n",
            "{'a': [{'n': '.', 's': '.'}, {'n': '.', 's': '.'}, {'n': '.', 's': '.'}]}\n",
            "{'a': [{'n': '.', 's': '.'}, {'n': '.', 's': '.'}, {'n': '.', 's': '.'}, {'n': '.', 's': '.'}, {'n': '.', 's': '.'}]}\n",
            "{'a': [{'n': '.', 's': '.'}, {'n': '.', 's': '.'}, {'n': '.', 's': '.'}]}\n",
            "{'a': [{'n': '.', 's': '.'}, {'n': '.', 's': '.'}, {'n': '.', 's': '.'}, {'n': '.', 's': '.'}, {'n': '.', 's': '.'}, {'n': '.', 's': '.'}]}\n",
            "{'a': [{'n': '.', 's': '.'}]}\n",
            "{'a': [{'n': '.', 's': '.'}, {'n': '.', 's': '.'}, {'n': '.', 's': '.'}]}\n",
            "{'a': [{'n': '.', 's': '.'}, {'n': '.', 's': '.'}, {'n': '.', 's': '.'}]}\n",
            "{'a': [{'n': '.', 's': '.'}]}\n",
            "{'a': [{'n': '.', 's': '.'}, {'n': '.', 's': '.'}, {'n': '.', 's': '.'}, {'n': '.', 's': '.'}]}\n",
            "{'a': [{'n': '.', 's': '.'}, {'n': '.', 's': '.'}, {'n': '.', 's': '.'}, {'n': '.', 's': '.'}]}\n",
            "{'a': [{'n': '.', 's': '.'}, {'n': '.', 's': '.'}, {'n': '.', 's': '.'}]}\n",
            "{'a': [{'n': '.', 's': '.'}, {'n': '.', 's': '.'}, {'n': '.', 's': '.'}, {'n': '.', 's': '.'}, {'n': '.', 's': '.'}, {'n': '.', 's': '.'}]}\n"
          ]
        }
      ]
    },
    {
      "cell_type": "code",
      "source": [
        "dataset[2]"
      ],
      "metadata": {
        "colab": {
          "base_uri": "https://localhost:8080/"
        },
        "id": "jTEvOnbkdGer",
        "outputId": "96bf190e-c5d0-4fe7-c37f-e8613f90c54f"
      },
      "execution_count": 11,
      "outputs": [
        {
          "output_type": "execute_result",
          "data": {
            "text/plain": [
              "{'a': [{'n': '.', 's': '.'}, {'n': '.', 's': '.'}, {'n': '.', 's': '.'}]}"
            ]
          },
          "metadata": {},
          "execution_count": 11
        }
      ]
    },
    {
      "cell_type": "code",
      "source": [
        "from nltk.util import ngrams\n",
        "from nltk.lm import MLE\n",
        "from nltk.lm.preprocessing import padded_everygram_pipeline"
      ],
      "metadata": {
        "id": "7b4dEIlWc7H2"
      },
      "execution_count": 12,
      "outputs": []
    },
    {
      "cell_type": "code",
      "source": [
        "def json_to_characters(json_obj):\n",
        "    json_str = json.dumps(json_obj, separators=(',', ':'))\n",
        "    return list(json_str)"
      ],
      "metadata": {
        "id": "pU0dVDmddkzh"
      },
      "execution_count": 13,
      "outputs": []
    },
    {
      "cell_type": "code",
      "source": [
        "character_sequences = [json_to_characters(item) for item in dataset]"
      ],
      "metadata": {
        "id": "3p-N9J5Oe2K6"
      },
      "execution_count": 14,
      "outputs": []
    },
    {
      "cell_type": "code",
      "source": [
        "print(character_sequences[0])\n",
        "len(character_sequences)"
      ],
      "metadata": {
        "colab": {
          "base_uri": "https://localhost:8080/"
        },
        "id": "Hw0G2nVJe7Rp",
        "outputId": "4a61e33d-e46e-4e46-f833-84e5ef5ea20b"
      },
      "execution_count": 15,
      "outputs": [
        {
          "output_type": "stream",
          "name": "stdout",
          "text": [
            "['{', '\"', 'a', '\"', ':', '[', '{', '\"', 'n', '\"', ':', '\"', '.', '\"', ',', '\"', 's', '\"', ':', '\"', '.', '\"', '}', ']', '}']\n"
          ]
        },
        {
          "output_type": "execute_result",
          "data": {
            "text/plain": [
              "120"
            ]
          },
          "metadata": {},
          "execution_count": 15
        }
      ]
    },
    {
      "cell_type": "code",
      "source": [
        "flattened_characters = [char for seq in character_sequences for char in seq]"
      ],
      "metadata": {
        "id": "-CznyNX2fAsQ"
      },
      "execution_count": 16,
      "outputs": []
    },
    {
      "cell_type": "code",
      "source": [
        "len(flattened_characters)"
      ],
      "metadata": {
        "colab": {
          "base_uri": "https://localhost:8080/"
        },
        "id": "PK5gZZ7mfcHU",
        "outputId": "d82c8e86-2b43-431d-972b-4ab5e5783506"
      },
      "execution_count": 17,
      "outputs": [
        {
          "output_type": "execute_result",
          "data": {
            "text/plain": [
              "8292"
            ]
          },
          "metadata": {},
          "execution_count": 17
        }
      ]
    },
    {
      "cell_type": "code",
      "source": [
        "n = 3\n",
        "train_data, vocab = padded_everygram_pipeline(n, [flattened_characters])\n",
        "\n",
        "train_data_list = list(train_data)\n",
        "print(\"Training data:\", train_data_list)\n",
        "print(\"Vocabulary:\", list(vocab))\n",
        "\n",
        "train_data, vocab = padded_everygram_pipeline(n, [flattened_characters])\n",
        "\n",
        "model = MLE(n)\n",
        "model.fit(train_data, vocab)\n",
        "\n",
        "print(\"N-gram counts:\", model.counts)"
      ],
      "metadata": {
        "colab": {
          "base_uri": "https://localhost:8080/"
        },
        "id": "CYMyqjAufka4",
        "outputId": "51abaaa9-66bc-498a-b391-bec827c797ef"
      },
      "execution_count": 18,
      "outputs": [
        {
          "output_type": "stream",
          "name": "stdout",
          "text": [
            "Training data: [<generator object everygrams at 0x7fa09b5b8700>]\n",
            "Vocabulary: ['<s>', '<s>', '{', '\"', 'a', '\"', ':', '[', '{', '\"', 'n', '\"', ':', '\"', '.', '\"', ',', '\"', 's', '\"', ':', '\"', '.', '\"', '}', ']', '}', '{', '\"', 'a', '\"', ':', '[', '{', '\"', 'n', '\"', ':', '\"', '.', '\"', ',', '\"', 's', '\"', ':', '\"', '.', '\"', '}', ',', '{', '\"', 'n', '\"', ':', '\"', '.', '\"', ',', '\"', 's', '\"', ':', '\"', '.', '\"', '}', ']', '}', '{', '\"', 'a', '\"', ':', '[', '{', '\"', 'n', '\"', ':', '\"', '.', '\"', ',', '\"', 's', '\"', ':', '\"', '.', '\"', '}', ',', '{', '\"', 'n', '\"', ':', '\"', '.', '\"', ',', '\"', 's', '\"', ':', '\"', '.', '\"', '}', ',', '{', '\"', 'n', '\"', ':', '\"', '.', '\"', ',', '\"', 's', '\"', ':', '\"', '.', '\"', '}', ']', '}', '{', '\"', 'a', '\"', ':', '[', '{', '\"', 'n', '\"', ':', '\"', '.', '\"', ',', '\"', 's', '\"', ':', '\"', '.', '\"', '}', ',', '{', '\"', 'n', '\"', ':', '\"', '.', '\"', ',', '\"', 's', '\"', ':', '\"', '.', '\"', '}', ',', '{', '\"', 'n', '\"', ':', '\"', '.', '\"', ',', '\"', 's', '\"', ':', '\"', '.', '\"', '}', ',', '{', '\"', 'n', '\"', ':', '\"', '.', '\"', ',', '\"', 's', '\"', ':', '\"', '.', '\"', '}', ']', '}', '{', '\"', 'a', '\"', ':', '[', '{', '\"', 'n', '\"', ':', '\"', '.', '\"', ',', '\"', 's', '\"', ':', '\"', '.', '\"', '}', ']', '}', '{', '\"', 'a', '\"', ':', '[', '{', '\"', 'n', '\"', ':', '\"', '.', '\"', ',', '\"', 's', '\"', ':', '\"', '.', '\"', '}', ',', '{', '\"', 'n', '\"', ':', '\"', '.', '\"', ',', '\"', 's', '\"', ':', '\"', '.', '\"', '}', ',', '{', '\"', 'n', '\"', ':', '\"', '.', '\"', ',', '\"', 's', '\"', ':', '\"', '.', '\"', '}', ',', '{', '\"', 'n', '\"', ':', '\"', '.', '\"', ',', '\"', 's', '\"', ':', '\"', '.', '\"', '}', ',', '{', '\"', 'n', '\"', ':', '\"', '.', '\"', ',', '\"', 's', '\"', ':', '\"', '.', '\"', '}', ']', '}', '{', '\"', 'a', '\"', ':', '[', '{', '\"', 'n', '\"', ':', '\"', '.', '\"', ',', '\"', 's', '\"', ':', '\"', '.', '\"', '}', ']', '}', '{', '\"', 'a', '\"', ':', '[', '{', '\"', 'n', '\"', ':', '\"', '.', '\"', ',', '\"', 's', '\"', ':', '\"', '.', '\"', '}', ',', '{', '\"', 'n', '\"', ':', '\"', '.', '\"', ',', '\"', 's', '\"', ':', '\"', '.', '\"', '}', ']', '}', '{', '\"', 'a', '\"', ':', '[', '{', '\"', 'n', '\"', ':', '\"', '.', '\"', ',', '\"', 's', '\"', ':', '\"', '.', '\"', '}', ',', '{', '\"', 'n', '\"', ':', '\"', '.', '\"', ',', '\"', 's', '\"', ':', '\"', '.', '\"', '}', ',', '{', '\"', 'n', '\"', ':', '\"', '.', '\"', ',', '\"', 's', '\"', ':', '\"', '.', '\"', '}', ',', '{', '\"', 'n', '\"', ':', '\"', '.', '\"', ',', '\"', 's', '\"', ':', '\"', '.', '\"', '}', ',', '{', '\"', 'n', '\"', ':', '\"', '.', '\"', ',', '\"', 's', '\"', ':', '\"', '.', '\"', '}', ',', '{', '\"', 'n', '\"', ':', '\"', '.', '\"', ',', '\"', 's', '\"', ':', '\"', '.', '\"', '}', ']', '}', '{', '\"', 'a', '\"', ':', '[', '{', '\"', 'n', '\"', ':', '\"', '.', '\"', ',', '\"', 's', '\"', ':', '\"', '.', '\"', '}', ']', '}', '{', '\"', 'a', '\"', ':', '[', '{', '\"', 'n', '\"', ':', '\"', '.', '\"', ',', '\"', 's', '\"', ':', '\"', '.', '\"', '}', ',', '{', '\"', 'n', '\"', ':', '\"', '.', '\"', ',', '\"', 's', '\"', ':', '\"', '.', '\"', '}', ',', '{', '\"', 'n', '\"', ':', '\"', '.', '\"', ',', '\"', 's', '\"', ':', '\"', '.', '\"', '}', ']', '}', '{', '\"', 'a', '\"', ':', '[', '{', '\"', 'n', '\"', ':', '\"', '.', '\"', ',', '\"', 's', '\"', ':', '\"', '.', '\"', '}', ',', '{', '\"', 'n', '\"', ':', '\"', '.', '\"', ',', '\"', 's', '\"', ':', '\"', '.', '\"', '}', ']', '}', '{', '\"', 'a', '\"', ':', '[', '{', '\"', 'n', '\"', ':', '\"', '.', '\"', ',', '\"', 's', '\"', ':', '\"', '.', '\"', '}', ',', '{', '\"', 'n', '\"', ':', '\"', '.', '\"', ',', '\"', 's', '\"', ':', '\"', '.', '\"', '}', ',', '{', '\"', 'n', '\"', ':', '\"', '.', '\"', ',', '\"', 's', '\"', ':', '\"', '.', '\"', '}', ',', '{', '\"', 'n', '\"', ':', '\"', '.', '\"', ',', '\"', 's', '\"', ':', '\"', '.', '\"', '}', ',', '{', '\"', 'n', '\"', ':', '\"', '.', '\"', ',', '\"', 's', '\"', ':', '\"', '.', '\"', '}', ',', '{', '\"', 'n', '\"', ':', '\"', '.', '\"', ',', '\"', 's', '\"', ':', '\"', '.', '\"', '}', ',', '{', '\"', 'n', '\"', ':', '\"', '.', '\"', ',', '\"', 's', '\"', ':', '\"', '.', '\"', '}', ']', '}', '{', '\"', 'a', '\"', ':', '[', '{', '\"', 'n', '\"', ':', '\"', '.', '\"', ',', '\"', 's', '\"', ':', '\"', '.', '\"', '}', ']', '}', '{', '\"', 'a', '\"', ':', '[', '{', '\"', 'n', '\"', ':', '\"', '.', '\"', ',', '\"', 's', '\"', ':', '\"', '.', '\"', '}', ',', '{', '\"', 'n', '\"', ':', '\"', '.', '\"', ',', '\"', 's', '\"', ':', '\"', '.', '\"', '}', ',', '{', '\"', 'n', '\"', ':', '\"', '.', '\"', ',', '\"', 's', '\"', ':', '\"', '.', '\"', '}', ',', '{', '\"', 'n', '\"', ':', '\"', '.', '\"', ',', '\"', 's', '\"', ':', '\"', '.', '\"', '}', ']', '}', '{', '\"', 'a', '\"', ':', '[', '{', '\"', 'n', '\"', ':', '\"', '.', '\"', ',', '\"', 's', '\"', ':', '\"', '.', '\"', '}', ',', '{', '\"', 'n', '\"', ':', '\"', '.', '\"', ',', '\"', 's', '\"', ':', '\"', '.', '\"', '}', ']', '}', '{', '\"', 'a', '\"', ':', '[', '{', '\"', 'n', '\"', ':', '\"', '.', '\"', ',', '\"', 's', '\"', ':', '\"', '.', '\"', '}', ',', '{', '\"', 'n', '\"', ':', '\"', '.', '\"', ',', '\"', 's', '\"', ':', '\"', '.', '\"', '}', ',', '{', '\"', 'n', '\"', ':', '\"', '.', '\"', ',', '\"', 's', '\"', ':', '\"', '.', '\"', '}', ',', '{', '\"', 'n', '\"', ':', '\"', '.', '\"', ',', '\"', 's', '\"', ':', '\"', '.', '\"', '}', ',', '{', '\"', 'n', '\"', ':', '\"', '.', '\"', ',', '\"', 's', '\"', ':', '\"', '.', '\"', '}', ']', '}', '{', '\"', 'a', '\"', ':', '[', '{', '\"', 'n', '\"', ':', '\"', '.', '\"', ',', '\"', 's', '\"', ':', '\"', '.', '\"', '}', ']', '}', '{', '\"', 'a', '\"', ':', '[', '{', '\"', 'n', '\"', ':', '\"', '.', '\"', ',', '\"', 's', '\"', ':', '\"', '.', '\"', '}', ',', '{', '\"', 'n', '\"', ':', '\"', '.', '\"', ',', '\"', 's', '\"', ':', '\"', '.', '\"', '}', ',', '{', '\"', 'n', '\"', ':', '\"', '.', '\"', ',', '\"', 's', '\"', ':', '\"', '.', '\"', '}', ',', '{', '\"', 'n', '\"', ':', '\"', '.', '\"', ',', '\"', 's', '\"', ':', '\"', '.', '\"', '}', ']', '}', '{', '\"', 'a', '\"', ':', '[', '{', '\"', 'n', '\"', ':', '\"', '.', '\"', ',', '\"', 's', '\"', ':', '\"', '.', '\"', '}', ',', '{', '\"', 'n', '\"', ':', '\"', '.', '\"', ',', '\"', 's', '\"', ':', '\"', '.', '\"', '}', ']', '}', '{', '\"', 'a', '\"', ':', '[', '{', '\"', 'n', '\"', ':', '\"', '.', '\"', ',', '\"', 's', '\"', ':', '\"', '.', '\"', '}', ',', '{', '\"', 'n', '\"', ':', '\"', '.', '\"', ',', '\"', 's', '\"', ':', '\"', '.', '\"', '}', ']', '}', '{', '\"', 'a', '\"', ':', '[', '{', '\"', 'n', '\"', ':', '\"', '.', '\"', ',', '\"', 's', '\"', ':', '\"', '.', '\"', '}', ',', '{', '\"', 'n', '\"', ':', '\"', '.', '\"', ',', '\"', 's', '\"', ':', '\"', '.', '\"', '}', ',', '{', '\"', 'n', '\"', ':', '\"', '.', '\"', ',', '\"', 's', '\"', ':', '\"', '.', '\"', '}', ',', '{', '\"', 'n', '\"', ':', '\"', '.', '\"', ',', '\"', 's', '\"', ':', '\"', '.', '\"', '}', ']', '}', '{', '\"', 'a', '\"', ':', '[', '{', '\"', 'n', '\"', ':', '\"', '.', '\"', ',', '\"', 's', '\"', ':', '\"', '.', '\"', '}', ',', '{', '\"', 'n', '\"', ':', '\"', '.', '\"', ',', '\"', 's', '\"', ':', '\"', '.', '\"', '}', ',', '{', '\"', 'n', '\"', ':', '\"', '.', '\"', ',', '\"', 's', '\"', ':', '\"', '.', '\"', '}', ']', '}', '{', '\"', 'a', '\"', ':', '[', '{', '\"', 'n', '\"', ':', '\"', '.', '\"', ',', '\"', 's', '\"', ':', '\"', '.', '\"', '}', ',', '{', '\"', 'n', '\"', ':', '\"', '.', '\"', ',', '\"', 's', '\"', ':', '\"', '.', '\"', '}', ']', '}', '{', '\"', 'a', '\"', ':', '[', '{', '\"', 'n', '\"', ':', '\"', '.', '\"', ',', '\"', 's', '\"', ':', '\"', '.', '\"', '}', ']', '}', '{', '\"', 'a', '\"', ':', '[', '{', '\"', 'n', '\"', ':', '\"', '.', '\"', ',', '\"', 's', '\"', ':', '\"', '.', '\"', '}', ',', '{', '\"', 'n', '\"', ':', '\"', '.', '\"', ',', '\"', 's', '\"', ':', '\"', '.', '\"', '}', ',', '{', '\"', 'n', '\"', ':', '\"', '.', '\"', ',', '\"', 's', '\"', ':', '\"', '.', '\"', '}', ',', '{', '\"', 'n', '\"', ':', '\"', '.', '\"', ',', '\"', 's', '\"', ':', '\"', '.', '\"', '}', ',', '{', '\"', 'n', '\"', ':', '\"', '.', '\"', ',', '\"', 's', '\"', ':', '\"', '.', '\"', '}', ',', '{', '\"', 'n', '\"', ':', '\"', '.', '\"', ',', '\"', 's', '\"', ':', '\"', '.', '\"', '}', ']', '}', '{', '\"', 'a', '\"', ':', '[', '{', '\"', 'n', '\"', ':', '\"', '.', '\"', ',', '\"', 's', '\"', ':', '\"', '.', '\"', '}', ',', '{', '\"', 'n', '\"', ':', '\"', '.', '\"', ',', '\"', 's', '\"', ':', '\"', '.', '\"', '}', ',', '{', '\"', 'n', '\"', ':', '\"', '.', '\"', ',', '\"', 's', '\"', ':', '\"', '.', '\"', '}', ']', '}', '{', '\"', 'a', '\"', ':', '[', '{', '\"', 'n', '\"', ':', '\"', '.', '\"', ',', '\"', 's', '\"', ':', '\"', '.', '\"', '}', ',', '{', '\"', 'n', '\"', ':', '\"', '.', '\"', ',', '\"', 's', '\"', ':', '\"', '.', '\"', '}', ',', '{', '\"', 'n', '\"', ':', '\"', '.', '\"', ',', '\"', 's', '\"', ':', '\"', '.', '\"', '}', ',', '{', '\"', 'n', '\"', ':', '\"', '.', '\"', ',', '\"', 's', '\"', ':', '\"', '.', '\"', '}', ',', '{', '\"', 'n', '\"', ':', '\"', '.', '\"', ',', '\"', 's', '\"', ':', '\"', '.', '\"', '}', ',', '{', '\"', 'n', '\"', ':', '\"', '.', '\"', ',', '\"', 's', '\"', ':', '\"', '.', '\"', '}', ']', '}', '{', '\"', 'a', '\"', ':', '[', '{', '\"', 'n', '\"', ':', '\"', '.', '\"', ',', '\"', 's', '\"', ':', '\"', '.', '\"', '}', ']', '}', '{', '\"', 'a', '\"', ':', '[', '{', '\"', 'n', '\"', ':', '\"', '.', '\"', ',', '\"', 's', '\"', ':', '\"', '.', '\"', '}', ',', '{', '\"', 'n', '\"', ':', '\"', '.', '\"', ',', '\"', 's', '\"', ':', '\"', '.', '\"', '}', ',', '{', '\"', 'n', '\"', ':', '\"', '.', '\"', ',', '\"', 's', '\"', ':', '\"', '.', '\"', '}', ',', '{', '\"', 'n', '\"', ':', '\"', '.', '\"', ',', '\"', 's', '\"', ':', '\"', '.', '\"', '}', ']', '}', '{', '\"', 'a', '\"', ':', '[', '{', '\"', 'n', '\"', ':', '\"', '.', '\"', ',', '\"', 's', '\"', ':', '\"', '.', '\"', '}', ',', '{', '\"', 'n', '\"', ':', '\"', '.', '\"', ',', '\"', 's', '\"', ':', '\"', '.', '\"', '}', ',', '{', '\"', 'n', '\"', ':', '\"', '.', '\"', ',', '\"', 's', '\"', ':', '\"', '.', '\"', '}', ',', '{', '\"', 'n', '\"', ':', '\"', '.', '\"', ',', '\"', 's', '\"', ':', '\"', '.', '\"', '}', ']', '}', '{', '\"', 'a', '\"', ':', '[', '{', '\"', 'n', '\"', ':', '\"', '.', '\"', ',', '\"', 's', '\"', ':', '\"', '.', '\"', '}', ',', '{', '\"', 'n', '\"', ':', '\"', '.', '\"', ',', '\"', 's', '\"', ':', '\"', '.', '\"', '}', ']', '}', '{', '\"', 'a', '\"', ':', '[', '{', '\"', 'n', '\"', ':', '\"', '.', '\"', ',', '\"', 's', '\"', ':', '\"', '.', '\"', '}', ',', '{', '\"', 'n', '\"', ':', '\"', '.', '\"', ',', '\"', 's', '\"', ':', '\"', '.', '\"', '}', ',', '{', '\"', 'n', '\"', ':', '\"', '.', '\"', ',', '\"', 's', '\"', ':', '\"', '.', '\"', '}', ',', '{', '\"', 'n', '\"', ':', '\"', '.', '\"', ',', '\"', 's', '\"', ':', '\"', '.', '\"', '}', ',', '{', '\"', 'n', '\"', ':', '\"', '.', '\"', ',', '\"', 's', '\"', ':', '\"', '.', '\"', '}', ',', '{', '\"', 'n', '\"', ':', '\"', '.', '\"', ',', '\"', 's', '\"', ':', '\"', '.', '\"', '}', ']', '}', '{', '\"', 'a', '\"', ':', '[', '{', '\"', 'n', '\"', ':', '\"', '.', '\"', ',', '\"', 's', '\"', ':', '\"', '.', '\"', '}', ',', '{', '\"', 'n', '\"', ':', '\"', '.', '\"', ',', '\"', 's', '\"', ':', '\"', '.', '\"', '}', ',', '{', '\"', 'n', '\"', ':', '\"', '.', '\"', ',', '\"', 's', '\"', ':', '\"', '.', '\"', '}', ']', '}', '{', '\"', 'a', '\"', ':', '[', '{', '\"', 'n', '\"', ':', '\"', '.', '\"', ',', '\"', 's', '\"', ':', '\"', '.', '\"', '}', ',', '{', '\"', 'n', '\"', ':', '\"', '.', '\"', ',', '\"', 's', '\"', ':', '\"', '.', '\"', '}', ',', '{', '\"', 'n', '\"', ':', '\"', '.', '\"', ',', '\"', 's', '\"', ':', '\"', '.', '\"', '}', ',', '{', '\"', 'n', '\"', ':', '\"', '.', '\"', ',', '\"', 's', '\"', ':', '\"', '.', '\"', '}', ']', '}', '{', '\"', 'a', '\"', ':', '[', '{', '\"', 'n', '\"', ':', '\"', '.', '\"', ',', '\"', 's', '\"', ':', '\"', '.', '\"', '}', ',', '{', '\"', 'n', '\"', ':', '\"', '.', '\"', ',', '\"', 's', '\"', ':', '\"', '.', '\"', '}', ',', '{', '\"', 'n', '\"', ':', '\"', '.', '\"', ',', '\"', 's', '\"', ':', '\"', '.', '\"', '}', ']', '}', '{', '\"', 'a', '\"', ':', '[', '{', '\"', 'n', '\"', ':', '\"', '.', '\"', ',', '\"', 's', '\"', ':', '\"', '.', '\"', '}', ',', '{', '\"', 'n', '\"', ':', '\"', '.', '\"', ',', '\"', 's', '\"', ':', '\"', '.', '\"', '}', ',', '{', '\"', 'n', '\"', ':', '\"', '.', '\"', ',', '\"', 's', '\"', ':', '\"', '.', '\"', '}', ',', '{', '\"', 'n', '\"', ':', '\"', '.', '\"', ',', '\"', 's', '\"', ':', '\"', '.', '\"', '}', ',', '{', '\"', 'n', '\"', ':', '\"', '.', '\"', ',', '\"', 's', '\"', ':', '\"', '.', '\"', '}', ']', '}', '{', '\"', 'a', '\"', ':', '[', '{', '\"', 'n', '\"', ':', '\"', '.', '\"', ',', '\"', 's', '\"', ':', '\"', '.', '\"', '}', ',', '{', '\"', 'n', '\"', ':', '\"', '.', '\"', ',', '\"', 's', '\"', ':', '\"', '.', '\"', '}', ',', '{', '\"', 'n', '\"', ':', '\"', '.', '\"', ',', '\"', 's', '\"', ':', '\"', '.', '\"', '}', ',', '{', '\"', 'n', '\"', ':', '\"', '.', '\"', ',', '\"', 's', '\"', ':', '\"', '.', '\"', '}', ']', '}', '{', '\"', 'a', '\"', ':', '[', '{', '\"', 'n', '\"', ':', '\"', '.', '\"', ',', '\"', 's', '\"', ':', '\"', '.', '\"', '}', ',', '{', '\"', 'n', '\"', ':', '\"', '.', '\"', ',', '\"', 's', '\"', ':', '\"', '.', '\"', '}', ',', '{', '\"', 'n', '\"', ':', '\"', '.', '\"', ',', '\"', 's', '\"', ':', '\"', '.', '\"', '}', ',', '{', '\"', 'n', '\"', ':', '\"', '.', '\"', ',', '\"', 's', '\"', ':', '\"', '.', '\"', '}', ']', '}', '{', '\"', 'a', '\"', ':', '[', '{', '\"', 'n', '\"', ':', '\"', '.', '\"', ',', '\"', 's', '\"', ':', '\"', '.', '\"', '}', ',', '{', '\"', 'n', '\"', ':', '\"', '.', '\"', ',', '\"', 's', '\"', ':', '\"', '.', '\"', '}', ',', '{', '\"', 'n', '\"', ':', '\"', '.', '\"', ',', '\"', 's', '\"', ':', '\"', '.', '\"', '}', ',', '{', '\"', 'n', '\"', ':', '\"', '.', '\"', ',', '\"', 's', '\"', ':', '\"', '.', '\"', '}', ',', '{', '\"', 'n', '\"', ':', '\"', '.', '\"', ',', '\"', 's', '\"', ':', '\"', '.', '\"', '}', ',', '{', '\"', 'n', '\"', ':', '\"', '.', '\"', ',', '\"', 's', '\"', ':', '\"', '.', '\"', '}', ']', '}', '{', '\"', 'a', '\"', ':', '[', '{', '\"', 'n', '\"', ':', '\"', '.', '\"', ',', '\"', 's', '\"', ':', '\"', '.', '\"', '}', ',', '{', '\"', 'n', '\"', ':', '\"', '.', '\"', ',', '\"', 's', '\"', ':', '\"', '.', '\"', '}', ']', '}', '{', '\"', 'a', '\"', ':', '[', '{', '\"', 'n', '\"', ':', '\"', '.', '\"', ',', '\"', 's', '\"', ':', '\"', '.', '\"', '}', ',', '{', '\"', 'n', '\"', ':', '\"', '.', '\"', ',', '\"', 's', '\"', ':', '\"', '.', '\"', '}', ']', '}', '{', '\"', 'a', '\"', ':', '[', '{', '\"', 'n', '\"', ':', '\"', '.', '\"', ',', '\"', 's', '\"', ':', '\"', '.', '\"', '}', ']', '}', '{', '\"', 'a', '\"', ':', '[', '{', '\"', 'n', '\"', ':', '\"', '.', '\"', ',', '\"', 's', '\"', ':', '\"', '.', '\"', '}', ',', '{', '\"', 'n', '\"', ':', '\"', '.', '\"', ',', '\"', 's', '\"', ':', '\"', '.', '\"', '}', ',', '{', '\"', 'n', '\"', ':', '\"', '.', '\"', ',', '\"', 's', '\"', ':', '\"', '.', '\"', '}', ',', '{', '\"', 'n', '\"', ':', '\"', '.', '\"', ',', '\"', 's', '\"', ':', '\"', '.', '\"', '}', ',', '{', '\"', 'n', '\"', ':', '\"', '.', '\"', ',', '\"', 's', '\"', ':', '\"', '.', '\"', '}', ']', '}', '{', '\"', 'a', '\"', ':', '[', '{', '\"', 'n', '\"', ':', '\"', '.', '\"', ',', '\"', 's', '\"', ':', '\"', '.', '\"', '}', ',', '{', '\"', 'n', '\"', ':', '\"', '.', '\"', ',', '\"', 's', '\"', ':', '\"', '.', '\"', '}', ',', '{', '\"', 'n', '\"', ':', '\"', '.', '\"', ',', '\"', 's', '\"', ':', '\"', '.', '\"', '}', ',', '{', '\"', 'n', '\"', ':', '\"', '.', '\"', ',', '\"', 's', '\"', ':', '\"', '.', '\"', '}', ',', '{', '\"', 'n', '\"', ':', '\"', '.', '\"', ',', '\"', 's', '\"', ':', '\"', '.', '\"', '}', ',', '{', '\"', 'n', '\"', ':', '\"', '.', '\"', ',', '\"', 's', '\"', ':', '\"', '.', '\"', '}', ']', '}', '{', '\"', 'a', '\"', ':', '[', '{', '\"', 'n', '\"', ':', '\"', '.', '\"', ',', '\"', 's', '\"', ':', '\"', '.', '\"', '}', ',', '{', '\"', 'n', '\"', ':', '\"', '.', '\"', ',', '\"', 's', '\"', ':', '\"', '.', '\"', '}', ',', '{', '\"', 'n', '\"', ':', '\"', '.', '\"', ',', '\"', 's', '\"', ':', '\"', '.', '\"', '}', ',', '{', '\"', 'n', '\"', ':', '\"', '.', '\"', ',', '\"', 's', '\"', ':', '\"', '.', '\"', '}', ']', '}', '{', '\"', 'a', '\"', ':', '[', '{', '\"', 'n', '\"', ':', '\"', '.', '\"', ',', '\"', 's', '\"', ':', '\"', '.', '\"', '}', ']', '}', '{', '\"', 'a', '\"', ':', '[', '{', '\"', 'n', '\"', ':', '\"', '.', '\"', ',', '\"', 's', '\"', ':', '\"', '.', '\"', '}', ',', '{', '\"', 'n', '\"', ':', '\"', '.', '\"', ',', '\"', 's', '\"', ':', '\"', '.', '\"', '}', ',', '{', '\"', 'n', '\"', ':', '\"', '.', '\"', ',', '\"', 's', '\"', ':', '\"', '.', '\"', '}', ',', '{', '\"', 'n', '\"', ':', '\"', '.', '\"', ',', '\"', 's', '\"', ':', '\"', '.', '\"', '}', ',', '{', '\"', 'n', '\"', ':', '\"', '.', '\"', ',', '\"', 's', '\"', ':', '\"', '.', '\"', '}', ']', '}', '{', '\"', 'a', '\"', ':', '[', '{', '\"', 'n', '\"', ':', '\"', '.', '\"', ',', '\"', 's', '\"', ':', '\"', '.', '\"', '}', ']', '}', '{', '\"', 'a', '\"', ':', '[', '{', '\"', 'n', '\"', ':', '\"', '.', '\"', ',', '\"', 's', '\"', ':', '\"', '.', '\"', '}', ',', '{', '\"', 'n', '\"', ':', '\"', '.', '\"', ',', '\"', 's', '\"', ':', '\"', '.', '\"', '}', ',', '{', '\"', 'n', '\"', ':', '\"', '.', '\"', ',', '\"', 's', '\"', ':', '\"', '.', '\"', '}', ',', '{', '\"', 'n', '\"', ':', '\"', '.', '\"', ',', '\"', 's', '\"', ':', '\"', '.', '\"', '}', ',', '{', '\"', 'n', '\"', ':', '\"', '.', '\"', ',', '\"', 's', '\"', ':', '\"', '.', '\"', '}', ',', '{', '\"', 'n', '\"', ':', '\"', '.', '\"', ',', '\"', 's', '\"', ':', '\"', '.', '\"', '}', ']', '}', '{', '\"', 'a', '\"', ':', '[', '{', '\"', 'n', '\"', ':', '\"', '.', '\"', ',', '\"', 's', '\"', ':', '\"', '.', '\"', '}', ',', '{', '\"', 'n', '\"', ':', '\"', '.', '\"', ',', '\"', 's', '\"', ':', '\"', '.', '\"', '}', ',', '{', '\"', 'n', '\"', ':', '\"', '.', '\"', ',', '\"', 's', '\"', ':', '\"', '.', '\"', '}', ',', '{', '\"', 'n', '\"', ':', '\"', '.', '\"', ',', '\"', 's', '\"', ':', '\"', '.', '\"', '}', ']', '}', '{', '\"', 'a', '\"', ':', '[', '{', '\"', 'n', '\"', ':', '\"', '.', '\"', ',', '\"', 's', '\"', ':', '\"', '.', '\"', '}', ',', '{', '\"', 'n', '\"', ':', '\"', '.', '\"', ',', '\"', 's', '\"', ':', '\"', '.', '\"', '}', ',', '{', '\"', 'n', '\"', ':', '\"', '.', '\"', ',', '\"', 's', '\"', ':', '\"', '.', '\"', '}', ',', '{', '\"', 'n', '\"', ':', '\"', '.', '\"', ',', '\"', 's', '\"', ':', '\"', '.', '\"', '}', ',', '{', '\"', 'n', '\"', ':', '\"', '.', '\"', ',', '\"', 's', '\"', ':', '\"', '.', '\"', '}', ']', '}', '{', '\"', 'a', '\"', ':', '[', '{', '\"', 'n', '\"', ':', '\"', '.', '\"', ',', '\"', 's', '\"', ':', '\"', '.', '\"', '}', ',', '{', '\"', 'n', '\"', ':', '\"', '.', '\"', ',', '\"', 's', '\"', ':', '\"', '.', '\"', '}', ',', '{', '\"', 'n', '\"', ':', '\"', '.', '\"', ',', '\"', 's', '\"', ':', '\"', '.', '\"', '}', ',', '{', '\"', 'n', '\"', ':', '\"', '.', '\"', ',', '\"', 's', '\"', ':', '\"', '.', '\"', '}', ']', '}', '{', '\"', 'a', '\"', ':', '[', '{', '\"', 'n', '\"', ':', '\"', '.', '\"', ',', '\"', 's', '\"', ':', '\"', '.', '\"', '}', ',', '{', '\"', 'n', '\"', ':', '\"', '.', '\"', ',', '\"', 's', '\"', ':', '\"', '.', '\"', '}', ',', '{', '\"', 'n', '\"', ':', '\"', '.', '\"', ',', '\"', 's', '\"', ':', '\"', '.', '\"', '}', ']', '}', '{', '\"', 'a', '\"', ':', '[', '{', '\"', 'n', '\"', ':', '\"', '.', '\"', ',', '\"', 's', '\"', ':', '\"', '.', '\"', '}', ',', '{', '\"', 'n', '\"', ':', '\"', '.', '\"', ',', '\"', 's', '\"', ':', '\"', '.', '\"', '}', ',', '{', '\"', 'n', '\"', ':', '\"', '.', '\"', ',', '\"', 's', '\"', ':', '\"', '.', '\"', '}', ',', '{', '\"', 'n', '\"', ':', '\"', '.', '\"', ',', '\"', 's', '\"', ':', '\"', '.', '\"', '}', ',', '{', '\"', 'n', '\"', ':', '\"', '.', '\"', ',', '\"', 's', '\"', ':', '\"', '.', '\"', '}', ',', '{', '\"', 'n', '\"', ':', '\"', '.', '\"', ',', '\"', 's', '\"', ':', '\"', '.', '\"', '}', ']', '}', '{', '\"', 'a', '\"', ':', '[', '{', '\"', 'n', '\"', ':', '\"', '.', '\"', ',', '\"', 's', '\"', ':', '\"', '.', '\"', '}', ',', '{', '\"', 'n', '\"', ':', '\"', '.', '\"', ',', '\"', 's', '\"', ':', '\"', '.', '\"', '}', ',', '{', '\"', 'n', '\"', ':', '\"', '.', '\"', ',', '\"', 's', '\"', ':', '\"', '.', '\"', '}', ',', '{', '\"', 'n', '\"', ':', '\"', '.', '\"', ',', '\"', 's', '\"', ':', '\"', '.', '\"', '}', ',', '{', '\"', 'n', '\"', ':', '\"', '.', '\"', ',', '\"', 's', '\"', ':', '\"', '.', '\"', '}', ',', '{', '\"', 'n', '\"', ':', '\"', '.', '\"', ',', '\"', 's', '\"', ':', '\"', '.', '\"', '}', ']', '}', '{', '\"', 'a', '\"', ':', '[', '{', '\"', 'n', '\"', ':', '\"', '.', '\"', ',', '\"', 's', '\"', ':', '\"', '.', '\"', '}', ',', '{', '\"', 'n', '\"', ':', '\"', '.', '\"', ',', '\"', 's', '\"', ':', '\"', '.', '\"', '}', ',', '{', '\"', 'n', '\"', ':', '\"', '.', '\"', ',', '\"', 's', '\"', ':', '\"', '.', '\"', '}', ',', '{', '\"', 'n', '\"', ':', '\"', '.', '\"', ',', '\"', 's', '\"', ':', '\"', '.', '\"', '}', ']', '}', '{', '\"', 'a', '\"', ':', '[', '{', '\"', 'n', '\"', ':', '\"', '.', '\"', ',', '\"', 's', '\"', ':', '\"', '.', '\"', '}', ']', '}', '{', '\"', 'a', '\"', ':', '[', '{', '\"', 'n', '\"', ':', '\"', '.', '\"', ',', '\"', 's', '\"', ':', '\"', '.', '\"', '}', ',', '{', '\"', 'n', '\"', ':', '\"', '.', '\"', ',', '\"', 's', '\"', ':', '\"', '.', '\"', '}', ',', '{', '\"', 'n', '\"', ':', '\"', '.', '\"', ',', '\"', 's', '\"', ':', '\"', '.', '\"', '}', ',', '{', '\"', 'n', '\"', ':', '\"', '.', '\"', ',', '\"', 's', '\"', ':', '\"', '.', '\"', '}', ']', '}', '{', '\"', 'a', '\"', ':', '[', '{', '\"', 'n', '\"', ':', '\"', '.', '\"', ',', '\"', 's', '\"', ':', '\"', '.', '\"', '}', ',', '{', '\"', 'n', '\"', ':', '\"', '.', '\"', ',', '\"', 's', '\"', ':', '\"', '.', '\"', '}', ',', '{', '\"', 'n', '\"', ':', '\"', '.', '\"', ',', '\"', 's', '\"', ':', '\"', '.', '\"', '}', ',', '{', '\"', 'n', '\"', ':', '\"', '.', '\"', ',', '\"', 's', '\"', ':', '\"', '.', '\"', '}', ',', '{', '\"', 'n', '\"', ':', '\"', '.', '\"', ',', '\"', 's', '\"', ':', '\"', '.', '\"', '}', ']', '}', '{', '\"', 'a', '\"', ':', '[', '{', '\"', 'n', '\"', ':', '\"', '.', '\"', ',', '\"', 's', '\"', ':', '\"', '.', '\"', '}', ',', '{', '\"', 'n', '\"', ':', '\"', '.', '\"', ',', '\"', 's', '\"', ':', '\"', '.', '\"', '}', ',', '{', '\"', 'n', '\"', ':', '\"', '.', '\"', ',', '\"', 's', '\"', ':', '\"', '.', '\"', '}', ',', '{', '\"', 'n', '\"', ':', '\"', '.', '\"', ',', '\"', 's', '\"', ':', '\"', '.', '\"', '}', ',', '{', '\"', 'n', '\"', ':', '\"', '.', '\"', ',', '\"', 's', '\"', ':', '\"', '.', '\"', '}', ',', '{', '\"', 'n', '\"', ':', '\"', '.', '\"', ',', '\"', 's', '\"', ':', '\"', '.', '\"', '}', ']', '}', '{', '\"', 'a', '\"', ':', '[', '{', '\"', 'n', '\"', ':', '\"', '.', '\"', ',', '\"', 's', '\"', ':', '\"', '.', '\"', '}', ',', '{', '\"', 'n', '\"', ':', '\"', '.', '\"', ',', '\"', 's', '\"', ':', '\"', '.', '\"', '}', ',', '{', '\"', 'n', '\"', ':', '\"', '.', '\"', ',', '\"', 's', '\"', ':', '\"', '.', '\"', '}', ',', '{', '\"', 'n', '\"', ':', '\"', '.', '\"', ',', '\"', 's', '\"', ':', '\"', '.', '\"', '}', ',', '{', '\"', 'n', '\"', ':', '\"', '.', '\"', ',', '\"', 's', '\"', ':', '\"', '.', '\"', '}', ',', '{', '\"', 'n', '\"', ':', '\"', '.', '\"', ',', '\"', 's', '\"', ':', '\"', '.', '\"', '}', ']', '}', '{', '\"', 'a', '\"', ':', '[', '{', '\"', 'n', '\"', ':', '\"', '.', '\"', ',', '\"', 's', '\"', ':', '\"', '.', '\"', '}', ',', '{', '\"', 'n', '\"', ':', '\"', '.', '\"', ',', '\"', 's', '\"', ':', '\"', '.', '\"', '}', ']', '}', '{', '\"', 'a', '\"', ':', '[', '{', '\"', 'n', '\"', ':', '\"', '.', '\"', ',', '\"', 's', '\"', ':', '\"', '.', '\"', '}', ',', '{', '\"', 'n', '\"', ':', '\"', '.', '\"', ',', '\"', 's', '\"', ':', '\"', '.', '\"', '}', ',', '{', '\"', 'n', '\"', ':', '\"', '.', '\"', ',', '\"', 's', '\"', ':', '\"', '.', '\"', '}', ',', '{', '\"', 'n', '\"', ':', '\"', '.', '\"', ',', '\"', 's', '\"', ':', '\"', '.', '\"', '}', ',', '{', '\"', 'n', '\"', ':', '\"', '.', '\"', ',', '\"', 's', '\"', ':', '\"', '.', '\"', '}', ',', '{', '\"', 'n', '\"', ':', '\"', '.', '\"', ',', '\"', 's', '\"', ':', '\"', '.', '\"', '}', ']', '}', '{', '\"', 'a', '\"', ':', '[', '{', '\"', 'n', '\"', ':', '\"', '.', '\"', ',', '\"', 's', '\"', ':', '\"', '.', '\"', '}', ']', '}', '{', '\"', 'a', '\"', ':', '[', '{', '\"', 'n', '\"', ':', '\"', '.', '\"', ',', '\"', 's', '\"', ':', '\"', '.', '\"', '}', ',', '{', '\"', 'n', '\"', ':', '\"', '.', '\"', ',', '\"', 's', '\"', ':', '\"', '.', '\"', '}', ',', '{', '\"', 'n', '\"', ':', '\"', '.', '\"', ',', '\"', 's', '\"', ':', '\"', '.', '\"', '}', ']', '}', '{', '\"', 'a', '\"', ':', '[', '{', '\"', 'n', '\"', ':', '\"', '.', '\"', ',', '\"', 's', '\"', ':', '\"', '.', '\"', '}', ',', '{', '\"', 'n', '\"', ':', '\"', '.', '\"', ',', '\"', 's', '\"', ':', '\"', '.', '\"', '}', ',', '{', '\"', 'n', '\"', ':', '\"', '.', '\"', ',', '\"', 's', '\"', ':', '\"', '.', '\"', '}', ',', '{', '\"', 'n', '\"', ':', '\"', '.', '\"', ',', '\"', 's', '\"', ':', '\"', '.', '\"', '}', ',', '{', '\"', 'n', '\"', ':', '\"', '.', '\"', ',', '\"', 's', '\"', ':', '\"', '.', '\"', '}', ',', '{', '\"', 'n', '\"', ':', '\"', '.', '\"', ',', '\"', 's', '\"', ':', '\"', '.', '\"', '}', ']', '}', '{', '\"', 'a', '\"', ':', '[', '{', '\"', 'n', '\"', ':', '\"', '.', '\"', ',', '\"', 's', '\"', ':', '\"', '.', '\"', '}', ',', '{', '\"', 'n', '\"', ':', '\"', '.', '\"', ',', '\"', 's', '\"', ':', '\"', '.', '\"', '}', ',', '{', '\"', 'n', '\"', ':', '\"', '.', '\"', ',', '\"', 's', '\"', ':', '\"', '.', '\"', '}', ',', '{', '\"', 'n', '\"', ':', '\"', '.', '\"', ',', '\"', 's', '\"', ':', '\"', '.', '\"', '}', ']', '}', '{', '\"', 'a', '\"', ':', '[', '{', '\"', 'n', '\"', ':', '\"', '.', '\"', ',', '\"', 's', '\"', ':', '\"', '.', '\"', '}', ',', '{', '\"', 'n', '\"', ':', '\"', '.', '\"', ',', '\"', 's', '\"', ':', '\"', '.', '\"', '}', ',', '{', '\"', 'n', '\"', ':', '\"', '.', '\"', ',', '\"', 's', '\"', ':', '\"', '.', '\"', '}', ',', '{', '\"', 'n', '\"', ':', '\"', '.', '\"', ',', '\"', 's', '\"', ':', '\"', '.', '\"', '}', ']', '}', '{', '\"', 'a', '\"', ':', '[', '{', '\"', 'n', '\"', ':', '\"', '.', '\"', ',', '\"', 's', '\"', ':', '\"', '.', '\"', '}', ']', '}', '{', '\"', 'a', '\"', ':', '[', '{', '\"', 'n', '\"', ':', '\"', '.', '\"', ',', '\"', 's', '\"', ':', '\"', '.', '\"', '}', ',', '{', '\"', 'n', '\"', ':', '\"', '.', '\"', ',', '\"', 's', '\"', ':', '\"', '.', '\"', '}', ',', '{', '\"', 'n', '\"', ':', '\"', '.', '\"', ',', '\"', 's', '\"', ':', '\"', '.', '\"', '}', ']', '}', '{', '\"', 'a', '\"', ':', '[', '{', '\"', 'n', '\"', ':', '\"', '.', '\"', ',', '\"', 's', '\"', ':', '\"', '.', '\"', '}', ',', '{', '\"', 'n', '\"', ':', '\"', '.', '\"', ',', '\"', 's', '\"', ':', '\"', '.', '\"', '}', ',', '{', '\"', 'n', '\"', ':', '\"', '.', '\"', ',', '\"', 's', '\"', ':', '\"', '.', '\"', '}', ']', '}', '{', '\"', 'a', '\"', ':', '[', '{', '\"', 'n', '\"', ':', '\"', '.', '\"', ',', '\"', 's', '\"', ':', '\"', '.', '\"', '}', ',', '{', '\"', 'n', '\"', ':', '\"', '.', '\"', ',', '\"', 's', '\"', ':', '\"', '.', '\"', '}', ',', '{', '\"', 'n', '\"', ':', '\"', '.', '\"', ',', '\"', 's', '\"', ':', '\"', '.', '\"', '}', ']', '}', '{', '\"', 'a', '\"', ':', '[', '{', '\"', 'n', '\"', ':', '\"', '.', '\"', ',', '\"', 's', '\"', ':', '\"', '.', '\"', '}', ',', '{', '\"', 'n', '\"', ':', '\"', '.', '\"', ',', '\"', 's', '\"', ':', '\"', '.', '\"', '}', ',', '{', '\"', 'n', '\"', ':', '\"', '.', '\"', ',', '\"', 's', '\"', ':', '\"', '.', '\"', '}', ',', '{', '\"', 'n', '\"', ':', '\"', '.', '\"', ',', '\"', 's', '\"', ':', '\"', '.', '\"', '}', ',', '{', '\"', 'n', '\"', ':', '\"', '.', '\"', ',', '\"', 's', '\"', ':', '\"', '.', '\"', '}', ']', '}', '{', '\"', 'a', '\"', ':', '[', '{', '\"', 'n', '\"', ':', '\"', '.', '\"', ',', '\"', 's', '\"', ':', '\"', '.', '\"', '}', ',', '{', '\"', 'n', '\"', ':', '\"', '.', '\"', ',', '\"', 's', '\"', ':', '\"', '.', '\"', '}', ',', '{', '\"', 'n', '\"', ':', '\"', '.', '\"', ',', '\"', 's', '\"', ':', '\"', '.', '\"', '}', ',', '{', '\"', 'n', '\"', ':', '\"', '.', '\"', ',', '\"', 's', '\"', ':', '\"', '.', '\"', '}', ',', '{', '\"', 'n', '\"', ':', '\"', '.', '\"', ',', '\"', 's', '\"', ':', '\"', '.', '\"', '}', ',', '{', '\"', 'n', '\"', ':', '\"', '.', '\"', ',', '\"', 's', '\"', ':', '\"', '.', '\"', '}', ']', '}', '{', '\"', 'a', '\"', ':', '[', '{', '\"', 'n', '\"', ':', '\"', '.', '\"', ',', '\"', 's', '\"', ':', '\"', '.', '\"', '}', ',', '{', '\"', 'n', '\"', ':', '\"', '.', '\"', ',', '\"', 's', '\"', ':', '\"', '.', '\"', '}', ',', '{', '\"', 'n', '\"', ':', '\"', '.', '\"', ',', '\"', 's', '\"', ':', '\"', '.', '\"', '}', ',', '{', '\"', 'n', '\"', ':', '\"', '.', '\"', ',', '\"', 's', '\"', ':', '\"', '.', '\"', '}', ',', '{', '\"', 'n', '\"', ':', '\"', '.', '\"', ',', '\"', 's', '\"', ':', '\"', '.', '\"', '}', ',', '{', '\"', 'n', '\"', ':', '\"', '.', '\"', ',', '\"', 's', '\"', ':', '\"', '.', '\"', '}', ']', '}', '{', '\"', 'a', '\"', ':', '[', '{', '\"', 'n', '\"', ':', '\"', '.', '\"', ',', '\"', 's', '\"', ':', '\"', '.', '\"', '}', ']', '}', '{', '\"', 'a', '\"', ':', '[', '{', '\"', 'n', '\"', ':', '\"', '.', '\"', ',', '\"', 's', '\"', ':', '\"', '.', '\"', '}', ']', '}', '{', '\"', 'a', '\"', ':', '[', '{', '\"', 'n', '\"', ':', '\"', '.', '\"', ',', '\"', 's', '\"', ':', '\"', '.', '\"', '}', ']', '}', '{', '\"', 'a', '\"', ':', '[', '{', '\"', 'n', '\"', ':', '\"', '.', '\"', ',', '\"', 's', '\"', ':', '\"', '.', '\"', '}', ']', '}', '{', '\"', 'a', '\"', ':', '[', '{', '\"', 'n', '\"', ':', '\"', '.', '\"', ',', '\"', 's', '\"', ':', '\"', '.', '\"', '}', ']', '}', '{', '\"', 'a', '\"', ':', '[', '{', '\"', 'n', '\"', ':', '\"', '.', '\"', ',', '\"', 's', '\"', ':', '\"', '.', '\"', '}', ',', '{', '\"', 'n', '\"', ':', '\"', '.', '\"', ',', '\"', 's', '\"', ':', '\"', '.', '\"', '}', ',', '{', '\"', 'n', '\"', ':', '\"', '.', '\"', ',', '\"', 's', '\"', ':', '\"', '.', '\"', '}', ',', '{', '\"', 'n', '\"', ':', '\"', '.', '\"', ',', '\"', 's', '\"', ':', '\"', '.', '\"', '}', ',', '{', '\"', 'n', '\"', ':', '\"', '.', '\"', ',', '\"', 's', '\"', ':', '\"', '.', '\"', '}', ',', '{', '\"', 'n', '\"', ':', '\"', '.', '\"', ',', '\"', 's', '\"', ':', '\"', '.', '\"', '}', ']', '}', '{', '\"', 'a', '\"', ':', '[', '{', '\"', 'n', '\"', ':', '\"', '.', '\"', ',', '\"', 's', '\"', ':', '\"', '.', '\"', '}', ',', '{', '\"', 'n', '\"', ':', '\"', '.', '\"', ',', '\"', 's', '\"', ':', '\"', '.', '\"', '}', ',', '{', '\"', 'n', '\"', ':', '\"', '.', '\"', ',', '\"', 's', '\"', ':', '\"', '.', '\"', '}', ',', '{', '\"', 'n', '\"', ':', '\"', '.', '\"', ',', '\"', 's', '\"', ':', '\"', '.', '\"', '}', ',', '{', '\"', 'n', '\"', ':', '\"', '.', '\"', ',', '\"', 's', '\"', ':', '\"', '.', '\"', '}', ',', '{', '\"', 'n', '\"', ':', '\"', '.', '\"', ',', '\"', 's', '\"', ':', '\"', '.', '\"', '}', ']', '}', '{', '\"', 'a', '\"', ':', '[', '{', '\"', 'n', '\"', ':', '\"', '.', '\"', ',', '\"', 's', '\"', ':', '\"', '.', '\"', '}', ']', '}', '{', '\"', 'a', '\"', ':', '[', '{', '\"', 'n', '\"', ':', '\"', '.', '\"', ',', '\"', 's', '\"', ':', '\"', '.', '\"', '}', ',', '{', '\"', 'n', '\"', ':', '\"', '.', '\"', ',', '\"', 's', '\"', ':', '\"', '.', '\"', '}', ',', '{', '\"', 'n', '\"', ':', '\"', '.', '\"', ',', '\"', 's', '\"', ':', '\"', '.', '\"', '}', ',', '{', '\"', 'n', '\"', ':', '\"', '.', '\"', ',', '\"', 's', '\"', ':', '\"', '.', '\"', '}', ',', '{', '\"', 'n', '\"', ':', '\"', '.', '\"', ',', '\"', 's', '\"', ':', '\"', '.', '\"', '}', ']', '}', '{', '\"', 'a', '\"', ':', '[', '{', '\"', 'n', '\"', ':', '\"', '.', '\"', ',', '\"', 's', '\"', ':', '\"', '.', '\"', '}', ',', '{', '\"', 'n', '\"', ':', '\"', '.', '\"', ',', '\"', 's', '\"', ':', '\"', '.', '\"', '}', ',', '{', '\"', 'n', '\"', ':', '\"', '.', '\"', ',', '\"', 's', '\"', ':', '\"', '.', '\"', '}', ',', '{', '\"', 'n', '\"', ':', '\"', '.', '\"', ',', '\"', 's', '\"', ':', '\"', '.', '\"', '}', ',', '{', '\"', 'n', '\"', ':', '\"', '.', '\"', ',', '\"', 's', '\"', ':', '\"', '.', '\"', '}', ',', '{', '\"', 'n', '\"', ':', '\"', '.', '\"', ',', '\"', 's', '\"', ':', '\"', '.', '\"', '}', ']', '}', '{', '\"', 'a', '\"', ':', '[', '{', '\"', 'n', '\"', ':', '\"', '.', '\"', ',', '\"', 's', '\"', ':', '\"', '.', '\"', '}', ']', '}', '{', '\"', 'a', '\"', ':', '[', '{', '\"', 'n', '\"', ':', '\"', '.', '\"', ',', '\"', 's', '\"', ':', '\"', '.', '\"', '}', ']', '}', '{', '\"', 'a', '\"', ':', '[', '{', '\"', 'n', '\"', ':', '\"', '.', '\"', ',', '\"', 's', '\"', ':', '\"', '.', '\"', '}', ',', '{', '\"', 'n', '\"', ':', '\"', '.', '\"', ',', '\"', 's', '\"', ':', '\"', '.', '\"', '}', ',', '{', '\"', 'n', '\"', ':', '\"', '.', '\"', ',', '\"', 's', '\"', ':', '\"', '.', '\"', '}', ',', '{', '\"', 'n', '\"', ':', '\"', '.', '\"', ',', '\"', 's', '\"', ':', '\"', '.', '\"', '}', ',', '{', '\"', 'n', '\"', ':', '\"', '.', '\"', ',', '\"', 's', '\"', ':', '\"', '.', '\"', '}', ',', '{', '\"', 'n', '\"', ':', '\"', '.', '\"', ',', '\"', 's', '\"', ':', '\"', '.', '\"', '}', ']', '}', '{', '\"', 'a', '\"', ':', '[', '{', '\"', 'n', '\"', ':', '\"', '.', '\"', ',', '\"', 's', '\"', ':', '\"', '.', '\"', '}', ',', '{', '\"', 'n', '\"', ':', '\"', '.', '\"', ',', '\"', 's', '\"', ':', '\"', '.', '\"', '}', ',', '{', '\"', 'n', '\"', ':', '\"', '.', '\"', ',', '\"', 's', '\"', ':', '\"', '.', '\"', '}', ',', '{', '\"', 'n', '\"', ':', '\"', '.', '\"', ',', '\"', 's', '\"', ':', '\"', '.', '\"', '}', ']', '}', '{', '\"', 'a', '\"', ':', '[', '{', '\"', 'n', '\"', ':', '\"', '.', '\"', ',', '\"', 's', '\"', ':', '\"', '.', '\"', '}', ',', '{', '\"', 'n', '\"', ':', '\"', '.', '\"', ',', '\"', 's', '\"', ':', '\"', '.', '\"', '}', ',', '{', '\"', 'n', '\"', ':', '\"', '.', '\"', ',', '\"', 's', '\"', ':', '\"', '.', '\"', '}', ']', '}', '{', '\"', 'a', '\"', ':', '[', '{', '\"', 'n', '\"', ':', '\"', '.', '\"', ',', '\"', 's', '\"', ':', '\"', '.', '\"', '}', ',', '{', '\"', 'n', '\"', ':', '\"', '.', '\"', ',', '\"', 's', '\"', ':', '\"', '.', '\"', '}', ',', '{', '\"', 'n', '\"', ':', '\"', '.', '\"', ',', '\"', 's', '\"', ':', '\"', '.', '\"', '}', ',', '{', '\"', 'n', '\"', ':', '\"', '.', '\"', ',', '\"', 's', '\"', ':', '\"', '.', '\"', '}', ',', '{', '\"', 'n', '\"', ':', '\"', '.', '\"', ',', '\"', 's', '\"', ':', '\"', '.', '\"', '}', ',', '{', '\"', 'n', '\"', ':', '\"', '.', '\"', ',', '\"', 's', '\"', ':', '\"', '.', '\"', '}', ']', '}', '{', '\"', 'a', '\"', ':', '[', '{', '\"', 'n', '\"', ':', '\"', '.', '\"', ',', '\"', 's', '\"', ':', '\"', '.', '\"', '}', ']', '}', '{', '\"', 'a', '\"', ':', '[', '{', '\"', 'n', '\"', ':', '\"', '.', '\"', ',', '\"', 's', '\"', ':', '\"', '.', '\"', '}', ',', '{', '\"', 'n', '\"', ':', '\"', '.', '\"', ',', '\"', 's', '\"', ':', '\"', '.', '\"', '}', ',', '{', '\"', 'n', '\"', ':', '\"', '.', '\"', ',', '\"', 's', '\"', ':', '\"', '.', '\"', '}', ',', '{', '\"', 'n', '\"', ':', '\"', '.', '\"', ',', '\"', 's', '\"', ':', '\"', '.', '\"', '}', ',', '{', '\"', 'n', '\"', ':', '\"', '.', '\"', ',', '\"', 's', '\"', ':', '\"', '.', '\"', '}', ',', '{', '\"', 'n', '\"', ':', '\"', '.', '\"', ',', '\"', 's', '\"', ':', '\"', '.', '\"', '}', ']', '}', '{', '\"', 'a', '\"', ':', '[', '{', '\"', 'n', '\"', ':', '\"', '.', '\"', ',', '\"', 's', '\"', ':', '\"', '.', '\"', '}', ',', '{', '\"', 'n', '\"', ':', '\"', '.', '\"', ',', '\"', 's', '\"', ':', '\"', '.', '\"', '}', ']', '}', '{', '\"', 'a', '\"', ':', '[', '{', '\"', 'n', '\"', ':', '\"', '.', '\"', ',', '\"', 's', '\"', ':', '\"', '.', '\"', '}', ',', '{', '\"', 'n', '\"', ':', '\"', '.', '\"', ',', '\"', 's', '\"', ':', '\"', '.', '\"', '}', ',', '{', '\"', 'n', '\"', ':', '\"', '.', '\"', ',', '\"', 's', '\"', ':', '\"', '.', '\"', '}', ',', '{', '\"', 'n', '\"', ':', '\"', '.', '\"', ',', '\"', 's', '\"', ':', '\"', '.', '\"', '}', ']', '}', '{', '\"', 'a', '\"', ':', '[', '{', '\"', 'n', '\"', ':', '\"', '.', '\"', ',', '\"', 's', '\"', ':', '\"', '.', '\"', '}', ']', '}', '{', '\"', 'a', '\"', ':', '[', '{', '\"', 'n', '\"', ':', '\"', '.', '\"', ',', '\"', 's', '\"', ':', '\"', '.', '\"', '}', ']', '}', '{', '\"', 'a', '\"', ':', '[', '{', '\"', 'n', '\"', ':', '\"', '.', '\"', ',', '\"', 's', '\"', ':', '\"', '.', '\"', '}', ',', '{', '\"', 'n', '\"', ':', '\"', '.', '\"', ',', '\"', 's', '\"', ':', '\"', '.', '\"', '}', ',', '{', '\"', 'n', '\"', ':', '\"', '.', '\"', ',', '\"', 's', '\"', ':', '\"', '.', '\"', '}', ']', '}', '{', '\"', 'a', '\"', ':', '[', '{', '\"', 'n', '\"', ':', '\"', '.', '\"', ',', '\"', 's', '\"', ':', '\"', '.', '\"', '}', ',', '{', '\"', 'n', '\"', ':', '\"', '.', '\"', ',', '\"', 's', '\"', ':', '\"', '.', '\"', '}', ']', '}', '{', '\"', 'a', '\"', ':', '[', '{', '\"', 'n', '\"', ':', '\"', '.', '\"', ',', '\"', 's', '\"', ':', '\"', '.', '\"', '}', ',', '{', '\"', 'n', '\"', ':', '\"', '.', '\"', ',', '\"', 's', '\"', ':', '\"', '.', '\"', '}', ',', '{', '\"', 'n', '\"', ':', '\"', '.', '\"', ',', '\"', 's', '\"', ':', '\"', '.', '\"', '}', ']', '}', '{', '\"', 'a', '\"', ':', '[', '{', '\"', 'n', '\"', ':', '\"', '.', '\"', ',', '\"', 's', '\"', ':', '\"', '.', '\"', '}', ',', '{', '\"', 'n', '\"', ':', '\"', '.', '\"', ',', '\"', 's', '\"', ':', '\"', '.', '\"', '}', ',', '{', '\"', 'n', '\"', ':', '\"', '.', '\"', ',', '\"', 's', '\"', ':', '\"', '.', '\"', '}', ']', '}', '{', '\"', 'a', '\"', ':', '[', '{', '\"', 'n', '\"', ':', '\"', '.', '\"', ',', '\"', 's', '\"', ':', '\"', '.', '\"', '}', ',', '{', '\"', 'n', '\"', ':', '\"', '.', '\"', ',', '\"', 's', '\"', ':', '\"', '.', '\"', '}', ',', '{', '\"', 'n', '\"', ':', '\"', '.', '\"', ',', '\"', 's', '\"', ':', '\"', '.', '\"', '}', ',', '{', '\"', 'n', '\"', ':', '\"', '.', '\"', ',', '\"', 's', '\"', ':', '\"', '.', '\"', '}', ',', '{', '\"', 'n', '\"', ':', '\"', '.', '\"', ',', '\"', 's', '\"', ':', '\"', '.', '\"', '}', ']', '}', '{', '\"', 'a', '\"', ':', '[', '{', '\"', 'n', '\"', ':', '\"', '.', '\"', ',', '\"', 's', '\"', ':', '\"', '.', '\"', '}', ',', '{', '\"', 'n', '\"', ':', '\"', '.', '\"', ',', '\"', 's', '\"', ':', '\"', '.', '\"', '}', ',', '{', '\"', 'n', '\"', ':', '\"', '.', '\"', ',', '\"', 's', '\"', ':', '\"', '.', '\"', '}', ',', '{', '\"', 'n', '\"', ':', '\"', '.', '\"', ',', '\"', 's', '\"', ':', '\"', '.', '\"', '}', ',', '{', '\"', 'n', '\"', ':', '\"', '.', '\"', ',', '\"', 's', '\"', ':', '\"', '.', '\"', '}', ',', '{', '\"', 'n', '\"', ':', '\"', '.', '\"', ',', '\"', 's', '\"', ':', '\"', '.', '\"', '}', ']', '}', '{', '\"', 'a', '\"', ':', '[', '{', '\"', 'n', '\"', ':', '\"', '.', '\"', ',', '\"', 's', '\"', ':', '\"', '.', '\"', '}', ']', '}', '{', '\"', 'a', '\"', ':', '[', '{', '\"', 'n', '\"', ':', '\"', '.', '\"', ',', '\"', 's', '\"', ':', '\"', '.', '\"', '}', ',', '{', '\"', 'n', '\"', ':', '\"', '.', '\"', ',', '\"', 's', '\"', ':', '\"', '.', '\"', '}', ',', '{', '\"', 'n', '\"', ':', '\"', '.', '\"', ',', '\"', 's', '\"', ':', '\"', '.', '\"', '}', ',', '{', '\"', 'n', '\"', ':', '\"', '.', '\"', ',', '\"', 's', '\"', ':', '\"', '.', '\"', '}', ',', '{', '\"', 'n', '\"', ':', '\"', '.', '\"', ',', '\"', 's', '\"', ':', '\"', '.', '\"', '}', ']', '}', '{', '\"', 'a', '\"', ':', '[', '{', '\"', 'n', '\"', ':', '\"', '.', '\"', ',', '\"', 's', '\"', ':', '\"', '.', '\"', '}', ',', '{', '\"', 'n', '\"', ':', '\"', '.', '\"', ',', '\"', 's', '\"', ':', '\"', '.', '\"', '}', ',', '{', '\"', 'n', '\"', ':', '\"', '.', '\"', ',', '\"', 's', '\"', ':', '\"', '.', '\"', '}', ',', '{', '\"', 'n', '\"', ':', '\"', '.', '\"', ',', '\"', 's', '\"', ':', '\"', '.', '\"', '}', ']', '}', '{', '\"', 'a', '\"', ':', '[', '{', '\"', 'n', '\"', ':', '\"', '.', '\"', ',', '\"', 's', '\"', ':', '\"', '.', '\"', '}', ',', '{', '\"', 'n', '\"', ':', '\"', '.', '\"', ',', '\"', 's', '\"', ':', '\"', '.', '\"', '}', ',', '{', '\"', 'n', '\"', ':', '\"', '.', '\"', ',', '\"', 's', '\"', ':', '\"', '.', '\"', '}', ',', '{', '\"', 'n', '\"', ':', '\"', '.', '\"', ',', '\"', 's', '\"', ':', '\"', '.', '\"', '}', ',', '{', '\"', 'n', '\"', ':', '\"', '.', '\"', ',', '\"', 's', '\"', ':', '\"', '.', '\"', '}', ']', '}', '{', '\"', 'a', '\"', ':', '[', '{', '\"', 'n', '\"', ':', '\"', '.', '\"', ',', '\"', 's', '\"', ':', '\"', '.', '\"', '}', ',', '{', '\"', 'n', '\"', ':', '\"', '.', '\"', ',', '\"', 's', '\"', ':', '\"', '.', '\"', '}', ',', '{', '\"', 'n', '\"', ':', '\"', '.', '\"', ',', '\"', 's', '\"', ':', '\"', '.', '\"', '}', ']', '}', '{', '\"', 'a', '\"', ':', '[', '{', '\"', 'n', '\"', ':', '\"', '.', '\"', ',', '\"', 's', '\"', ':', '\"', '.', '\"', '}', ',', '{', '\"', 'n', '\"', ':', '\"', '.', '\"', ',', '\"', 's', '\"', ':', '\"', '.', '\"', '}', ',', '{', '\"', 'n', '\"', ':', '\"', '.', '\"', ',', '\"', 's', '\"', ':', '\"', '.', '\"', '}', ',', '{', '\"', 'n', '\"', ':', '\"', '.', '\"', ',', '\"', 's', '\"', ':', '\"', '.', '\"', '}', ',', '{', '\"', 'n', '\"', ':', '\"', '.', '\"', ',', '\"', 's', '\"', ':', '\"', '.', '\"', '}', ']', '}', '{', '\"', 'a', '\"', ':', '[', '{', '\"', 'n', '\"', ':', '\"', '.', '\"', ',', '\"', 's', '\"', ':', '\"', '.', '\"', '}', ',', '{', '\"', 'n', '\"', ':', '\"', '.', '\"', ',', '\"', 's', '\"', ':', '\"', '.', '\"', '}', ',', '{', '\"', 'n', '\"', ':', '\"', '.', '\"', ',', '\"', 's', '\"', ':', '\"', '.', '\"', '}', ']', '}', '{', '\"', 'a', '\"', ':', '[', '{', '\"', 'n', '\"', ':', '\"', '.', '\"', ',', '\"', 's', '\"', ':', '\"', '.', '\"', '}', ',', '{', '\"', 'n', '\"', ':', '\"', '.', '\"', ',', '\"', 's', '\"', ':', '\"', '.', '\"', '}', ',', '{', '\"', 'n', '\"', ':', '\"', '.', '\"', ',', '\"', 's', '\"', ':', '\"', '.', '\"', '}', ',', '{', '\"', 'n', '\"', ':', '\"', '.', '\"', ',', '\"', 's', '\"', ':', '\"', '.', '\"', '}', ',', '{', '\"', 'n', '\"', ':', '\"', '.', '\"', ',', '\"', 's', '\"', ':', '\"', '.', '\"', '}', ',', '{', '\"', 'n', '\"', ':', '\"', '.', '\"', ',', '\"', 's', '\"', ':', '\"', '.', '\"', '}', ']', '}', '{', '\"', 'a', '\"', ':', '[', '{', '\"', 'n', '\"', ':', '\"', '.', '\"', ',', '\"', 's', '\"', ':', '\"', '.', '\"', '}', ']', '}', '{', '\"', 'a', '\"', ':', '[', '{', '\"', 'n', '\"', ':', '\"', '.', '\"', ',', '\"', 's', '\"', ':', '\"', '.', '\"', '}', ',', '{', '\"', 'n', '\"', ':', '\"', '.', '\"', ',', '\"', 's', '\"', ':', '\"', '.', '\"', '}', ',', '{', '\"', 'n', '\"', ':', '\"', '.', '\"', ',', '\"', 's', '\"', ':', '\"', '.', '\"', '}', ']', '}', '{', '\"', 'a', '\"', ':', '[', '{', '\"', 'n', '\"', ':', '\"', '.', '\"', ',', '\"', 's', '\"', ':', '\"', '.', '\"', '}', ',', '{', '\"', 'n', '\"', ':', '\"', '.', '\"', ',', '\"', 's', '\"', ':', '\"', '.', '\"', '}', ',', '{', '\"', 'n', '\"', ':', '\"', '.', '\"', ',', '\"', 's', '\"', ':', '\"', '.', '\"', '}', ']', '}', '{', '\"', 'a', '\"', ':', '[', '{', '\"', 'n', '\"', ':', '\"', '.', '\"', ',', '\"', 's', '\"', ':', '\"', '.', '\"', '}', ']', '}', '{', '\"', 'a', '\"', ':', '[', '{', '\"', 'n', '\"', ':', '\"', '.', '\"', ',', '\"', 's', '\"', ':', '\"', '.', '\"', '}', ',', '{', '\"', 'n', '\"', ':', '\"', '.', '\"', ',', '\"', 's', '\"', ':', '\"', '.', '\"', '}', ',', '{', '\"', 'n', '\"', ':', '\"', '.', '\"', ',', '\"', 's', '\"', ':', '\"', '.', '\"', '}', ',', '{', '\"', 'n', '\"', ':', '\"', '.', '\"', ',', '\"', 's', '\"', ':', '\"', '.', '\"', '}', ']', '}', '{', '\"', 'a', '\"', ':', '[', '{', '\"', 'n', '\"', ':', '\"', '.', '\"', ',', '\"', 's', '\"', ':', '\"', '.', '\"', '}', ',', '{', '\"', 'n', '\"', ':', '\"', '.', '\"', ',', '\"', 's', '\"', ':', '\"', '.', '\"', '}', ',', '{', '\"', 'n', '\"', ':', '\"', '.', '\"', ',', '\"', 's', '\"', ':', '\"', '.', '\"', '}', ',', '{', '\"', 'n', '\"', ':', '\"', '.', '\"', ',', '\"', 's', '\"', ':', '\"', '.', '\"', '}', ']', '}', '{', '\"', 'a', '\"', ':', '[', '{', '\"', 'n', '\"', ':', '\"', '.', '\"', ',', '\"', 's', '\"', ':', '\"', '.', '\"', '}', ',', '{', '\"', 'n', '\"', ':', '\"', '.', '\"', ',', '\"', 's', '\"', ':', '\"', '.', '\"', '}', ',', '{', '\"', 'n', '\"', ':', '\"', '.', '\"', ',', '\"', 's', '\"', ':', '\"', '.', '\"', '}', ']', '}', '{', '\"', 'a', '\"', ':', '[', '{', '\"', 'n', '\"', ':', '\"', '.', '\"', ',', '\"', 's', '\"', ':', '\"', '.', '\"', '}', ',', '{', '\"', 'n', '\"', ':', '\"', '.', '\"', ',', '\"', 's', '\"', ':', '\"', '.', '\"', '}', ',', '{', '\"', 'n', '\"', ':', '\"', '.', '\"', ',', '\"', 's', '\"', ':', '\"', '.', '\"', '}', ',', '{', '\"', 'n', '\"', ':', '\"', '.', '\"', ',', '\"', 's', '\"', ':', '\"', '.', '\"', '}', ',', '{', '\"', 'n', '\"', ':', '\"', '.', '\"', ',', '\"', 's', '\"', ':', '\"', '.', '\"', '}', ',', '{', '\"', 'n', '\"', ':', '\"', '.', '\"', ',', '\"', 's', '\"', ':', '\"', '.', '\"', '}', ']', '}', '</s>', '</s>']\n",
            "N-gram counts: <NgramCounter with 3 ngram orders and 24885 ngrams>\n"
          ]
        }
      ]
    },
    {
      "cell_type": "code",
      "source": [
        "def predict_next_char(context):\n",
        "    for i in range(len(context), 0, -1):\n",
        "        sub_context = context[-i:]\n",
        "        try:\n",
        "            return model.generate(1, text_seed=sub_context)\n",
        "        except ValueError:\n",
        "            continue\n",
        "    return model.generate(1)"
      ],
      "metadata": {
        "id": "c6VmNupWiC_r"
      },
      "execution_count": 19,
      "outputs": []
    },
    {
      "cell_type": "code",
      "source": [
        "context = ['{', '\"', 'a', '\"', ':', '[']\n",
        "next_char = predict_next_char(context)\n",
        "print(f\"Context: {context}, Predicted next character: {next_char}\")"
      ],
      "metadata": {
        "colab": {
          "base_uri": "https://localhost:8080/"
        },
        "id": "Gl_1In2iiFTJ",
        "outputId": "59bfb3ba-da64-4fb1-e101-921bac3464e9"
      },
      "execution_count": 20,
      "outputs": [
        {
          "output_type": "stream",
          "name": "stdout",
          "text": [
            "Context: ['{', '\"', 'a', '\"', ':', '['], Predicted next character: {\n"
          ]
        }
      ]
    },
    {
      "cell_type": "code",
      "source": [
        "check_map = {\n",
        "    'a': 'names',\n",
        "    'n': 'name',\n",
        "    's': 'surname'\n",
        "}\n",
        "# if '.' appears it means that bigger model must run prediction"
      ],
      "metadata": {
        "id": "-Y8irFcSkU_e"
      },
      "execution_count": 21,
      "outputs": []
    },
    {
      "cell_type": "code",
      "source": [
        "!pip install transformers"
      ],
      "metadata": {
        "colab": {
          "base_uri": "https://localhost:8080/"
        },
        "id": "xEOYtaRSoKOn",
        "outputId": "9abb7086-9056-42c8-bd3e-779e947ff4dc"
      },
      "execution_count": 22,
      "outputs": [
        {
          "output_type": "stream",
          "name": "stdout",
          "text": [
            "Requirement already satisfied: transformers in /usr/local/lib/python3.11/dist-packages (4.47.1)\n",
            "Requirement already satisfied: filelock in /usr/local/lib/python3.11/dist-packages (from transformers) (3.16.1)\n",
            "Requirement already satisfied: huggingface-hub<1.0,>=0.24.0 in /usr/local/lib/python3.11/dist-packages (from transformers) (0.27.1)\n",
            "Requirement already satisfied: numpy>=1.17 in /usr/local/lib/python3.11/dist-packages (from transformers) (1.26.4)\n",
            "Requirement already satisfied: packaging>=20.0 in /usr/local/lib/python3.11/dist-packages (from transformers) (24.2)\n",
            "Requirement already satisfied: pyyaml>=5.1 in /usr/local/lib/python3.11/dist-packages (from transformers) (6.0.2)\n",
            "Requirement already satisfied: regex!=2019.12.17 in /usr/local/lib/python3.11/dist-packages (from transformers) (2024.11.6)\n",
            "Requirement already satisfied: requests in /usr/local/lib/python3.11/dist-packages (from transformers) (2.32.3)\n",
            "Requirement already satisfied: tokenizers<0.22,>=0.21 in /usr/local/lib/python3.11/dist-packages (from transformers) (0.21.0)\n",
            "Requirement already satisfied: safetensors>=0.4.1 in /usr/local/lib/python3.11/dist-packages (from transformers) (0.5.2)\n",
            "Requirement already satisfied: tqdm>=4.27 in /usr/local/lib/python3.11/dist-packages (from transformers) (4.67.1)\n",
            "Requirement already satisfied: fsspec>=2023.5.0 in /usr/local/lib/python3.11/dist-packages (from huggingface-hub<1.0,>=0.24.0->transformers) (2024.10.0)\n",
            "Requirement already satisfied: typing-extensions>=3.7.4.3 in /usr/local/lib/python3.11/dist-packages (from huggingface-hub<1.0,>=0.24.0->transformers) (4.12.2)\n",
            "Requirement already satisfied: charset-normalizer<4,>=2 in /usr/local/lib/python3.11/dist-packages (from requests->transformers) (3.4.1)\n",
            "Requirement already satisfied: idna<4,>=2.5 in /usr/local/lib/python3.11/dist-packages (from requests->transformers) (3.10)\n",
            "Requirement already satisfied: urllib3<3,>=1.21.1 in /usr/local/lib/python3.11/dist-packages (from requests->transformers) (2.3.0)\n",
            "Requirement already satisfied: certifi>=2017.4.17 in /usr/local/lib/python3.11/dist-packages (from requests->transformers) (2024.12.14)\n"
          ]
        }
      ]
    },
    {
      "cell_type": "code",
      "source": [
        "from transformers import AutoModelForCausalLM, AutoTokenizer\n",
        "import torch"
      ],
      "metadata": {
        "id": "tWDpKCM5knMk"
      },
      "execution_count": 23,
      "outputs": []
    },
    {
      "cell_type": "code",
      "source": [
        "!huggingface-cli login"
      ],
      "metadata": {
        "colab": {
          "base_uri": "https://localhost:8080/"
        },
        "id": "anCla0WooR_Q",
        "outputId": "264aa01d-ff1e-4095-d464-88aa8edee16a"
      },
      "execution_count": 24,
      "outputs": [
        {
          "output_type": "stream",
          "name": "stdout",
          "text": [
            "\n",
            "    _|    _|  _|    _|    _|_|_|    _|_|_|  _|_|_|  _|      _|    _|_|_|      _|_|_|_|    _|_|      _|_|_|  _|_|_|_|\n",
            "    _|    _|  _|    _|  _|        _|          _|    _|_|    _|  _|            _|        _|    _|  _|        _|\n",
            "    _|_|_|_|  _|    _|  _|  _|_|  _|  _|_|    _|    _|  _|  _|  _|  _|_|      _|_|_|    _|_|_|_|  _|        _|_|_|\n",
            "    _|    _|  _|    _|  _|    _|  _|    _|    _|    _|    _|_|  _|    _|      _|        _|    _|  _|        _|\n",
            "    _|    _|    _|_|      _|_|_|    _|_|_|  _|_|_|  _|      _|    _|_|_|      _|        _|    _|    _|_|_|  _|_|_|_|\n",
            "\n",
            "    To log in, `huggingface_hub` requires a token generated from https://huggingface.co/settings/tokens .\n",
            "Enter your token (input will not be visible): \n",
            "Add token as git credential? (Y/n) n\n",
            "Token is valid (permission: write).\n",
            "The token `bellum` has been saved to /root/.cache/huggingface/stored_tokens\n",
            "Your token has been saved to /root/.cache/huggingface/token\n",
            "Login successful.\n",
            "The current active token is: `bellum`\n"
          ]
        }
      ]
    },
    {
      "cell_type": "code",
      "source": [
        "llama_model_name = \"meta-llama/Llama-3.2-1B-Instruct\"\n",
        "tokenizer = AutoTokenizer.from_pretrained(llama_model_name)\n",
        "llama_model = AutoModelForCausalLM.from_pretrained(llama_model_name, torch_dtype=torch.float16)"
      ],
      "metadata": {
        "colab": {
          "base_uri": "https://localhost:8080/",
          "height": 333,
          "referenced_widgets": [
            "49462555bb2a4a348bff8e67c57f2215",
            "61cbbda19d2c4dd2bb9abb3641b1a88c",
            "2212fb12f47547c09d5305fab30c000b",
            "3e4ff8d48f5d4aa7a8ec0e5ee589259a",
            "156a9ed4c6ed4a4abd685c6ed3141fdb",
            "1562481dc9f54075a2c955e55b809509",
            "cf537ced5d3d415896dac54e645a42c1",
            "89be130509f64d778b9a109c0fc3ff36",
            "06bb8199bc0f46feac4f7b8e586a258b",
            "2a76f7973afc4d21aa01b6068a50914e",
            "cab00b090ee6438d9e9f2ce9a818ace9",
            "15d4b9a8d20246c687e92963c06aa580",
            "029be52c44ab426980ce0fa008122600",
            "322b0080e3b94b9083c87e3cafd15bcc",
            "af425f8f9fc54dd0b681120edc94a7e3",
            "f83fe140aa2d48d4892cbc13c87bc2b8",
            "508f01ba94e24a08af7fa3828a5bd37c",
            "88c950d8a4c040f7b5bc71c00c4787b7",
            "fb25bdff0ac24c0d97901857b1ea2922",
            "d4be3c1d73a54b1481603d58403f10ae",
            "cd36dd82bc184b7593f8914967020084",
            "1b8da728187c48a7bc44ca63ca7009bd",
            "d1a81e9cee2a48058e72b9ee625fced2",
            "78fc9fe36c694ce1ac6916843cdb7a6e",
            "4c9f637fb26f47d19deb2dc9395eaa7d",
            "4c93a4db0f384043869491afc3e06f48",
            "5545dcaa7945408a9072597eb3b7f2ea",
            "afe41c663a654bc3a8b77cc5d3a08b7f",
            "c485d806ef8546d3946e17868c823a0b",
            "560ff65328674895bbe8bf38e5a71b4e",
            "fde324d1ca8246d7b7f02ad4529fbe10",
            "a736a1a3908d4f69a151d22f66e77a5f",
            "b8717831dfb84cbbb22c9713f4bd953f",
            "553581e750cf460eb4c8223949161447",
            "46b14720d6f8476ca72b8ed8c970d824",
            "c6f77ace4afb4129ad57c4f3e6d0dd69",
            "da43daaa3f6e4f1cb74049f67779657e",
            "40d06c44b9ab4b0ca8d0b3b559c3e0f5",
            "0d9814f6e1ca491cbfc2eb0c9392f6d7",
            "b5f3dc4f11ee4e9694fc46c87a6fbff7",
            "a40bbac92e014513af4c0f3ee2709ee2",
            "4a265544ada74240bf09cca3d49782fc",
            "0366129298d04dffbe7c0c603fb40a88",
            "4bc8de08037f45528e1335be84c00032",
            "8f4ff9ed1f9b463cba8412b1f731ab5a",
            "e03302de160945e387418fef9df59a7c",
            "28a1c9407ac84e47b62a4a4612ef6a2a",
            "fcd22541a27640019b0f2a4d7acbff08",
            "3594f30d272743d39803db97f0725f80",
            "b199114a759c478883902f9fa3c21264",
            "680838c87b474a6c9bdd2e4e8649603a",
            "7e1c50e60d474c828673b3a5fe977741",
            "ffda2a5b565f4323914db3248941a3eb",
            "719d26715a7d4a1d97620532aac5210c",
            "18fd5357b5314fb6ad0c633662ff0c4c",
            "58c7f33cb66945459dc04760af8d3b14",
            "b17b46901b4143d49fb5e86483fb977c",
            "1f5d0d1179994479b5f0544dad5a5b10",
            "2a453adb16484ae698dfce9b39ac4856",
            "a6836be4e239438096292dd1ddd7459b",
            "3d76607d5aa9438f95a66fba895a977f",
            "2d59c6b51d08489d8e5624cb715a8a7d",
            "25ddf18b0d3c4c8c9c18702a6777da4c",
            "9865dc02337344439353dbd9887c408a",
            "c1f1a91ca81544c6a82fc425321e63c1",
            "6aa69d73a19b42cab10a0de5e4882465"
          ]
        },
        "id": "Z3SqRprcoPKW",
        "outputId": "3bb77901-b9bb-42d4-8623-538d27e01b03"
      },
      "execution_count": 25,
      "outputs": [
        {
          "output_type": "stream",
          "name": "stderr",
          "text": [
            "/usr/local/lib/python3.11/dist-packages/huggingface_hub/utils/_auth.py:94: UserWarning: \n",
            "The secret `HF_TOKEN` does not exist in your Colab secrets.\n",
            "To authenticate with the Hugging Face Hub, create a token in your settings tab (https://huggingface.co/settings/tokens), set it as secret in your Google Colab and restart your session.\n",
            "You will be able to reuse this secret in all of your notebooks.\n",
            "Please note that authentication is recommended but still optional to access public models or datasets.\n",
            "  warnings.warn(\n"
          ]
        },
        {
          "output_type": "display_data",
          "data": {
            "text/plain": [
              "tokenizer_config.json:   0%|          | 0.00/54.5k [00:00<?, ?B/s]"
            ],
            "application/vnd.jupyter.widget-view+json": {
              "version_major": 2,
              "version_minor": 0,
              "model_id": "49462555bb2a4a348bff8e67c57f2215"
            }
          },
          "metadata": {}
        },
        {
          "output_type": "display_data",
          "data": {
            "text/plain": [
              "tokenizer.json:   0%|          | 0.00/9.09M [00:00<?, ?B/s]"
            ],
            "application/vnd.jupyter.widget-view+json": {
              "version_major": 2,
              "version_minor": 0,
              "model_id": "15d4b9a8d20246c687e92963c06aa580"
            }
          },
          "metadata": {}
        },
        {
          "output_type": "display_data",
          "data": {
            "text/plain": [
              "special_tokens_map.json:   0%|          | 0.00/296 [00:00<?, ?B/s]"
            ],
            "application/vnd.jupyter.widget-view+json": {
              "version_major": 2,
              "version_minor": 0,
              "model_id": "d1a81e9cee2a48058e72b9ee625fced2"
            }
          },
          "metadata": {}
        },
        {
          "output_type": "display_data",
          "data": {
            "text/plain": [
              "config.json:   0%|          | 0.00/877 [00:00<?, ?B/s]"
            ],
            "application/vnd.jupyter.widget-view+json": {
              "version_major": 2,
              "version_minor": 0,
              "model_id": "553581e750cf460eb4c8223949161447"
            }
          },
          "metadata": {}
        },
        {
          "output_type": "display_data",
          "data": {
            "text/plain": [
              "model.safetensors:   0%|          | 0.00/2.47G [00:00<?, ?B/s]"
            ],
            "application/vnd.jupyter.widget-view+json": {
              "version_major": 2,
              "version_minor": 0,
              "model_id": "8f4ff9ed1f9b463cba8412b1f731ab5a"
            }
          },
          "metadata": {}
        },
        {
          "output_type": "display_data",
          "data": {
            "text/plain": [
              "generation_config.json:   0%|          | 0.00/189 [00:00<?, ?B/s]"
            ],
            "application/vnd.jupyter.widget-view+json": {
              "version_major": 2,
              "version_minor": 0,
              "model_id": "58c7f33cb66945459dc04760af8d3b14"
            }
          },
          "metadata": {}
        }
      ]
    },
    {
      "cell_type": "code",
      "source": [
        "def is_json(string):\n",
        "    json_chars = ['{', '}', '[', ']', ':', ',']\n",
        "    return any(char in string for char in json_chars)"
      ],
      "metadata": {
        "id": "cT4oJDh_oxvi"
      },
      "execution_count": 42,
      "outputs": []
    },
    {
      "cell_type": "code",
      "source": [
        "def speculative_decoding_with_alternation(prompt, max_length=100):\n",
        "    generated_text = prompt\n",
        "    device = torch.device(\"cuda\" if torch.cuda.is_available() else \"cpu\")\n",
        "    llama_input_ids = tokenizer(prompt, return_tensors=\"pt\").input_ids.to(device)\n",
        "    ngram_active = False\n",
        "    llama_model.to(device)\n",
        "\n",
        "    for _ in range(max_length):\n",
        "        if not ngram_active:\n",
        "            with torch.no_grad():\n",
        "                outputs = llama_model.generate(\n",
        "                    llama_input_ids,\n",
        "                    max_new_tokens=1,\n",
        "                    do_sample=False,\n",
        "                    pad_token_id=tokenizer.eos_token_id\n",
        "                )\n",
        "            next_token_id = outputs[0, -1].item()\n",
        "            next_token = tokenizer.decode(next_token_id)\n",
        "            generated_text += next_token\n",
        "\n",
        "            print(f\"Generated by Llama: {generated_text}\")\n",
        "            if is_json(next_token):\n",
        "                ngram_active = True\n",
        "\n",
        "        else:\n",
        "            context = list(generated_text[-(n - 1):])\n",
        "            try:\n",
        "                next_ngram_token = model.generate(1, text_seed=context)\n",
        "            except ValueError:\n",
        "                next_ngram_token = None\n",
        "\n",
        "            if next_ngram_token:\n",
        "                generated_text += next_ngram_token\n",
        "\n",
        "                if next_ngram_token == '.':\n",
        "                    ngram_active = False\n",
        "\n",
        "            else:\n",
        "                ngram_active = False\n",
        "\n",
        "        llama_input_ids = tokenizer(generated_text, return_tensors=\"pt\").input_ids.cuda()\n",
        "\n",
        "        if generated_text.endswith('}') or generated_text.endswith(tokenizer.eos_token):\n",
        "            break\n",
        "\n",
        "    return generated_text\n",
        "\n",
        "prompt = \"\"\"In this text find all names and surname and provide an output as json: {'a': [{'n': '.', 's': '.'}]}\n",
        "An example of text: \"John Smith and Alice Brown went to the park.\"\n",
        "Output:\"{'a': [{'n': 'John', 's': 'Smith'}, {'n': 'Alice', 's': 'Brown'}]}\"\n",
        "Text: \"Simon Green opened his bar.\"\n",
        "Output:\"\"\"\n",
        "output = speculative_decoding_with_alternation(prompt, max_length=100)\n",
        "print(\"Generated JSON:\", output)"
      ],
      "metadata": {
        "colab": {
          "base_uri": "https://localhost:8080/"
        },
        "id": "bewKVkdyySKa",
        "outputId": "c9e4d5b6-685e-4cb6-d6a4-e32cb8b5a5d8"
      },
      "execution_count": 43,
      "outputs": [
        {
          "output_type": "stream",
          "name": "stdout",
          "text": [
            "Generated by Llama: In this text find all names and surname and provide an output as json: {'a': [{'n': '.', 's': '.'}]}\n",
            "An example of text: \"John Smith and Alice Brown went to the park.\"\n",
            "Output:\"{'a': [{'n': 'John', 's': 'Smith'}, {'n': 'Alice', 's': 'Brown'}]}\"\n",
            "Text: \"Simon Green opened his bar.\"\n",
            "Output: \"\n",
            "Generated by Llama: In this text find all names and surname and provide an output as json: {'a': [{'n': '.', 's': '.'}]}\n",
            "An example of text: \"John Smith and Alice Brown went to the park.\"\n",
            "Output:\"{'a': [{'n': 'John', 's': 'Smith'}, {'n': 'Alice', 's': 'Brown'}]}\"\n",
            "Text: \"Simon Green opened his bar.\"\n",
            "Output: \"{'\n",
            "Generated by Llama: In this text find all names and surname and provide an output as json: {'a': [{'n': '.', 's': '.'}]}\n",
            "An example of text: \"John Smith and Alice Brown went to the park.\"\n",
            "Output:\"{'a': [{'n': 'John', 's': 'Smith'}, {'n': 'Alice', 's': 'Brown'}]}\"\n",
            "Text: \"Simon Green opened his bar.\"\n",
            "Output: \"{'\"n\":\".\",\"\n",
            "Generated by Llama: In this text find all names and surname and provide an output as json: {'a': [{'n': '.', 's': '.'}]}\n",
            "An example of text: \"John Smith and Alice Brown went to the park.\"\n",
            "Output:\"{'a': [{'n': 'John', 's': 'Smith'}, {'n': 'Alice', 's': 'Brown'}]}\"\n",
            "Text: \"Simon Green opened his bar.\"\n",
            "Output: \"{'\"n\":\".\",\"s\":\".\",\"\n",
            "Generated by Llama: In this text find all names and surname and provide an output as json: {'a': [{'n': '.', 's': '.'}]}\n",
            "An example of text: \"John Smith and Alice Brown went to the park.\"\n",
            "Output:\"{'a': [{'n': 'John', 's': 'Smith'}, {'n': 'Alice', 's': 'Brown'}]}\"\n",
            "Text: \"Simon Green opened his bar.\"\n",
            "Output: \"{'\"n\":\".\",\"s\":\".\",\"s\":\".\",\"\n",
            "Generated by Llama: In this text find all names and surname and provide an output as json: {'a': [{'n': '.', 's': '.'}]}\n",
            "An example of text: \"John Smith and Alice Brown went to the park.\"\n",
            "Output:\"{'a': [{'n': 'John', 's': 'Smith'}, {'n': 'Alice', 's': 'Brown'}]}\"\n",
            "Text: \"Simon Green opened his bar.\"\n",
            "Output: \"{'\"n\":\".\",\"s\":\".\",\"s\":\".\",\"s\":[{\"a\":\".\",\"\n",
            "Generated by Llama: In this text find all names and surname and provide an output as json: {'a': [{'n': '.', 's': '.'}]}\n",
            "An example of text: \"John Smith and Alice Brown went to the park.\"\n",
            "Output:\"{'a': [{'n': 'John', 's': 'Smith'}, {'n': 'Alice', 's': 'Brown'}]}\"\n",
            "Text: \"Simon Green opened his bar.\"\n",
            "Output: \"{'\"n\":\".\",\"s\":\".\",\"s\":\".\",\"s\":[{\"a\":\".\",\"s\":\".\",\"\n",
            "Generated by Llama: In this text find all names and surname and provide an output as json: {'a': [{'n': '.', 's': '.'}]}\n",
            "An example of text: \"John Smith and Alice Brown went to the park.\"\n",
            "Output:\"{'a': [{'n': 'John', 's': 'Smith'}, {'n': 'Alice', 's': 'Brown'}]}\"\n",
            "Text: \"Simon Green opened his bar.\"\n",
            "Output: \"{'\"n\":\".\",\"s\":\".\",\"s\":\".\",\"s\":[{\"a\":\".\",\"s\":\".\",\"s\":\".\",\"\n",
            "Generated by Llama: In this text find all names and surname and provide an output as json: {'a': [{'n': '.', 's': '.'}]}\n",
            "An example of text: \"John Smith and Alice Brown went to the park.\"\n",
            "Output:\"{'a': [{'n': 'John', 's': 'Smith'}, {'n': 'Alice', 's': 'Brown'}]}\"\n",
            "Text: \"Simon Green opened his bar.\"\n",
            "Output: \"{'\"n\":\".\",\"s\":\".\",\"s\":\".\",\"s\":[{\"a\":\".\",\"s\":\".\",\"s\":\".\",\"s\":\".\",\"\n",
            "Generated by Llama: In this text find all names and surname and provide an output as json: {'a': [{'n': '.', 's': '.'}]}\n",
            "An example of text: \"John Smith and Alice Brown went to the park.\"\n",
            "Output:\"{'a': [{'n': 'John', 's': 'Smith'}, {'n': 'Alice', 's': 'Brown'}]}\"\n",
            "Text: \"Simon Green opened his bar.\"\n",
            "Output: \"{'\"n\":\".\",\"s\":\".\",\"s\":\".\",\"s\":[{\"a\":\".\",\"s\":\".\",\"s\":\".\",\"s\":\".\",\"s\":\".\",\"\n",
            "Generated by Llama: In this text find all names and surname and provide an output as json: {'a': [{'n': '.', 's': '.'}]}\n",
            "An example of text: \"John Smith and Alice Brown went to the park.\"\n",
            "Output:\"{'a': [{'n': 'John', 's': 'Smith'}, {'n': 'Alice', 's': 'Brown'}]}\"\n",
            "Text: \"Simon Green opened his bar.\"\n",
            "Output: \"{'\"n\":\".\",\"s\":\".\",\"s\":\".\",\"s\":[{\"a\":\".\",\"s\":\".\",\"s\":\".\",\"s\":\".\",\"s\":\".\",\"s\":\".\",\"\n",
            "Generated by Llama: In this text find all names and surname and provide an output as json: {'a': [{'n': '.', 's': '.'}]}\n",
            "An example of text: \"John Smith and Alice Brown went to the park.\"\n",
            "Output:\"{'a': [{'n': 'John', 's': 'Smith'}, {'n': 'Alice', 's': 'Brown'}]}\"\n",
            "Text: \"Simon Green opened his bar.\"\n",
            "Output: \"{'\"n\":\".\",\"s\":\".\",\"s\":\".\",\"s\":[{\"a\":\".\",\"s\":\".\",\"s\":\".\",\"s\":\".\",\"s\":\".\",\"s\":\".\",\"s\":\".\",\"\n",
            "Generated by Llama: In this text find all names and surname and provide an output as json: {'a': [{'n': '.', 's': '.'}]}\n",
            "An example of text: \"John Smith and Alice Brown went to the park.\"\n",
            "Output:\"{'a': [{'n': 'John', 's': 'Smith'}, {'n': 'Alice', 's': 'Brown'}]}\"\n",
            "Text: \"Simon Green opened his bar.\"\n",
            "Output: \"{'\"n\":\".\",\"s\":\".\",\"s\":\".\",\"s\":[{\"a\":\".\",\"s\":\".\",\"s\":\".\",\"s\":\".\",\"s\":\".\",\"s\":\".\",\"s\":\".\",\"s\":\".\",\"\n",
            "Generated by Llama: In this text find all names and surname and provide an output as json: {'a': [{'n': '.', 's': '.'}]}\n",
            "An example of text: \"John Smith and Alice Brown went to the park.\"\n",
            "Output:\"{'a': [{'n': 'John', 's': 'Smith'}, {'n': 'Alice', 's': 'Brown'}]}\"\n",
            "Text: \"Simon Green opened his bar.\"\n",
            "Output: \"{'\"n\":\".\",\"s\":\".\",\"s\":\".\",\"s\":[{\"a\":\".\",\"s\":\".\",\"s\":\".\",\"s\":\".\",\"s\":\".\",\"s\":\".\",\"s\":\".\",\"s\":\".\",\"s\":\".\",\"\n",
            "Generated by Llama: In this text find all names and surname and provide an output as json: {'a': [{'n': '.', 's': '.'}]}\n",
            "An example of text: \"John Smith and Alice Brown went to the park.\"\n",
            "Output:\"{'a': [{'n': 'John', 's': 'Smith'}, {'n': 'Alice', 's': 'Brown'}]}\"\n",
            "Text: \"Simon Green opened his bar.\"\n",
            "Output: \"{'\"n\":\".\",\"s\":\".\",\"s\":\".\",\"s\":[{\"a\":\".\",\"s\":\".\",\"s\":\".\",\"s\":\".\",\"s\":\".\",\"s\":\".\",\"s\":\".\",\"s\":\".\",\"s\":\".\",\"s\":\".\",\"\n",
            "Generated by Llama: In this text find all names and surname and provide an output as json: {'a': [{'n': '.', 's': '.'}]}\n",
            "An example of text: \"John Smith and Alice Brown went to the park.\"\n",
            "Output:\"{'a': [{'n': 'John', 's': 'Smith'}, {'n': 'Alice', 's': 'Brown'}]}\"\n",
            "Text: \"Simon Green opened his bar.\"\n",
            "Output: \"{'\"n\":\".\",\"s\":\".\",\"s\":\".\",\"s\":[{\"a\":\".\",\"s\":\".\",\"s\":\".\",\"s\":\".\",\"s\":\".\",\"s\":\".\",\"s\":\".\",\"s\":\".\",\"s\":\".\",\"s\":\".\",\"s\":[{\"a\":\".\",\"\n",
            "Generated JSON: In this text find all names and surname and provide an output as json: {'a': [{'n': '.', 's': '.'}]}\n",
            "An example of text: \"John Smith and Alice Brown went to the park.\"\n",
            "Output:\"{'a': [{'n': 'John', 's': 'Smith'}, {'n': 'Alice', 's': 'Brown'}]}\"\n",
            "Text: \"Simon Green opened his bar.\"\n",
            "Output: \"{'\"n\":\".\",\"s\":\".\",\"s\":\".\",\"s\":[{\"a\":\".\",\"s\":\".\",\"s\":\".\",\"s\":\".\",\"s\":\".\",\"s\":\".\",\"s\":\".\",\"s\":\".\",\"s\":\".\",\"s\":\".\",\"s\":[{\"a\":\".\",\"s\n"
          ]
        }
      ]
    },
    {
      "cell_type": "code",
      "source": [],
      "metadata": {
        "id": "P5GY_3XCy9fM"
      },
      "execution_count": null,
      "outputs": []
    }
  ]
}